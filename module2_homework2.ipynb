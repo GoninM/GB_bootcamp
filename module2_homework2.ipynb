{
 "cells": [
  {
   "cell_type": "markdown",
   "id": "designed-lucas",
   "metadata": {
    "id": "designed-lucas"
   },
   "source": [
    "### Pandas\n",
    "\n",
    "* Скачайте любой табличный датасет (можете использовать тот же, что и в дз к занятию \"Знакомство с библиотеками\"), например, с https://www.kaggle.com/datasets\n",
    "* Проведите поноценный EDA \n",
    "    * \"погрузитесь\" в данные\n",
    "    * составьте описание измерений из датасета\n",
    "    * очистите данные, если это необходимо\n",
    "    * попробуйте создать дополнительные переменные, которые могут помочь лучше понять данные"
   ]
  },
  {
   "cell_type": "code",
   "execution_count": 288,
   "id": "60cd25fb",
   "metadata": {},
   "outputs": [],
   "source": [
    "import pandas as pd\n"
   ]
  },
  {
   "cell_type": "code",
   "execution_count": 289,
   "id": "5ab7bcc2",
   "metadata": {},
   "outputs": [
    {
     "data": {
      "text/html": [
       "<div>\n",
       "<style scoped>\n",
       "    .dataframe tbody tr th:only-of-type {\n",
       "        vertical-align: middle;\n",
       "    }\n",
       "\n",
       "    .dataframe tbody tr th {\n",
       "        vertical-align: top;\n",
       "    }\n",
       "\n",
       "    .dataframe thead th {\n",
       "        text-align: right;\n",
       "    }\n",
       "</style>\n",
       "<table border=\"1\" class=\"dataframe\">\n",
       "  <thead>\n",
       "    <tr style=\"text-align: right;\">\n",
       "      <th></th>\n",
       "      <th>Car Names</th>\n",
       "      <th>Mileages</th>\n",
       "      <th>Ratings</th>\n",
       "      <th>Reviews</th>\n",
       "      <th>used/certified</th>\n",
       "      <th>price drop</th>\n",
       "      <th>Price</th>\n",
       "    </tr>\n",
       "  </thead>\n",
       "  <tbody>\n",
       "    <tr>\n",
       "      <th>0</th>\n",
       "      <td>2019 Honda Accord Sport</td>\n",
       "      <td>Mileage</td>\n",
       "      <td>3.7</td>\n",
       "      <td>(3 reviews)</td>\n",
       "      <td>Used</td>\n",
       "      <td>$501 price drop</td>\n",
       "      <td>$27,995</td>\n",
       "    </tr>\n",
       "    <tr>\n",
       "      <th>1</th>\n",
       "      <td>2015 Chevrolet Corvette Stingray Z51</td>\n",
       "      <td>29,192 mi.</td>\n",
       "      <td>3.7</td>\n",
       "      <td>(3 reviews)</td>\n",
       "      <td>Used</td>\n",
       "      <td>$277 price drop</td>\n",
       "      <td>$52,000</td>\n",
       "    </tr>\n",
       "    <tr>\n",
       "      <th>2</th>\n",
       "      <td>2020 Jeep Grand Cherokee Overland</td>\n",
       "      <td>53,561 mi.</td>\n",
       "      <td>4.8</td>\n",
       "      <td>(1,147 reviews)</td>\n",
       "      <td>Used</td>\n",
       "      <td>$2,000 price drop</td>\n",
       "      <td>$41,998</td>\n",
       "    </tr>\n",
       "    <tr>\n",
       "      <th>3</th>\n",
       "      <td>2019 Audi A7 3.0T Prestige</td>\n",
       "      <td>46,664 mi.</td>\n",
       "      <td>4.9</td>\n",
       "      <td>(1,831 reviews)</td>\n",
       "      <td>Used</td>\n",
       "      <td>$2,090 price drop</td>\n",
       "      <td>$62,750</td>\n",
       "    </tr>\n",
       "    <tr>\n",
       "      <th>4</th>\n",
       "      <td>2017 Ford Mustang GT Premium</td>\n",
       "      <td>21,726 mi.</td>\n",
       "      <td>4.0</td>\n",
       "      <td>(409 reviews)</td>\n",
       "      <td>Used</td>\n",
       "      <td>$200 price drop</td>\n",
       "      <td>$29,995</td>\n",
       "    </tr>\n",
       "  </tbody>\n",
       "</table>\n",
       "</div>"
      ],
      "text/plain": [
       "                              Car Names    Mileages  Ratings          Reviews  \\\n",
       "0               2019 Honda Accord Sport     Mileage      3.7      (3 reviews)   \n",
       "1  2015 Chevrolet Corvette Stingray Z51  29,192 mi.      3.7      (3 reviews)   \n",
       "2     2020 Jeep Grand Cherokee Overland  53,561 mi.      4.8  (1,147 reviews)   \n",
       "3            2019 Audi A7 3.0T Prestige  46,664 mi.      4.9  (1,831 reviews)   \n",
       "4          2017 Ford Mustang GT Premium  21,726 mi.      4.0    (409 reviews)   \n",
       "\n",
       "  used/certified         price drop    Price  \n",
       "0           Used    $501 price drop  $27,995  \n",
       "1           Used    $277 price drop  $52,000  \n",
       "2           Used  $2,000 price drop  $41,998  \n",
       "3           Used  $2,090 price drop  $62,750  \n",
       "4           Used    $200 price drop  $29,995  "
      ]
     },
     "execution_count": 289,
     "metadata": {},
     "output_type": "execute_result"
    }
   ],
   "source": [
    "df = pd.read_csv('new-used-cars-dataset.csv')\n",
    "df.head()"
   ]
  },
  {
   "cell_type": "code",
   "execution_count": 290,
   "id": "0385c3cd",
   "metadata": {},
   "outputs": [
    {
     "name": "stdout",
     "output_type": "stream",
     "text": [
      "<class 'pandas.core.frame.DataFrame'>\n",
      "RangeIndex: 9330 entries, 0 to 9329\n",
      "Data columns (total 7 columns):\n",
      " #   Column          Non-Null Count  Dtype  \n",
      "---  ------          --------------  -----  \n",
      " 0   Car Names       9330 non-null   object \n",
      " 1   Mileages        9330 non-null   object \n",
      " 2   Ratings         9330 non-null   float64\n",
      " 3   Reviews         9330 non-null   object \n",
      " 4   used/certified  9330 non-null   object \n",
      " 5   price drop      9330 non-null   object \n",
      " 6   Price           9330 non-null   object \n",
      "dtypes: float64(1), object(6)\n",
      "memory usage: 510.4+ KB\n"
     ]
    }
   ],
   "source": [
    "df.info()"
   ]
  },
  {
   "cell_type": "markdown",
   "id": "e8248ea2",
   "metadata": {},
   "source": [
    "#### первичный анализ\n",
    "много столбцов типа object, их нужно переделать в числовые\n",
    "CarNames - марка авто, сделать группировку, и заменить название на номер группы\n",
    "used/certified - used заменить на 1, остальное 0\n",
    "Price - убрать символы, перевеси в int\n",
    "price drop  - убрать символы, перевеси в int\n",
    "Reviews - убрать символы, перевеси в int\n",
    "Mileages - убрать символы, перевеси в int\n"
   ]
  },
  {
   "cell_type": "code",
   "execution_count": 321,
   "id": "3bf13412",
   "metadata": {},
   "outputs": [
    {
     "data": {
      "text/plain": [
       "0    $27,995\n",
       "1    $52,000\n",
       "2    $41,998\n",
       "3    $62,750\n",
       "4    $29,995\n",
       "Name: Price_d, dtype: object"
      ]
     },
     "execution_count": 321,
     "metadata": {},
     "output_type": "execute_result"
    }
   ],
   "source": [
    "#в столбце прайс буду убирать символ $ из начала строки и переводить его в числоваой формат\n",
    "df['Price_d'] = df['Price']\n",
    "df['Price_d'].head()"
   ]
  },
  {
   "cell_type": "code",
   "execution_count": 322,
   "id": "423a2c43",
   "metadata": {},
   "outputs": [
    {
     "data": {
      "text/plain": [
       "111     Not Priced\n",
       "2250    Not Priced\n",
       "4140    Not Priced\n",
       "Name: Price_d, dtype: object"
      ]
     },
     "execution_count": 322,
     "metadata": {},
     "output_type": "execute_result"
    }
   ],
   "source": [
    "df['Price_d'][df['Price_d']==\"Not Priced\"]"
   ]
  },
  {
   "cell_type": "code",
   "execution_count": 323,
   "id": "c752e416",
   "metadata": {},
   "outputs": [],
   "source": [
    "df['Price_d'].replace([\"Not Priced\"], \"0\",regex=True, inplace=True)"
   ]
  },
  {
   "cell_type": "code",
   "execution_count": 330,
   "id": "0e9709a6",
   "metadata": {},
   "outputs": [
    {
     "data": {
      "text/plain": [
       "0    27995\n",
       "1    52000\n",
       "2    41998\n",
       "3    62750\n",
       "4    29995\n",
       "Name: Price_d, dtype: int32"
      ]
     },
     "execution_count": 330,
     "metadata": {},
     "output_type": "execute_result"
    }
   ],
   "source": [
    "df['Price_d'].replace([\"\\D+\"], \"\",regex=True, inplace=True)\n",
    "df['Price_d'] = df['Price_d'].astype(int)\n",
    "df['Price_d'].head()"
   ]
  },
  {
   "cell_type": "code",
   "execution_count": 331,
   "id": "6fd9b8b9",
   "metadata": {},
   "outputs": [],
   "source": [
    "df['used']=df['used/certified']\n",
    "# df.rename(columns={'used/certified': 'used'}, inplace=True)"
   ]
  },
  {
   "cell_type": "code",
   "execution_count": 332,
   "id": "c93b1d2a",
   "metadata": {},
   "outputs": [
    {
     "data": {
      "text/html": [
       "<div>\n",
       "<style scoped>\n",
       "    .dataframe tbody tr th:only-of-type {\n",
       "        vertical-align: middle;\n",
       "    }\n",
       "\n",
       "    .dataframe tbody tr th {\n",
       "        vertical-align: top;\n",
       "    }\n",
       "\n",
       "    .dataframe thead th {\n",
       "        text-align: right;\n",
       "    }\n",
       "</style>\n",
       "<table border=\"1\" class=\"dataframe\">\n",
       "  <thead>\n",
       "    <tr style=\"text-align: right;\">\n",
       "      <th></th>\n",
       "      <th>Car Names</th>\n",
       "      <th>Mileages</th>\n",
       "      <th>Ratings</th>\n",
       "      <th>Reviews</th>\n",
       "      <th>used/certified</th>\n",
       "      <th>price drop</th>\n",
       "      <th>Price</th>\n",
       "      <th>Price_d</th>\n",
       "      <th>used</th>\n",
       "    </tr>\n",
       "  </thead>\n",
       "  <tbody>\n",
       "    <tr>\n",
       "      <th>0</th>\n",
       "      <td>2019 Honda Accord Sport</td>\n",
       "      <td>Mileage</td>\n",
       "      <td>3.7</td>\n",
       "      <td>(3 reviews)</td>\n",
       "      <td>Used</td>\n",
       "      <td>$501 price drop</td>\n",
       "      <td>$27,995</td>\n",
       "      <td>27995</td>\n",
       "      <td>1</td>\n",
       "    </tr>\n",
       "    <tr>\n",
       "      <th>1</th>\n",
       "      <td>2015 Chevrolet Corvette Stingray Z51</td>\n",
       "      <td>29,192 mi.</td>\n",
       "      <td>3.7</td>\n",
       "      <td>(3 reviews)</td>\n",
       "      <td>Used</td>\n",
       "      <td>$277 price drop</td>\n",
       "      <td>$52,000</td>\n",
       "      <td>52000</td>\n",
       "      <td>1</td>\n",
       "    </tr>\n",
       "    <tr>\n",
       "      <th>2</th>\n",
       "      <td>2020 Jeep Grand Cherokee Overland</td>\n",
       "      <td>53,561 mi.</td>\n",
       "      <td>4.8</td>\n",
       "      <td>(1,147 reviews)</td>\n",
       "      <td>Used</td>\n",
       "      <td>$2,000 price drop</td>\n",
       "      <td>$41,998</td>\n",
       "      <td>41998</td>\n",
       "      <td>1</td>\n",
       "    </tr>\n",
       "    <tr>\n",
       "      <th>3</th>\n",
       "      <td>2019 Audi A7 3.0T Prestige</td>\n",
       "      <td>46,664 mi.</td>\n",
       "      <td>4.9</td>\n",
       "      <td>(1,831 reviews)</td>\n",
       "      <td>Used</td>\n",
       "      <td>$2,090 price drop</td>\n",
       "      <td>$62,750</td>\n",
       "      <td>62750</td>\n",
       "      <td>1</td>\n",
       "    </tr>\n",
       "    <tr>\n",
       "      <th>4</th>\n",
       "      <td>2017 Ford Mustang GT Premium</td>\n",
       "      <td>21,726 mi.</td>\n",
       "      <td>4.0</td>\n",
       "      <td>(409 reviews)</td>\n",
       "      <td>Used</td>\n",
       "      <td>$200 price drop</td>\n",
       "      <td>$29,995</td>\n",
       "      <td>29995</td>\n",
       "      <td>1</td>\n",
       "    </tr>\n",
       "  </tbody>\n",
       "</table>\n",
       "</div>"
      ],
      "text/plain": [
       "                              Car Names    Mileages  Ratings          Reviews  \\\n",
       "0               2019 Honda Accord Sport     Mileage      3.7      (3 reviews)   \n",
       "1  2015 Chevrolet Corvette Stingray Z51  29,192 mi.      3.7      (3 reviews)   \n",
       "2     2020 Jeep Grand Cherokee Overland  53,561 mi.      4.8  (1,147 reviews)   \n",
       "3            2019 Audi A7 3.0T Prestige  46,664 mi.      4.9  (1,831 reviews)   \n",
       "4          2017 Ford Mustang GT Premium  21,726 mi.      4.0    (409 reviews)   \n",
       "\n",
       "  used/certified         price drop    Price  Price_d  used  \n",
       "0           Used    $501 price drop  $27,995    27995     1  \n",
       "1           Used    $277 price drop  $52,000    52000     1  \n",
       "2           Used  $2,000 price drop  $41,998    41998     1  \n",
       "3           Used  $2,090 price drop  $62,750    62750     1  \n",
       "4           Used    $200 price drop  $29,995    29995     1  "
      ]
     },
     "execution_count": 332,
     "metadata": {},
     "output_type": "execute_result"
    }
   ],
   "source": [
    "df['used'] = df.apply(lambda x: 1 if x['used']=='Used' else 0, axis=1)\n",
    "df.head()"
   ]
  },
  {
   "cell_type": "code",
   "execution_count": 333,
   "id": "fc1beb92",
   "metadata": {},
   "outputs": [],
   "source": [
    "df['Reviews_d'] = df['Reviews']"
   ]
  },
  {
   "cell_type": "code",
   "execution_count": 334,
   "id": "e698fb8c",
   "metadata": {},
   "outputs": [],
   "source": [
    "df['Reviews_d'].replace([\"\\D+\"], \"\",regex=True, inplace=True)"
   ]
  },
  {
   "cell_type": "code",
   "execution_count": 338,
   "id": "5edcc98e",
   "metadata": {},
   "outputs": [
    {
     "data": {
      "text/html": [
       "<div>\n",
       "<style scoped>\n",
       "    .dataframe tbody tr th:only-of-type {\n",
       "        vertical-align: middle;\n",
       "    }\n",
       "\n",
       "    .dataframe tbody tr th {\n",
       "        vertical-align: top;\n",
       "    }\n",
       "\n",
       "    .dataframe thead th {\n",
       "        text-align: right;\n",
       "    }\n",
       "</style>\n",
       "<table border=\"1\" class=\"dataframe\">\n",
       "  <thead>\n",
       "    <tr style=\"text-align: right;\">\n",
       "      <th></th>\n",
       "      <th>Car Names</th>\n",
       "      <th>Mileages</th>\n",
       "      <th>Ratings</th>\n",
       "      <th>Reviews</th>\n",
       "      <th>used/certified</th>\n",
       "      <th>price drop</th>\n",
       "      <th>Price</th>\n",
       "      <th>Price_d</th>\n",
       "      <th>used</th>\n",
       "      <th>Reviews_d</th>\n",
       "    </tr>\n",
       "  </thead>\n",
       "  <tbody>\n",
       "    <tr>\n",
       "      <th>0</th>\n",
       "      <td>2019 Honda Accord Sport</td>\n",
       "      <td>Mileage</td>\n",
       "      <td>3.7</td>\n",
       "      <td>(3 reviews)</td>\n",
       "      <td>Used</td>\n",
       "      <td>$501 price drop</td>\n",
       "      <td>$27,995</td>\n",
       "      <td>27995</td>\n",
       "      <td>1</td>\n",
       "      <td>3</td>\n",
       "    </tr>\n",
       "    <tr>\n",
       "      <th>1</th>\n",
       "      <td>2015 Chevrolet Corvette Stingray Z51</td>\n",
       "      <td>29,192 mi.</td>\n",
       "      <td>3.7</td>\n",
       "      <td>(3 reviews)</td>\n",
       "      <td>Used</td>\n",
       "      <td>$277 price drop</td>\n",
       "      <td>$52,000</td>\n",
       "      <td>52000</td>\n",
       "      <td>1</td>\n",
       "      <td>3</td>\n",
       "    </tr>\n",
       "    <tr>\n",
       "      <th>2</th>\n",
       "      <td>2020 Jeep Grand Cherokee Overland</td>\n",
       "      <td>53,561 mi.</td>\n",
       "      <td>4.8</td>\n",
       "      <td>(1,147 reviews)</td>\n",
       "      <td>Used</td>\n",
       "      <td>$2,000 price drop</td>\n",
       "      <td>$41,998</td>\n",
       "      <td>41998</td>\n",
       "      <td>1</td>\n",
       "      <td>1147</td>\n",
       "    </tr>\n",
       "    <tr>\n",
       "      <th>3</th>\n",
       "      <td>2019 Audi A7 3.0T Prestige</td>\n",
       "      <td>46,664 mi.</td>\n",
       "      <td>4.9</td>\n",
       "      <td>(1,831 reviews)</td>\n",
       "      <td>Used</td>\n",
       "      <td>$2,090 price drop</td>\n",
       "      <td>$62,750</td>\n",
       "      <td>62750</td>\n",
       "      <td>1</td>\n",
       "      <td>1831</td>\n",
       "    </tr>\n",
       "    <tr>\n",
       "      <th>4</th>\n",
       "      <td>2017 Ford Mustang GT Premium</td>\n",
       "      <td>21,726 mi.</td>\n",
       "      <td>4.0</td>\n",
       "      <td>(409 reviews)</td>\n",
       "      <td>Used</td>\n",
       "      <td>$200 price drop</td>\n",
       "      <td>$29,995</td>\n",
       "      <td>29995</td>\n",
       "      <td>1</td>\n",
       "      <td>409</td>\n",
       "    </tr>\n",
       "  </tbody>\n",
       "</table>\n",
       "</div>"
      ],
      "text/plain": [
       "                              Car Names    Mileages  Ratings          Reviews  \\\n",
       "0               2019 Honda Accord Sport     Mileage      3.7      (3 reviews)   \n",
       "1  2015 Chevrolet Corvette Stingray Z51  29,192 mi.      3.7      (3 reviews)   \n",
       "2     2020 Jeep Grand Cherokee Overland  53,561 mi.      4.8  (1,147 reviews)   \n",
       "3            2019 Audi A7 3.0T Prestige  46,664 mi.      4.9  (1,831 reviews)   \n",
       "4          2017 Ford Mustang GT Premium  21,726 mi.      4.0    (409 reviews)   \n",
       "\n",
       "  used/certified         price drop    Price  Price_d  used  Reviews_d  \n",
       "0           Used    $501 price drop  $27,995    27995     1          3  \n",
       "1           Used    $277 price drop  $52,000    52000     1          3  \n",
       "2           Used  $2,000 price drop  $41,998    41998     1       1147  \n",
       "3           Used  $2,090 price drop  $62,750    62750     1       1831  \n",
       "4           Used    $200 price drop  $29,995    29995     1        409  "
      ]
     },
     "execution_count": 338,
     "metadata": {},
     "output_type": "execute_result"
    }
   ],
   "source": [
    "df['Reviews_d'] = df['Reviews_d'].astype(int)\n",
    "df.head()"
   ]
  },
  {
   "cell_type": "code",
   "execution_count": 339,
   "id": "aff4d3f2",
   "metadata": {},
   "outputs": [],
   "source": [
    "df['price_drop'] = df['price drop']"
   ]
  },
  {
   "cell_type": "code",
   "execution_count": 340,
   "id": "27aa857f",
   "metadata": {},
   "outputs": [],
   "source": [
    "df['price_drop'].replace([\"\\D+\"], \"\",regex=True, inplace=True)"
   ]
  },
  {
   "cell_type": "code",
   "execution_count": 341,
   "id": "4377b881",
   "metadata": {},
   "outputs": [
    {
     "data": {
      "text/html": [
       "<div>\n",
       "<style scoped>\n",
       "    .dataframe tbody tr th:only-of-type {\n",
       "        vertical-align: middle;\n",
       "    }\n",
       "\n",
       "    .dataframe tbody tr th {\n",
       "        vertical-align: top;\n",
       "    }\n",
       "\n",
       "    .dataframe thead th {\n",
       "        text-align: right;\n",
       "    }\n",
       "</style>\n",
       "<table border=\"1\" class=\"dataframe\">\n",
       "  <thead>\n",
       "    <tr style=\"text-align: right;\">\n",
       "      <th></th>\n",
       "      <th>Car Names</th>\n",
       "      <th>Mileages</th>\n",
       "      <th>Ratings</th>\n",
       "      <th>Reviews</th>\n",
       "      <th>used/certified</th>\n",
       "      <th>price drop</th>\n",
       "      <th>Price</th>\n",
       "      <th>Price_d</th>\n",
       "      <th>used</th>\n",
       "      <th>Reviews_d</th>\n",
       "      <th>price_drop</th>\n",
       "    </tr>\n",
       "  </thead>\n",
       "  <tbody>\n",
       "    <tr>\n",
       "      <th>0</th>\n",
       "      <td>2019 Honda Accord Sport</td>\n",
       "      <td>Mileage</td>\n",
       "      <td>3.7</td>\n",
       "      <td>(3 reviews)</td>\n",
       "      <td>Used</td>\n",
       "      <td>$501 price drop</td>\n",
       "      <td>$27,995</td>\n",
       "      <td>27995</td>\n",
       "      <td>1</td>\n",
       "      <td>3</td>\n",
       "      <td>501</td>\n",
       "    </tr>\n",
       "    <tr>\n",
       "      <th>1</th>\n",
       "      <td>2015 Chevrolet Corvette Stingray Z51</td>\n",
       "      <td>29,192 mi.</td>\n",
       "      <td>3.7</td>\n",
       "      <td>(3 reviews)</td>\n",
       "      <td>Used</td>\n",
       "      <td>$277 price drop</td>\n",
       "      <td>$52,000</td>\n",
       "      <td>52000</td>\n",
       "      <td>1</td>\n",
       "      <td>3</td>\n",
       "      <td>277</td>\n",
       "    </tr>\n",
       "    <tr>\n",
       "      <th>2</th>\n",
       "      <td>2020 Jeep Grand Cherokee Overland</td>\n",
       "      <td>53,561 mi.</td>\n",
       "      <td>4.8</td>\n",
       "      <td>(1,147 reviews)</td>\n",
       "      <td>Used</td>\n",
       "      <td>$2,000 price drop</td>\n",
       "      <td>$41,998</td>\n",
       "      <td>41998</td>\n",
       "      <td>1</td>\n",
       "      <td>1147</td>\n",
       "      <td>2000</td>\n",
       "    </tr>\n",
       "    <tr>\n",
       "      <th>3</th>\n",
       "      <td>2019 Audi A7 3.0T Prestige</td>\n",
       "      <td>46,664 mi.</td>\n",
       "      <td>4.9</td>\n",
       "      <td>(1,831 reviews)</td>\n",
       "      <td>Used</td>\n",
       "      <td>$2,090 price drop</td>\n",
       "      <td>$62,750</td>\n",
       "      <td>62750</td>\n",
       "      <td>1</td>\n",
       "      <td>1831</td>\n",
       "      <td>2090</td>\n",
       "    </tr>\n",
       "    <tr>\n",
       "      <th>4</th>\n",
       "      <td>2017 Ford Mustang GT Premium</td>\n",
       "      <td>21,726 mi.</td>\n",
       "      <td>4.0</td>\n",
       "      <td>(409 reviews)</td>\n",
       "      <td>Used</td>\n",
       "      <td>$200 price drop</td>\n",
       "      <td>$29,995</td>\n",
       "      <td>29995</td>\n",
       "      <td>1</td>\n",
       "      <td>409</td>\n",
       "      <td>200</td>\n",
       "    </tr>\n",
       "  </tbody>\n",
       "</table>\n",
       "</div>"
      ],
      "text/plain": [
       "                              Car Names    Mileages  Ratings          Reviews  \\\n",
       "0               2019 Honda Accord Sport     Mileage      3.7      (3 reviews)   \n",
       "1  2015 Chevrolet Corvette Stingray Z51  29,192 mi.      3.7      (3 reviews)   \n",
       "2     2020 Jeep Grand Cherokee Overland  53,561 mi.      4.8  (1,147 reviews)   \n",
       "3            2019 Audi A7 3.0T Prestige  46,664 mi.      4.9  (1,831 reviews)   \n",
       "4          2017 Ford Mustang GT Premium  21,726 mi.      4.0    (409 reviews)   \n",
       "\n",
       "  used/certified         price drop    Price  Price_d  used  Reviews_d  \\\n",
       "0           Used    $501 price drop  $27,995    27995     1          3   \n",
       "1           Used    $277 price drop  $52,000    52000     1          3   \n",
       "2           Used  $2,000 price drop  $41,998    41998     1       1147   \n",
       "3           Used  $2,090 price drop  $62,750    62750     1       1831   \n",
       "4           Used    $200 price drop  $29,995    29995     1        409   \n",
       "\n",
       "   price_drop  \n",
       "0         501  \n",
       "1         277  \n",
       "2        2000  \n",
       "3        2090  \n",
       "4         200  "
      ]
     },
     "execution_count": 341,
     "metadata": {},
     "output_type": "execute_result"
    }
   ],
   "source": [
    "df['price_drop'] = df['price_drop'].astype(int)\n",
    "df.head()"
   ]
  },
  {
   "cell_type": "code",
   "execution_count": 342,
   "id": "8f2a63e4",
   "metadata": {},
   "outputs": [],
   "source": [
    "df['Mileages_d'] = df['Mileages']"
   ]
  },
  {
   "cell_type": "code",
   "execution_count": 343,
   "id": "a562d3e9",
   "metadata": {},
   "outputs": [],
   "source": [
    "df['Mileages_d'] = df['Mileages_d'].replace([\"Mileage\"], 0,regex=True)"
   ]
  },
  {
   "cell_type": "code",
   "execution_count": 344,
   "id": "8c4358c1",
   "metadata": {},
   "outputs": [],
   "source": [
    "df['Mileages_d'].replace([\"\\D+\"], \"\",regex=True, inplace=True)"
   ]
  },
  {
   "cell_type": "code",
   "execution_count": 346,
   "id": "336908d7",
   "metadata": {},
   "outputs": [
    {
     "data": {
      "text/html": [
       "<div>\n",
       "<style scoped>\n",
       "    .dataframe tbody tr th:only-of-type {\n",
       "        vertical-align: middle;\n",
       "    }\n",
       "\n",
       "    .dataframe tbody tr th {\n",
       "        vertical-align: top;\n",
       "    }\n",
       "\n",
       "    .dataframe thead th {\n",
       "        text-align: right;\n",
       "    }\n",
       "</style>\n",
       "<table border=\"1\" class=\"dataframe\">\n",
       "  <thead>\n",
       "    <tr style=\"text-align: right;\">\n",
       "      <th></th>\n",
       "      <th>Car Names</th>\n",
       "      <th>Mileages</th>\n",
       "      <th>Ratings</th>\n",
       "      <th>Reviews</th>\n",
       "      <th>used/certified</th>\n",
       "      <th>price drop</th>\n",
       "      <th>Price</th>\n",
       "      <th>Price_d</th>\n",
       "      <th>used</th>\n",
       "      <th>Reviews_d</th>\n",
       "      <th>price_drop</th>\n",
       "      <th>Mileages_d</th>\n",
       "    </tr>\n",
       "  </thead>\n",
       "  <tbody>\n",
       "    <tr>\n",
       "      <th>0</th>\n",
       "      <td>2019 Honda Accord Sport</td>\n",
       "      <td>Mileage</td>\n",
       "      <td>3.7</td>\n",
       "      <td>(3 reviews)</td>\n",
       "      <td>Used</td>\n",
       "      <td>$501 price drop</td>\n",
       "      <td>$27,995</td>\n",
       "      <td>27995</td>\n",
       "      <td>1</td>\n",
       "      <td>3</td>\n",
       "      <td>501</td>\n",
       "      <td>0</td>\n",
       "    </tr>\n",
       "    <tr>\n",
       "      <th>1</th>\n",
       "      <td>2015 Chevrolet Corvette Stingray Z51</td>\n",
       "      <td>29,192 mi.</td>\n",
       "      <td>3.7</td>\n",
       "      <td>(3 reviews)</td>\n",
       "      <td>Used</td>\n",
       "      <td>$277 price drop</td>\n",
       "      <td>$52,000</td>\n",
       "      <td>52000</td>\n",
       "      <td>1</td>\n",
       "      <td>3</td>\n",
       "      <td>277</td>\n",
       "      <td>29192</td>\n",
       "    </tr>\n",
       "    <tr>\n",
       "      <th>2</th>\n",
       "      <td>2020 Jeep Grand Cherokee Overland</td>\n",
       "      <td>53,561 mi.</td>\n",
       "      <td>4.8</td>\n",
       "      <td>(1,147 reviews)</td>\n",
       "      <td>Used</td>\n",
       "      <td>$2,000 price drop</td>\n",
       "      <td>$41,998</td>\n",
       "      <td>41998</td>\n",
       "      <td>1</td>\n",
       "      <td>1147</td>\n",
       "      <td>2000</td>\n",
       "      <td>53561</td>\n",
       "    </tr>\n",
       "    <tr>\n",
       "      <th>3</th>\n",
       "      <td>2019 Audi A7 3.0T Prestige</td>\n",
       "      <td>46,664 mi.</td>\n",
       "      <td>4.9</td>\n",
       "      <td>(1,831 reviews)</td>\n",
       "      <td>Used</td>\n",
       "      <td>$2,090 price drop</td>\n",
       "      <td>$62,750</td>\n",
       "      <td>62750</td>\n",
       "      <td>1</td>\n",
       "      <td>1831</td>\n",
       "      <td>2090</td>\n",
       "      <td>46664</td>\n",
       "    </tr>\n",
       "    <tr>\n",
       "      <th>4</th>\n",
       "      <td>2017 Ford Mustang GT Premium</td>\n",
       "      <td>21,726 mi.</td>\n",
       "      <td>4.0</td>\n",
       "      <td>(409 reviews)</td>\n",
       "      <td>Used</td>\n",
       "      <td>$200 price drop</td>\n",
       "      <td>$29,995</td>\n",
       "      <td>29995</td>\n",
       "      <td>1</td>\n",
       "      <td>409</td>\n",
       "      <td>200</td>\n",
       "      <td>21726</td>\n",
       "    </tr>\n",
       "  </tbody>\n",
       "</table>\n",
       "</div>"
      ],
      "text/plain": [
       "                              Car Names    Mileages  Ratings          Reviews  \\\n",
       "0               2019 Honda Accord Sport     Mileage      3.7      (3 reviews)   \n",
       "1  2015 Chevrolet Corvette Stingray Z51  29,192 mi.      3.7      (3 reviews)   \n",
       "2     2020 Jeep Grand Cherokee Overland  53,561 mi.      4.8  (1,147 reviews)   \n",
       "3            2019 Audi A7 3.0T Prestige  46,664 mi.      4.9  (1,831 reviews)   \n",
       "4          2017 Ford Mustang GT Premium  21,726 mi.      4.0    (409 reviews)   \n",
       "\n",
       "  used/certified         price drop    Price  Price_d  used  Reviews_d  \\\n",
       "0           Used    $501 price drop  $27,995    27995     1          3   \n",
       "1           Used    $277 price drop  $52,000    52000     1          3   \n",
       "2           Used  $2,000 price drop  $41,998    41998     1       1147   \n",
       "3           Used  $2,090 price drop  $62,750    62750     1       1831   \n",
       "4           Used    $200 price drop  $29,995    29995     1        409   \n",
       "\n",
       "   price_drop  Mileages_d  \n",
       "0         501           0  \n",
       "1         277       29192  \n",
       "2        2000       53561  \n",
       "3        2090       46664  \n",
       "4         200       21726  "
      ]
     },
     "execution_count": 346,
     "metadata": {},
     "output_type": "execute_result"
    }
   ],
   "source": [
    "df['Mileages_d'] = df['Mileages_d'].astype(int)\n",
    "df.head()"
   ]
  },
  {
   "cell_type": "code",
   "execution_count": 348,
   "id": "eda45076",
   "metadata": {},
   "outputs": [
    {
     "data": {
      "text/html": [
       "<div>\n",
       "<style scoped>\n",
       "    .dataframe tbody tr th:only-of-type {\n",
       "        vertical-align: middle;\n",
       "    }\n",
       "\n",
       "    .dataframe tbody tr th {\n",
       "        vertical-align: top;\n",
       "    }\n",
       "\n",
       "    .dataframe thead th {\n",
       "        text-align: right;\n",
       "    }\n",
       "</style>\n",
       "<table border=\"1\" class=\"dataframe\">\n",
       "  <thead>\n",
       "    <tr style=\"text-align: right;\">\n",
       "      <th></th>\n",
       "      <th>Car Names</th>\n",
       "      <th>Mileages</th>\n",
       "      <th>Ratings</th>\n",
       "      <th>Reviews</th>\n",
       "      <th>used/certified</th>\n",
       "      <th>price drop</th>\n",
       "      <th>Price</th>\n",
       "      <th>Price_d</th>\n",
       "      <th>used</th>\n",
       "      <th>Reviews_d</th>\n",
       "      <th>price_drop</th>\n",
       "      <th>Mileages_d</th>\n",
       "      <th>group</th>\n",
       "    </tr>\n",
       "  </thead>\n",
       "  <tbody>\n",
       "    <tr>\n",
       "      <th>0</th>\n",
       "      <td>2019 Honda Accord Sport</td>\n",
       "      <td>Mileage</td>\n",
       "      <td>3.7</td>\n",
       "      <td>(3 reviews)</td>\n",
       "      <td>Used</td>\n",
       "      <td>$501 price drop</td>\n",
       "      <td>$27,995</td>\n",
       "      <td>27995</td>\n",
       "      <td>1</td>\n",
       "      <td>3</td>\n",
       "      <td>501</td>\n",
       "      <td>0</td>\n",
       "      <td>840</td>\n",
       "    </tr>\n",
       "    <tr>\n",
       "      <th>1</th>\n",
       "      <td>2015 Chevrolet Corvette Stingray Z51</td>\n",
       "      <td>29,192 mi.</td>\n",
       "      <td>3.7</td>\n",
       "      <td>(3 reviews)</td>\n",
       "      <td>Used</td>\n",
       "      <td>$277 price drop</td>\n",
       "      <td>$52,000</td>\n",
       "      <td>52000</td>\n",
       "      <td>1</td>\n",
       "      <td>3</td>\n",
       "      <td>277</td>\n",
       "      <td>29192</td>\n",
       "      <td>180</td>\n",
       "    </tr>\n",
       "    <tr>\n",
       "      <th>2</th>\n",
       "      <td>2020 Jeep Grand Cherokee Overland</td>\n",
       "      <td>53,561 mi.</td>\n",
       "      <td>4.8</td>\n",
       "      <td>(1,147 reviews)</td>\n",
       "      <td>Used</td>\n",
       "      <td>$2,000 price drop</td>\n",
       "      <td>$41,998</td>\n",
       "      <td>41998</td>\n",
       "      <td>1</td>\n",
       "      <td>1147</td>\n",
       "      <td>2000</td>\n",
       "      <td>53561</td>\n",
       "      <td>1243</td>\n",
       "    </tr>\n",
       "    <tr>\n",
       "      <th>3</th>\n",
       "      <td>2019 Audi A7 3.0T Prestige</td>\n",
       "      <td>46,664 mi.</td>\n",
       "      <td>4.9</td>\n",
       "      <td>(1,831 reviews)</td>\n",
       "      <td>Used</td>\n",
       "      <td>$2,090 price drop</td>\n",
       "      <td>$62,750</td>\n",
       "      <td>62750</td>\n",
       "      <td>1</td>\n",
       "      <td>1831</td>\n",
       "      <td>2090</td>\n",
       "      <td>46664</td>\n",
       "      <td>717</td>\n",
       "    </tr>\n",
       "    <tr>\n",
       "      <th>4</th>\n",
       "      <td>2017 Ford Mustang GT Premium</td>\n",
       "      <td>21,726 mi.</td>\n",
       "      <td>4.0</td>\n",
       "      <td>(409 reviews)</td>\n",
       "      <td>Used</td>\n",
       "      <td>$200 price drop</td>\n",
       "      <td>$29,995</td>\n",
       "      <td>29995</td>\n",
       "      <td>1</td>\n",
       "      <td>409</td>\n",
       "      <td>200</td>\n",
       "      <td>21726</td>\n",
       "      <td>390</td>\n",
       "    </tr>\n",
       "  </tbody>\n",
       "</table>\n",
       "</div>"
      ],
      "text/plain": [
       "                              Car Names    Mileages  Ratings          Reviews  \\\n",
       "0               2019 Honda Accord Sport     Mileage      3.7      (3 reviews)   \n",
       "1  2015 Chevrolet Corvette Stingray Z51  29,192 mi.      3.7      (3 reviews)   \n",
       "2     2020 Jeep Grand Cherokee Overland  53,561 mi.      4.8  (1,147 reviews)   \n",
       "3            2019 Audi A7 3.0T Prestige  46,664 mi.      4.9  (1,831 reviews)   \n",
       "4          2017 Ford Mustang GT Premium  21,726 mi.      4.0    (409 reviews)   \n",
       "\n",
       "  used/certified         price drop    Price  Price_d  used  Reviews_d  \\\n",
       "0           Used    $501 price drop  $27,995    27995     1          3   \n",
       "1           Used    $277 price drop  $52,000    52000     1          3   \n",
       "2           Used  $2,000 price drop  $41,998    41998     1       1147   \n",
       "3           Used  $2,090 price drop  $62,750    62750     1       1831   \n",
       "4           Used    $200 price drop  $29,995    29995     1        409   \n",
       "\n",
       "   price_drop  Mileages_d  group  \n",
       "0         501           0    840  \n",
       "1         277       29192    180  \n",
       "2        2000       53561   1243  \n",
       "3        2090       46664    717  \n",
       "4         200       21726    390  "
      ]
     },
     "execution_count": 348,
     "metadata": {},
     "output_type": "execute_result"
    }
   ],
   "source": [
    "df['group']=df.groupby(['Car Names'], axis=0).ngroup()\n",
    "df.head()"
   ]
  },
  {
   "cell_type": "code",
   "execution_count": 352,
   "id": "b63bb3db",
   "metadata": {},
   "outputs": [],
   "source": [
    "df[df['Price_d']==0] = df['Price_d'].mean()"
   ]
  },
  {
   "cell_type": "code",
   "execution_count": 353,
   "id": "00dd783b",
   "metadata": {},
   "outputs": [],
   "source": [
    "df[df['Mileages_d']==0] = df['Mileages_d'].mean()"
   ]
  },
  {
   "cell_type": "code",
   "execution_count": 354,
   "id": "0280fc1a",
   "metadata": {},
   "outputs": [
    {
     "data": {
      "text/html": [
       "<div>\n",
       "<style scoped>\n",
       "    .dataframe tbody tr th:only-of-type {\n",
       "        vertical-align: middle;\n",
       "    }\n",
       "\n",
       "    .dataframe tbody tr th {\n",
       "        vertical-align: top;\n",
       "    }\n",
       "\n",
       "    .dataframe thead th {\n",
       "        text-align: right;\n",
       "    }\n",
       "</style>\n",
       "<table border=\"1\" class=\"dataframe\">\n",
       "  <thead>\n",
       "    <tr style=\"text-align: right;\">\n",
       "      <th></th>\n",
       "      <th>Ratings</th>\n",
       "      <th>Price_d</th>\n",
       "      <th>used</th>\n",
       "      <th>Reviews_d</th>\n",
       "      <th>price_drop</th>\n",
       "      <th>Mileages_d</th>\n",
       "      <th>group</th>\n",
       "    </tr>\n",
       "  </thead>\n",
       "  <tbody>\n",
       "    <tr>\n",
       "      <th>count</th>\n",
       "      <td>9330.000000</td>\n",
       "      <td>9330.000000</td>\n",
       "      <td>9330.000000</td>\n",
       "      <td>9330.000000</td>\n",
       "      <td>9330.000000</td>\n",
       "      <td>9330.000000</td>\n",
       "      <td>9330.000000</td>\n",
       "    </tr>\n",
       "    <tr>\n",
       "      <th>mean</th>\n",
       "      <td>797.004829</td>\n",
       "      <td>42024.707423</td>\n",
       "      <td>793.433361</td>\n",
       "      <td>2073.324893</td>\n",
       "      <td>1967.299063</td>\n",
       "      <td>37310.601206</td>\n",
       "      <td>1732.081378</td>\n",
       "    </tr>\n",
       "    <tr>\n",
       "      <th>std</th>\n",
       "      <td>5328.574911</td>\n",
       "      <td>23910.414691</td>\n",
       "      <td>5329.106142</td>\n",
       "      <td>5570.395520</td>\n",
       "      <td>5348.196507</td>\n",
       "      <td>25492.206515</td>\n",
       "      <td>5208.619754</td>\n",
       "    </tr>\n",
       "    <tr>\n",
       "      <th>min</th>\n",
       "      <td>1.400000</td>\n",
       "      <td>3595.000000</td>\n",
       "      <td>0.000000</td>\n",
       "      <td>0.000000</td>\n",
       "      <td>100.000000</td>\n",
       "      <td>143.000000</td>\n",
       "      <td>0.000000</td>\n",
       "    </tr>\n",
       "    <tr>\n",
       "      <th>25%</th>\n",
       "      <td>4.400000</td>\n",
       "      <td>29291.250000</td>\n",
       "      <td>1.000000</td>\n",
       "      <td>170.000000</td>\n",
       "      <td>500.000000</td>\n",
       "      <td>18596.000000</td>\n",
       "      <td>618.250000</td>\n",
       "    </tr>\n",
       "    <tr>\n",
       "      <th>50%</th>\n",
       "      <td>4.600000</td>\n",
       "      <td>36862.500000</td>\n",
       "      <td>1.000000</td>\n",
       "      <td>570.000000</td>\n",
       "      <td>835.000000</td>\n",
       "      <td>31389.500000</td>\n",
       "      <td>938.000000</td>\n",
       "    </tr>\n",
       "    <tr>\n",
       "      <th>75%</th>\n",
       "      <td>4.800000</td>\n",
       "      <td>47968.000000</td>\n",
       "      <td>1.000000</td>\n",
       "      <td>1636.000000</td>\n",
       "      <td>1644.000000</td>\n",
       "      <td>48061.500000</td>\n",
       "      <td>1368.750000</td>\n",
       "    </tr>\n",
       "    <tr>\n",
       "      <th>max</th>\n",
       "      <td>41780.835798</td>\n",
       "      <td>899000.000000</td>\n",
       "      <td>41780.835798</td>\n",
       "      <td>41780.835798</td>\n",
       "      <td>41780.835798</td>\n",
       "      <td>277281.000000</td>\n",
       "      <td>41780.835798</td>\n",
       "    </tr>\n",
       "  </tbody>\n",
       "</table>\n",
       "</div>"
      ],
      "text/plain": [
       "            Ratings        Price_d          used     Reviews_d    price_drop  \\\n",
       "count   9330.000000    9330.000000   9330.000000   9330.000000   9330.000000   \n",
       "mean     797.004829   42024.707423    793.433361   2073.324893   1967.299063   \n",
       "std     5328.574911   23910.414691   5329.106142   5570.395520   5348.196507   \n",
       "min        1.400000    3595.000000      0.000000      0.000000    100.000000   \n",
       "25%        4.400000   29291.250000      1.000000    170.000000    500.000000   \n",
       "50%        4.600000   36862.500000      1.000000    570.000000    835.000000   \n",
       "75%        4.800000   47968.000000      1.000000   1636.000000   1644.000000   \n",
       "max    41780.835798  899000.000000  41780.835798  41780.835798  41780.835798   \n",
       "\n",
       "          Mileages_d         group  \n",
       "count    9330.000000   9330.000000  \n",
       "mean    37310.601206   1732.081378  \n",
       "std     25492.206515   5208.619754  \n",
       "min       143.000000      0.000000  \n",
       "25%     18596.000000    618.250000  \n",
       "50%     31389.500000    938.000000  \n",
       "75%     48061.500000   1368.750000  \n",
       "max    277281.000000  41780.835798  "
      ]
     },
     "execution_count": 354,
     "metadata": {},
     "output_type": "execute_result"
    }
   ],
   "source": [
    "df.describe()"
   ]
  },
  {
   "cell_type": "markdown",
   "id": "nearby-array",
   "metadata": {
    "id": "nearby-array"
   },
   "source": [
    "### Numpy"
   ]
  },
  {
   "cell_type": "code",
   "execution_count": 287,
   "id": "eligible-finding",
   "metadata": {
    "id": "eligible-finding"
   },
   "outputs": [],
   "source": [
    "import numpy as np"
   ]
  },
  {
   "cell_type": "markdown",
   "id": "durable-freeware",
   "metadata": {
    "id": "durable-freeware"
   },
   "source": [
    "1. Вычислите A + B, A - B\n",
    " \n",
    " $\\\\\n",
    "A = \\left(\n",
    "\\begin{array}{cccc}\n",
    "1 & -2 & 4\\\\\n",
    "2 & 0 & -1\\\\\n",
    "\\end{array}\n",
    "\\right), B = \\left(\n",
    "\\begin{array}{cccc}\n",
    "5 & 2 & 3\\\\\n",
    "4 & 6 & 2\\\\\n",
    "\\end{array}\n",
    "\\right)$"
   ]
  },
  {
   "cell_type": "code",
   "execution_count": 365,
   "id": "c8b4abc1",
   "metadata": {},
   "outputs": [
    {
     "data": {
      "text/plain": [
       "array([[ 1, -2,  4],\n",
       "       [ 2,  0, -1]])"
      ]
     },
     "execution_count": 365,
     "metadata": {},
     "output_type": "execute_result"
    }
   ],
   "source": [
    "A = np.array([[1,-2,4],[2,0,-1]])\n",
    "A"
   ]
  },
  {
   "cell_type": "code",
   "execution_count": 366,
   "id": "a56af1f4",
   "metadata": {},
   "outputs": [
    {
     "data": {
      "text/plain": [
       "array([[5, 2, 3],\n",
       "       [4, 6, 2]])"
      ]
     },
     "execution_count": 366,
     "metadata": {},
     "output_type": "execute_result"
    }
   ],
   "source": [
    "B = np.array([[5,2,3],[4,6,2]])\n",
    "B"
   ]
  },
  {
   "cell_type": "code",
   "execution_count": 367,
   "id": "8740a858",
   "metadata": {},
   "outputs": [
    {
     "data": {
      "text/plain": [
       "array([[6, 0, 7],\n",
       "       [6, 6, 1]])"
      ]
     },
     "execution_count": 367,
     "metadata": {},
     "output_type": "execute_result"
    }
   ],
   "source": [
    "A+B"
   ]
  },
  {
   "cell_type": "code",
   "execution_count": 368,
   "id": "c9b5f6c5",
   "metadata": {},
   "outputs": [
    {
     "data": {
      "text/plain": [
       "array([[-4, -4,  1],\n",
       "       [-2, -6, -3]])"
      ]
     },
     "execution_count": 368,
     "metadata": {},
     "output_type": "execute_result"
    }
   ],
   "source": [
    "A-B"
   ]
  },
  {
   "cell_type": "markdown",
   "id": "certified-andrew",
   "metadata": {
    "id": "certified-andrew"
   },
   "source": [
    "2. Найдите матрицу С = A - 3B\n",
    " \n",
    " $\\\\\n",
    "A = \\left(\n",
    "\\begin{array}{cccc}\n",
    "1 & 2 \\\\\n",
    "2 & -1\\\\\n",
    "3 & 0\\\\\n",
    "\\end{array}\n",
    "\\right), B = \\left(\n",
    "\\begin{array}{cccc}\n",
    "-1 & 1 \\\\\n",
    "1 & 2\\\\\n",
    "0 & 0\\\\\n",
    "\\end{array}\n",
    "\\right)$"
   ]
  },
  {
   "cell_type": "code",
   "execution_count": 369,
   "id": "19f83f9b",
   "metadata": {},
   "outputs": [
    {
     "data": {
      "text/plain": [
       "array([[ 1,  2],\n",
       "       [ 2, -1],\n",
       "       [ 3,  0]])"
      ]
     },
     "execution_count": 369,
     "metadata": {},
     "output_type": "execute_result"
    }
   ],
   "source": [
    "A = np.array([[1,2],[2,-1],[3,0]])\n",
    "A"
   ]
  },
  {
   "cell_type": "code",
   "execution_count": 370,
   "id": "3b3e0913",
   "metadata": {},
   "outputs": [
    {
     "data": {
      "text/plain": [
       "array([[-1,  1],\n",
       "       [ 1,  2],\n",
       "       [ 0,  0]])"
      ]
     },
     "execution_count": 370,
     "metadata": {},
     "output_type": "execute_result"
    }
   ],
   "source": [
    "B = np.array([[-1,1],[1,2],[0,0]])\n",
    "B"
   ]
  },
  {
   "cell_type": "code",
   "execution_count": 372,
   "id": "7aca2066",
   "metadata": {},
   "outputs": [
    {
     "data": {
      "text/plain": [
       "array([[ 4, -1],\n",
       "       [-1, -7],\n",
       "       [ 3,  0]])"
      ]
     },
     "execution_count": 372,
     "metadata": {},
     "output_type": "execute_result"
    }
   ],
   "source": [
    "C = A -3*B\n",
    "C"
   ]
  },
  {
   "cell_type": "markdown",
   "id": "motivated-mason",
   "metadata": {
    "id": "motivated-mason"
   },
   "source": [
    "3. Вычислите С = AB\n",
    " \n",
    " $\\\\\n",
    "A = \\left(\n",
    "\\begin{array}{cccc}\n",
    "1 & -1 \\\\\n",
    "2 & 0\\\\\n",
    "3 & 0\\\\\n",
    "\\end{array}\n",
    "\\right), B = \\left(\n",
    "\\begin{array}{cccc}\n",
    "1 & 1 \\\\\n",
    "2 & 0\\\\\n",
    "\\end{array}\n",
    "\\right)$"
   ]
  },
  {
   "cell_type": "code",
   "execution_count": 373,
   "id": "5f28d799",
   "metadata": {},
   "outputs": [
    {
     "data": {
      "text/plain": [
       "array([[ 1, -1],\n",
       "       [ 2,  0],\n",
       "       [ 3,  0]])"
      ]
     },
     "execution_count": 373,
     "metadata": {},
     "output_type": "execute_result"
    }
   ],
   "source": [
    "A = np.array([[1,-1],[2,0],[3,0]])\n",
    "A"
   ]
  },
  {
   "cell_type": "code",
   "execution_count": 374,
   "id": "ce635793",
   "metadata": {},
   "outputs": [
    {
     "data": {
      "text/plain": [
       "array([[1, 1],\n",
       "       [2, 0]])"
      ]
     },
     "execution_count": 374,
     "metadata": {},
     "output_type": "execute_result"
    }
   ],
   "source": [
    "B = np.array([[1,1],[2,0]])\n",
    "B"
   ]
  },
  {
   "cell_type": "code",
   "execution_count": 376,
   "id": "376f11a7",
   "metadata": {},
   "outputs": [
    {
     "data": {
      "text/plain": [
       "array([[-1,  1],\n",
       "       [ 2,  2],\n",
       "       [ 3,  3]])"
      ]
     },
     "execution_count": 376,
     "metadata": {},
     "output_type": "execute_result"
    }
   ],
   "source": [
    "C=A.dot(B)\n",
    "C"
   ]
  },
  {
   "cell_type": "markdown",
   "id": "chemical-thomson",
   "metadata": {
    "id": "chemical-thomson"
   },
   "source": [
    "4. Вычислите определитель матрицы А\n",
    " \n",
    " $\\\\\n",
    "A = \\left(\n",
    "\\begin{array}{cccc}\n",
    "6 & -1 & 4\\\\\n",
    "2 & 1 & 10\\\\\n",
    "8 & 0 & 2\\\\\n",
    "\\end{array}\n",
    "\\right)$"
   ]
  },
  {
   "cell_type": "code",
   "execution_count": 377,
   "id": "23694a87",
   "metadata": {},
   "outputs": [
    {
     "data": {
      "text/plain": [
       "array([[ 6, -1,  4],\n",
       "       [ 2,  1, 10],\n",
       "       [ 8,  0,  2]])"
      ]
     },
     "execution_count": 377,
     "metadata": {},
     "output_type": "execute_result"
    }
   ],
   "source": [
    "A = np.array([[6,-1,4],[2,1,10],[8,0,2]])\n",
    "A"
   ]
  },
  {
   "cell_type": "code",
   "execution_count": 388,
   "id": "4e6b4aad",
   "metadata": {},
   "outputs": [
    {
     "data": {
      "text/plain": [
       "53.999999999999986"
      ]
     },
     "execution_count": 388,
     "metadata": {},
     "output_type": "execute_result"
    }
   ],
   "source": [
    "np.linalg.det(A)"
   ]
  },
  {
   "cell_type": "markdown",
   "id": "unlimited-throw",
   "metadata": {
    "id": "unlimited-throw"
   },
   "source": [
    "5. Вычислите матрицу, обратную матрице А. И покажите, что она действительно является обратной\n",
    " \n",
    " $\\\\\n",
    "A = \\left(\n",
    "\\begin{array}{cccc}\n",
    "3 & 3 & -1\\\\\n",
    "4 & 1 & 3\\\\\n",
    "1 & -2 & -2\\\\\n",
    "\\end{array}\n",
    "\\right)$"
   ]
  },
  {
   "cell_type": "code",
   "execution_count": 403,
   "id": "about-national",
   "metadata": {
    "id": "about-national"
   },
   "outputs": [
    {
     "data": {
      "text/plain": [
       "array([[ 3,  3, -1],\n",
       "       [ 4,  1,  3],\n",
       "       [ 1, -2, -2]])"
      ]
     },
     "execution_count": 403,
     "metadata": {},
     "output_type": "execute_result"
    }
   ],
   "source": [
    "A = np.array([[3,3,-1],[4,1,3],[1,-2,-2]])\n",
    "A"
   ]
  },
  {
   "cell_type": "code",
   "execution_count": 404,
   "id": "e03b3b67",
   "metadata": {},
   "outputs": [
    {
     "data": {
      "text/plain": [
       "array([[ 0.07407407,  0.14814815,  0.18518519],\n",
       "       [ 0.2037037 , -0.09259259, -0.24074074],\n",
       "       [-0.16666667,  0.16666667, -0.16666667]])"
      ]
     },
     "execution_count": 404,
     "metadata": {},
     "output_type": "execute_result"
    }
   ],
   "source": [
    "An = np.linalg.inv(A)\n",
    "An"
   ]
  },
  {
   "cell_type": "code",
   "execution_count": 405,
   "id": "645f94ee",
   "metadata": {},
   "outputs": [
    {
     "data": {
      "text/plain": [
       "array([[ 1.00000000e+00, -8.32667268e-17,  2.77555756e-17],\n",
       "       [ 2.77555756e-17,  1.00000000e+00,  2.77555756e-17],\n",
       "       [-5.55111512e-17,  5.55111512e-17,  1.00000000e+00]])"
      ]
     },
     "execution_count": 405,
     "metadata": {},
     "output_type": "execute_result"
    }
   ],
   "source": [
    "C = A.dot(At)\n",
    "C"
   ]
  },
  {
   "cell_type": "code",
   "execution_count": null,
   "id": "5e43bcb0",
   "metadata": {},
   "outputs": [],
   "source": [
    "# можно считать, что на главной диагонали стят 1, а остлаьные элементы 0"
   ]
  }
 ],
 "metadata": {
  "colab": {
   "name": "ДЗ. Numpy и Pandas.ipynb",
   "provenance": []
  },
  "kernelspec": {
   "display_name": "Python 3 (ipykernel)",
   "language": "python",
   "name": "python3"
  },
  "language_info": {
   "codemirror_mode": {
    "name": "ipython",
    "version": 3
   },
   "file_extension": ".py",
   "mimetype": "text/x-python",
   "name": "python",
   "nbconvert_exporter": "python",
   "pygments_lexer": "ipython3",
   "version": "3.9.7"
  }
 },
 "nbformat": 4,
 "nbformat_minor": 5
}
