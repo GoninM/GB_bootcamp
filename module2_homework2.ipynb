{
 "cells": [
  {
   "cell_type": "markdown",
   "id": "designed-lucas",
   "metadata": {
    "id": "designed-lucas"
   },
   "source": [
    "### Pandas\n",
    "\n",
    "* Скачайте любой табличный датасет (можете использовать тот же, что и в дз к занятию \"Знакомство с библиотеками\"), например, с https://www.kaggle.com/datasets\n",
    "* Проведите поноценный EDA \n",
    "    * \"погрузитесь\" в данные\n",
    "    * составьте описание измерений из датасета\n",
    "    * очистите данные, если это необходимо\n",
    "    * попробуйте создать дополнительные переменные, которые могут помочь лучше понять данные"
   ]
  },
  {
   "cell_type": "code",
   "execution_count": 1,
   "id": "60cd25fb",
   "metadata": {},
   "outputs": [],
   "source": [
    "import pandas as pd\n"
   ]
  },
  {
   "cell_type": "code",
   "execution_count": 2,
   "id": "5ab7bcc2",
   "metadata": {},
   "outputs": [
    {
     "data": {
      "text/html": [
       "<div>\n",
       "<style scoped>\n",
       "    .dataframe tbody tr th:only-of-type {\n",
       "        vertical-align: middle;\n",
       "    }\n",
       "\n",
       "    .dataframe tbody tr th {\n",
       "        vertical-align: top;\n",
       "    }\n",
       "\n",
       "    .dataframe thead th {\n",
       "        text-align: right;\n",
       "    }\n",
       "</style>\n",
       "<table border=\"1\" class=\"dataframe\">\n",
       "  <thead>\n",
       "    <tr style=\"text-align: right;\">\n",
       "      <th></th>\n",
       "      <th>Car Names</th>\n",
       "      <th>Mileages</th>\n",
       "      <th>Ratings</th>\n",
       "      <th>Reviews</th>\n",
       "      <th>used/certified</th>\n",
       "      <th>price drop</th>\n",
       "      <th>Price</th>\n",
       "    </tr>\n",
       "  </thead>\n",
       "  <tbody>\n",
       "    <tr>\n",
       "      <th>0</th>\n",
       "      <td>2019 Honda Accord Sport</td>\n",
       "      <td>Mileage</td>\n",
       "      <td>3.7</td>\n",
       "      <td>(3 reviews)</td>\n",
       "      <td>Used</td>\n",
       "      <td>$501 price drop</td>\n",
       "      <td>$27,995</td>\n",
       "    </tr>\n",
       "    <tr>\n",
       "      <th>1</th>\n",
       "      <td>2015 Chevrolet Corvette Stingray Z51</td>\n",
       "      <td>29,192 mi.</td>\n",
       "      <td>3.7</td>\n",
       "      <td>(3 reviews)</td>\n",
       "      <td>Used</td>\n",
       "      <td>$277 price drop</td>\n",
       "      <td>$52,000</td>\n",
       "    </tr>\n",
       "    <tr>\n",
       "      <th>2</th>\n",
       "      <td>2020 Jeep Grand Cherokee Overland</td>\n",
       "      <td>53,561 mi.</td>\n",
       "      <td>4.8</td>\n",
       "      <td>(1,147 reviews)</td>\n",
       "      <td>Used</td>\n",
       "      <td>$2,000 price drop</td>\n",
       "      <td>$41,998</td>\n",
       "    </tr>\n",
       "    <tr>\n",
       "      <th>3</th>\n",
       "      <td>2019 Audi A7 3.0T Prestige</td>\n",
       "      <td>46,664 mi.</td>\n",
       "      <td>4.9</td>\n",
       "      <td>(1,831 reviews)</td>\n",
       "      <td>Used</td>\n",
       "      <td>$2,090 price drop</td>\n",
       "      <td>$62,750</td>\n",
       "    </tr>\n",
       "    <tr>\n",
       "      <th>4</th>\n",
       "      <td>2017 Ford Mustang GT Premium</td>\n",
       "      <td>21,726 mi.</td>\n",
       "      <td>4.0</td>\n",
       "      <td>(409 reviews)</td>\n",
       "      <td>Used</td>\n",
       "      <td>$200 price drop</td>\n",
       "      <td>$29,995</td>\n",
       "    </tr>\n",
       "  </tbody>\n",
       "</table>\n",
       "</div>"
      ],
      "text/plain": [
       "                              Car Names    Mileages  Ratings          Reviews  \\\n",
       "0               2019 Honda Accord Sport     Mileage      3.7      (3 reviews)   \n",
       "1  2015 Chevrolet Corvette Stingray Z51  29,192 mi.      3.7      (3 reviews)   \n",
       "2     2020 Jeep Grand Cherokee Overland  53,561 mi.      4.8  (1,147 reviews)   \n",
       "3            2019 Audi A7 3.0T Prestige  46,664 mi.      4.9  (1,831 reviews)   \n",
       "4          2017 Ford Mustang GT Premium  21,726 mi.      4.0    (409 reviews)   \n",
       "\n",
       "  used/certified         price drop    Price  \n",
       "0           Used    $501 price drop  $27,995  \n",
       "1           Used    $277 price drop  $52,000  \n",
       "2           Used  $2,000 price drop  $41,998  \n",
       "3           Used  $2,090 price drop  $62,750  \n",
       "4           Used    $200 price drop  $29,995  "
      ]
     },
     "execution_count": 2,
     "metadata": {},
     "output_type": "execute_result"
    }
   ],
   "source": [
    "df = pd.read_csv('new-used-cars-dataset.csv')\n",
    "df.head()"
   ]
  },
  {
   "cell_type": "code",
   "execution_count": 3,
   "id": "0385c3cd",
   "metadata": {},
   "outputs": [
    {
     "name": "stdout",
     "output_type": "stream",
     "text": [
      "<class 'pandas.core.frame.DataFrame'>\n",
      "RangeIndex: 9330 entries, 0 to 9329\n",
      "Data columns (total 7 columns):\n",
      " #   Column          Non-Null Count  Dtype  \n",
      "---  ------          --------------  -----  \n",
      " 0   Car Names       9330 non-null   object \n",
      " 1   Mileages        9330 non-null   object \n",
      " 2   Ratings         9330 non-null   float64\n",
      " 3   Reviews         9330 non-null   object \n",
      " 4   used/certified  9330 non-null   object \n",
      " 5   price drop      9330 non-null   object \n",
      " 6   Price           9330 non-null   object \n",
      "dtypes: float64(1), object(6)\n",
      "memory usage: 510.4+ KB\n"
     ]
    }
   ],
   "source": [
    "df.info()"
   ]
  },
  {
   "cell_type": "markdown",
   "id": "e8248ea2",
   "metadata": {},
   "source": [
    "#### первичный анализ\n",
    "много столбцов типа object, их нужно переделать в числовые\n",
    "CarNames - марка авто, сделать группировку, и заменить название на номер группы\n",
    "used/certified - used заменить на 1, остальное 0\n",
    "Price - убрать символы, перевеси в int\n",
    "price drop  - убрать символы, перевеси в int\n",
    "Reviews - убрать символы, перевеси в int\n",
    "Mileages - убрать символы, перевеси в int\n"
   ]
  },
  {
   "cell_type": "code",
   "execution_count": 4,
   "id": "32d8340c",
   "metadata": {},
   "outputs": [],
   "source": [
    "df.drop_duplicates(inplace=True)"
   ]
  },
  {
   "cell_type": "code",
   "execution_count": 5,
   "id": "cbf6112c",
   "metadata": {},
   "outputs": [
    {
     "name": "stdout",
     "output_type": "stream",
     "text": [
      "<class 'pandas.core.frame.DataFrame'>\n",
      "Int64Index: 4380 entries, 0 to 4379\n",
      "Data columns (total 7 columns):\n",
      " #   Column          Non-Null Count  Dtype  \n",
      "---  ------          --------------  -----  \n",
      " 0   Car Names       4380 non-null   object \n",
      " 1   Mileages        4380 non-null   object \n",
      " 2   Ratings         4380 non-null   float64\n",
      " 3   Reviews         4380 non-null   object \n",
      " 4   used/certified  4380 non-null   object \n",
      " 5   price drop      4380 non-null   object \n",
      " 6   Price           4380 non-null   object \n",
      "dtypes: float64(1), object(6)\n",
      "memory usage: 273.8+ KB\n"
     ]
    }
   ],
   "source": [
    "df.info()"
   ]
  },
  {
   "cell_type": "code",
   "execution_count": 6,
   "id": "3bf13412",
   "metadata": {},
   "outputs": [
    {
     "data": {
      "text/plain": [
       "0    $27,995\n",
       "1    $52,000\n",
       "2    $41,998\n",
       "3    $62,750\n",
       "4    $29,995\n",
       "Name: Price_d, dtype: object"
      ]
     },
     "execution_count": 6,
     "metadata": {},
     "output_type": "execute_result"
    }
   ],
   "source": [
    "#в столбце прайс буду убирать символ $ из начала строки и переводить его в числоваой формат\n",
    "df['Price_d'] = df['Price']\n",
    "df['Price_d'].head()"
   ]
  },
  {
   "cell_type": "code",
   "execution_count": 7,
   "id": "05c57517",
   "metadata": {},
   "outputs": [
    {
     "data": {
      "text/plain": [
       "111     Not Priced\n",
       "2250    Not Priced\n",
       "4140    Not Priced\n",
       "Name: Price_d, dtype: object"
      ]
     },
     "execution_count": 7,
     "metadata": {},
     "output_type": "execute_result"
    }
   ],
   "source": [
    "df['Price_d'][df['Price_d']==\"Not Priced\"]"
   ]
  },
  {
   "cell_type": "code",
   "execution_count": 8,
   "id": "5a2da3bb",
   "metadata": {},
   "outputs": [],
   "source": [
    "df['Price_d'].replace([\"Not Priced\"], \"0\",regex=True, inplace=True)"
   ]
  },
  {
   "cell_type": "code",
   "execution_count": 9,
   "id": "196d7320",
   "metadata": {},
   "outputs": [
    {
     "data": {
      "text/plain": [
       "0    27995\n",
       "1    52000\n",
       "2    41998\n",
       "3    62750\n",
       "4    29995\n",
       "Name: Price_d, dtype: int32"
      ]
     },
     "execution_count": 9,
     "metadata": {},
     "output_type": "execute_result"
    }
   ],
   "source": [
    "df['Price_d'].replace([\"\\D+\"], \"\",regex=True, inplace=True)\n",
    "df['Price_d'] = df['Price_d'].astype(int)\n",
    "df['Price_d'].head()"
   ]
  },
  {
   "cell_type": "code",
   "execution_count": 10,
   "id": "d9b9ef3c",
   "metadata": {},
   "outputs": [],
   "source": [
    "df['used']=df['used/certified']\n",
    "# df.rename(columns={'used/certified': 'used'}, inplace=True)"
   ]
  },
  {
   "cell_type": "code",
   "execution_count": 11,
   "id": "7cbc40d9",
   "metadata": {},
   "outputs": [
    {
     "data": {
      "text/html": [
       "<div>\n",
       "<style scoped>\n",
       "    .dataframe tbody tr th:only-of-type {\n",
       "        vertical-align: middle;\n",
       "    }\n",
       "\n",
       "    .dataframe tbody tr th {\n",
       "        vertical-align: top;\n",
       "    }\n",
       "\n",
       "    .dataframe thead th {\n",
       "        text-align: right;\n",
       "    }\n",
       "</style>\n",
       "<table border=\"1\" class=\"dataframe\">\n",
       "  <thead>\n",
       "    <tr style=\"text-align: right;\">\n",
       "      <th></th>\n",
       "      <th>Car Names</th>\n",
       "      <th>Mileages</th>\n",
       "      <th>Ratings</th>\n",
       "      <th>Reviews</th>\n",
       "      <th>used/certified</th>\n",
       "      <th>price drop</th>\n",
       "      <th>Price</th>\n",
       "      <th>Price_d</th>\n",
       "      <th>used</th>\n",
       "    </tr>\n",
       "  </thead>\n",
       "  <tbody>\n",
       "    <tr>\n",
       "      <th>0</th>\n",
       "      <td>2019 Honda Accord Sport</td>\n",
       "      <td>Mileage</td>\n",
       "      <td>3.7</td>\n",
       "      <td>(3 reviews)</td>\n",
       "      <td>Used</td>\n",
       "      <td>$501 price drop</td>\n",
       "      <td>$27,995</td>\n",
       "      <td>27995</td>\n",
       "      <td>1</td>\n",
       "    </tr>\n",
       "    <tr>\n",
       "      <th>1</th>\n",
       "      <td>2015 Chevrolet Corvette Stingray Z51</td>\n",
       "      <td>29,192 mi.</td>\n",
       "      <td>3.7</td>\n",
       "      <td>(3 reviews)</td>\n",
       "      <td>Used</td>\n",
       "      <td>$277 price drop</td>\n",
       "      <td>$52,000</td>\n",
       "      <td>52000</td>\n",
       "      <td>1</td>\n",
       "    </tr>\n",
       "    <tr>\n",
       "      <th>2</th>\n",
       "      <td>2020 Jeep Grand Cherokee Overland</td>\n",
       "      <td>53,561 mi.</td>\n",
       "      <td>4.8</td>\n",
       "      <td>(1,147 reviews)</td>\n",
       "      <td>Used</td>\n",
       "      <td>$2,000 price drop</td>\n",
       "      <td>$41,998</td>\n",
       "      <td>41998</td>\n",
       "      <td>1</td>\n",
       "    </tr>\n",
       "    <tr>\n",
       "      <th>3</th>\n",
       "      <td>2019 Audi A7 3.0T Prestige</td>\n",
       "      <td>46,664 mi.</td>\n",
       "      <td>4.9</td>\n",
       "      <td>(1,831 reviews)</td>\n",
       "      <td>Used</td>\n",
       "      <td>$2,090 price drop</td>\n",
       "      <td>$62,750</td>\n",
       "      <td>62750</td>\n",
       "      <td>1</td>\n",
       "    </tr>\n",
       "    <tr>\n",
       "      <th>4</th>\n",
       "      <td>2017 Ford Mustang GT Premium</td>\n",
       "      <td>21,726 mi.</td>\n",
       "      <td>4.0</td>\n",
       "      <td>(409 reviews)</td>\n",
       "      <td>Used</td>\n",
       "      <td>$200 price drop</td>\n",
       "      <td>$29,995</td>\n",
       "      <td>29995</td>\n",
       "      <td>1</td>\n",
       "    </tr>\n",
       "  </tbody>\n",
       "</table>\n",
       "</div>"
      ],
      "text/plain": [
       "                              Car Names    Mileages  Ratings          Reviews  \\\n",
       "0               2019 Honda Accord Sport     Mileage      3.7      (3 reviews)   \n",
       "1  2015 Chevrolet Corvette Stingray Z51  29,192 mi.      3.7      (3 reviews)   \n",
       "2     2020 Jeep Grand Cherokee Overland  53,561 mi.      4.8  (1,147 reviews)   \n",
       "3            2019 Audi A7 3.0T Prestige  46,664 mi.      4.9  (1,831 reviews)   \n",
       "4          2017 Ford Mustang GT Premium  21,726 mi.      4.0    (409 reviews)   \n",
       "\n",
       "  used/certified         price drop    Price  Price_d  used  \n",
       "0           Used    $501 price drop  $27,995    27995     1  \n",
       "1           Used    $277 price drop  $52,000    52000     1  \n",
       "2           Used  $2,000 price drop  $41,998    41998     1  \n",
       "3           Used  $2,090 price drop  $62,750    62750     1  \n",
       "4           Used    $200 price drop  $29,995    29995     1  "
      ]
     },
     "execution_count": 11,
     "metadata": {},
     "output_type": "execute_result"
    }
   ],
   "source": [
    "df['used'] = df.apply(lambda x: 1 if x['used']=='Used' else 0, axis=1)\n",
    "df.head()"
   ]
  },
  {
   "cell_type": "code",
   "execution_count": 12,
   "id": "26c2a42d",
   "metadata": {},
   "outputs": [],
   "source": [
    "df['Reviews_d'] = df['Reviews']"
   ]
  },
  {
   "cell_type": "code",
   "execution_count": 13,
   "id": "66b0232b",
   "metadata": {},
   "outputs": [],
   "source": [
    "df['Reviews_d'].replace([\"\\D+\"], \"\",regex=True, inplace=True)"
   ]
  },
  {
   "cell_type": "code",
   "execution_count": 14,
   "id": "55ebeee1",
   "metadata": {},
   "outputs": [
    {
     "data": {
      "text/html": [
       "<div>\n",
       "<style scoped>\n",
       "    .dataframe tbody tr th:only-of-type {\n",
       "        vertical-align: middle;\n",
       "    }\n",
       "\n",
       "    .dataframe tbody tr th {\n",
       "        vertical-align: top;\n",
       "    }\n",
       "\n",
       "    .dataframe thead th {\n",
       "        text-align: right;\n",
       "    }\n",
       "</style>\n",
       "<table border=\"1\" class=\"dataframe\">\n",
       "  <thead>\n",
       "    <tr style=\"text-align: right;\">\n",
       "      <th></th>\n",
       "      <th>Car Names</th>\n",
       "      <th>Mileages</th>\n",
       "      <th>Ratings</th>\n",
       "      <th>Reviews</th>\n",
       "      <th>used/certified</th>\n",
       "      <th>price drop</th>\n",
       "      <th>Price</th>\n",
       "      <th>Price_d</th>\n",
       "      <th>used</th>\n",
       "      <th>Reviews_d</th>\n",
       "    </tr>\n",
       "  </thead>\n",
       "  <tbody>\n",
       "    <tr>\n",
       "      <th>0</th>\n",
       "      <td>2019 Honda Accord Sport</td>\n",
       "      <td>Mileage</td>\n",
       "      <td>3.7</td>\n",
       "      <td>(3 reviews)</td>\n",
       "      <td>Used</td>\n",
       "      <td>$501 price drop</td>\n",
       "      <td>$27,995</td>\n",
       "      <td>27995</td>\n",
       "      <td>1</td>\n",
       "      <td>3</td>\n",
       "    </tr>\n",
       "    <tr>\n",
       "      <th>1</th>\n",
       "      <td>2015 Chevrolet Corvette Stingray Z51</td>\n",
       "      <td>29,192 mi.</td>\n",
       "      <td>3.7</td>\n",
       "      <td>(3 reviews)</td>\n",
       "      <td>Used</td>\n",
       "      <td>$277 price drop</td>\n",
       "      <td>$52,000</td>\n",
       "      <td>52000</td>\n",
       "      <td>1</td>\n",
       "      <td>3</td>\n",
       "    </tr>\n",
       "    <tr>\n",
       "      <th>2</th>\n",
       "      <td>2020 Jeep Grand Cherokee Overland</td>\n",
       "      <td>53,561 mi.</td>\n",
       "      <td>4.8</td>\n",
       "      <td>(1,147 reviews)</td>\n",
       "      <td>Used</td>\n",
       "      <td>$2,000 price drop</td>\n",
       "      <td>$41,998</td>\n",
       "      <td>41998</td>\n",
       "      <td>1</td>\n",
       "      <td>1147</td>\n",
       "    </tr>\n",
       "    <tr>\n",
       "      <th>3</th>\n",
       "      <td>2019 Audi A7 3.0T Prestige</td>\n",
       "      <td>46,664 mi.</td>\n",
       "      <td>4.9</td>\n",
       "      <td>(1,831 reviews)</td>\n",
       "      <td>Used</td>\n",
       "      <td>$2,090 price drop</td>\n",
       "      <td>$62,750</td>\n",
       "      <td>62750</td>\n",
       "      <td>1</td>\n",
       "      <td>1831</td>\n",
       "    </tr>\n",
       "    <tr>\n",
       "      <th>4</th>\n",
       "      <td>2017 Ford Mustang GT Premium</td>\n",
       "      <td>21,726 mi.</td>\n",
       "      <td>4.0</td>\n",
       "      <td>(409 reviews)</td>\n",
       "      <td>Used</td>\n",
       "      <td>$200 price drop</td>\n",
       "      <td>$29,995</td>\n",
       "      <td>29995</td>\n",
       "      <td>1</td>\n",
       "      <td>409</td>\n",
       "    </tr>\n",
       "  </tbody>\n",
       "</table>\n",
       "</div>"
      ],
      "text/plain": [
       "                              Car Names    Mileages  Ratings          Reviews  \\\n",
       "0               2019 Honda Accord Sport     Mileage      3.7      (3 reviews)   \n",
       "1  2015 Chevrolet Corvette Stingray Z51  29,192 mi.      3.7      (3 reviews)   \n",
       "2     2020 Jeep Grand Cherokee Overland  53,561 mi.      4.8  (1,147 reviews)   \n",
       "3            2019 Audi A7 3.0T Prestige  46,664 mi.      4.9  (1,831 reviews)   \n",
       "4          2017 Ford Mustang GT Premium  21,726 mi.      4.0    (409 reviews)   \n",
       "\n",
       "  used/certified         price drop    Price  Price_d  used  Reviews_d  \n",
       "0           Used    $501 price drop  $27,995    27995     1          3  \n",
       "1           Used    $277 price drop  $52,000    52000     1          3  \n",
       "2           Used  $2,000 price drop  $41,998    41998     1       1147  \n",
       "3           Used  $2,090 price drop  $62,750    62750     1       1831  \n",
       "4           Used    $200 price drop  $29,995    29995     1        409  "
      ]
     },
     "execution_count": 14,
     "metadata": {},
     "output_type": "execute_result"
    }
   ],
   "source": [
    "df['Reviews_d'] = df['Reviews_d'].astype(int)\n",
    "df.head()"
   ]
  },
  {
   "cell_type": "code",
   "execution_count": 15,
   "id": "9c4d1983",
   "metadata": {},
   "outputs": [],
   "source": [
    "df['price_drop'] = df['price drop']"
   ]
  },
  {
   "cell_type": "code",
   "execution_count": 16,
   "id": "3139d8a5",
   "metadata": {},
   "outputs": [],
   "source": [
    "df['price_drop'].replace([\"\\D+\"], \"\",regex=True, inplace=True)"
   ]
  },
  {
   "cell_type": "code",
   "execution_count": 17,
   "id": "1ec790f1",
   "metadata": {},
   "outputs": [
    {
     "data": {
      "text/html": [
       "<div>\n",
       "<style scoped>\n",
       "    .dataframe tbody tr th:only-of-type {\n",
       "        vertical-align: middle;\n",
       "    }\n",
       "\n",
       "    .dataframe tbody tr th {\n",
       "        vertical-align: top;\n",
       "    }\n",
       "\n",
       "    .dataframe thead th {\n",
       "        text-align: right;\n",
       "    }\n",
       "</style>\n",
       "<table border=\"1\" class=\"dataframe\">\n",
       "  <thead>\n",
       "    <tr style=\"text-align: right;\">\n",
       "      <th></th>\n",
       "      <th>Car Names</th>\n",
       "      <th>Mileages</th>\n",
       "      <th>Ratings</th>\n",
       "      <th>Reviews</th>\n",
       "      <th>used/certified</th>\n",
       "      <th>price drop</th>\n",
       "      <th>Price</th>\n",
       "      <th>Price_d</th>\n",
       "      <th>used</th>\n",
       "      <th>Reviews_d</th>\n",
       "      <th>price_drop</th>\n",
       "    </tr>\n",
       "  </thead>\n",
       "  <tbody>\n",
       "    <tr>\n",
       "      <th>0</th>\n",
       "      <td>2019 Honda Accord Sport</td>\n",
       "      <td>Mileage</td>\n",
       "      <td>3.7</td>\n",
       "      <td>(3 reviews)</td>\n",
       "      <td>Used</td>\n",
       "      <td>$501 price drop</td>\n",
       "      <td>$27,995</td>\n",
       "      <td>27995</td>\n",
       "      <td>1</td>\n",
       "      <td>3</td>\n",
       "      <td>501</td>\n",
       "    </tr>\n",
       "    <tr>\n",
       "      <th>1</th>\n",
       "      <td>2015 Chevrolet Corvette Stingray Z51</td>\n",
       "      <td>29,192 mi.</td>\n",
       "      <td>3.7</td>\n",
       "      <td>(3 reviews)</td>\n",
       "      <td>Used</td>\n",
       "      <td>$277 price drop</td>\n",
       "      <td>$52,000</td>\n",
       "      <td>52000</td>\n",
       "      <td>1</td>\n",
       "      <td>3</td>\n",
       "      <td>277</td>\n",
       "    </tr>\n",
       "    <tr>\n",
       "      <th>2</th>\n",
       "      <td>2020 Jeep Grand Cherokee Overland</td>\n",
       "      <td>53,561 mi.</td>\n",
       "      <td>4.8</td>\n",
       "      <td>(1,147 reviews)</td>\n",
       "      <td>Used</td>\n",
       "      <td>$2,000 price drop</td>\n",
       "      <td>$41,998</td>\n",
       "      <td>41998</td>\n",
       "      <td>1</td>\n",
       "      <td>1147</td>\n",
       "      <td>2000</td>\n",
       "    </tr>\n",
       "    <tr>\n",
       "      <th>3</th>\n",
       "      <td>2019 Audi A7 3.0T Prestige</td>\n",
       "      <td>46,664 mi.</td>\n",
       "      <td>4.9</td>\n",
       "      <td>(1,831 reviews)</td>\n",
       "      <td>Used</td>\n",
       "      <td>$2,090 price drop</td>\n",
       "      <td>$62,750</td>\n",
       "      <td>62750</td>\n",
       "      <td>1</td>\n",
       "      <td>1831</td>\n",
       "      <td>2090</td>\n",
       "    </tr>\n",
       "    <tr>\n",
       "      <th>4</th>\n",
       "      <td>2017 Ford Mustang GT Premium</td>\n",
       "      <td>21,726 mi.</td>\n",
       "      <td>4.0</td>\n",
       "      <td>(409 reviews)</td>\n",
       "      <td>Used</td>\n",
       "      <td>$200 price drop</td>\n",
       "      <td>$29,995</td>\n",
       "      <td>29995</td>\n",
       "      <td>1</td>\n",
       "      <td>409</td>\n",
       "      <td>200</td>\n",
       "    </tr>\n",
       "  </tbody>\n",
       "</table>\n",
       "</div>"
      ],
      "text/plain": [
       "                              Car Names    Mileages  Ratings          Reviews  \\\n",
       "0               2019 Honda Accord Sport     Mileage      3.7      (3 reviews)   \n",
       "1  2015 Chevrolet Corvette Stingray Z51  29,192 mi.      3.7      (3 reviews)   \n",
       "2     2020 Jeep Grand Cherokee Overland  53,561 mi.      4.8  (1,147 reviews)   \n",
       "3            2019 Audi A7 3.0T Prestige  46,664 mi.      4.9  (1,831 reviews)   \n",
       "4          2017 Ford Mustang GT Premium  21,726 mi.      4.0    (409 reviews)   \n",
       "\n",
       "  used/certified         price drop    Price  Price_d  used  Reviews_d  \\\n",
       "0           Used    $501 price drop  $27,995    27995     1          3   \n",
       "1           Used    $277 price drop  $52,000    52000     1          3   \n",
       "2           Used  $2,000 price drop  $41,998    41998     1       1147   \n",
       "3           Used  $2,090 price drop  $62,750    62750     1       1831   \n",
       "4           Used    $200 price drop  $29,995    29995     1        409   \n",
       "\n",
       "   price_drop  \n",
       "0         501  \n",
       "1         277  \n",
       "2        2000  \n",
       "3        2090  \n",
       "4         200  "
      ]
     },
     "execution_count": 17,
     "metadata": {},
     "output_type": "execute_result"
    }
   ],
   "source": [
    "df['price_drop'] = df['price_drop'].astype(int)\n",
    "df.head()"
   ]
  },
  {
   "cell_type": "code",
   "execution_count": 18,
   "id": "78734936",
   "metadata": {},
   "outputs": [],
   "source": [
    "df['Mileages_d'] = df['Mileages']"
   ]
  },
  {
   "cell_type": "code",
   "execution_count": 19,
   "id": "fb6df227",
   "metadata": {},
   "outputs": [],
   "source": [
    "df['Mileages_d'] = df['Mileages_d'].replace([\"Mileage\"], 0,regex=True)"
   ]
  },
  {
   "cell_type": "code",
   "execution_count": 20,
   "id": "3c44edf4",
   "metadata": {},
   "outputs": [],
   "source": [
    "df['Mileages_d'].replace([\"\\D+\"], \"\",regex=True, inplace=True)"
   ]
  },
  {
   "cell_type": "code",
   "execution_count": 21,
   "id": "b3f9ca08",
   "metadata": {},
   "outputs": [
    {
     "data": {
      "text/html": [
       "<div>\n",
       "<style scoped>\n",
       "    .dataframe tbody tr th:only-of-type {\n",
       "        vertical-align: middle;\n",
       "    }\n",
       "\n",
       "    .dataframe tbody tr th {\n",
       "        vertical-align: top;\n",
       "    }\n",
       "\n",
       "    .dataframe thead th {\n",
       "        text-align: right;\n",
       "    }\n",
       "</style>\n",
       "<table border=\"1\" class=\"dataframe\">\n",
       "  <thead>\n",
       "    <tr style=\"text-align: right;\">\n",
       "      <th></th>\n",
       "      <th>Car Names</th>\n",
       "      <th>Mileages</th>\n",
       "      <th>Ratings</th>\n",
       "      <th>Reviews</th>\n",
       "      <th>used/certified</th>\n",
       "      <th>price drop</th>\n",
       "      <th>Price</th>\n",
       "      <th>Price_d</th>\n",
       "      <th>used</th>\n",
       "      <th>Reviews_d</th>\n",
       "      <th>price_drop</th>\n",
       "      <th>Mileages_d</th>\n",
       "    </tr>\n",
       "  </thead>\n",
       "  <tbody>\n",
       "    <tr>\n",
       "      <th>0</th>\n",
       "      <td>2019 Honda Accord Sport</td>\n",
       "      <td>Mileage</td>\n",
       "      <td>3.7</td>\n",
       "      <td>(3 reviews)</td>\n",
       "      <td>Used</td>\n",
       "      <td>$501 price drop</td>\n",
       "      <td>$27,995</td>\n",
       "      <td>27995</td>\n",
       "      <td>1</td>\n",
       "      <td>3</td>\n",
       "      <td>501</td>\n",
       "      <td>0</td>\n",
       "    </tr>\n",
       "    <tr>\n",
       "      <th>1</th>\n",
       "      <td>2015 Chevrolet Corvette Stingray Z51</td>\n",
       "      <td>29,192 mi.</td>\n",
       "      <td>3.7</td>\n",
       "      <td>(3 reviews)</td>\n",
       "      <td>Used</td>\n",
       "      <td>$277 price drop</td>\n",
       "      <td>$52,000</td>\n",
       "      <td>52000</td>\n",
       "      <td>1</td>\n",
       "      <td>3</td>\n",
       "      <td>277</td>\n",
       "      <td>29192</td>\n",
       "    </tr>\n",
       "    <tr>\n",
       "      <th>2</th>\n",
       "      <td>2020 Jeep Grand Cherokee Overland</td>\n",
       "      <td>53,561 mi.</td>\n",
       "      <td>4.8</td>\n",
       "      <td>(1,147 reviews)</td>\n",
       "      <td>Used</td>\n",
       "      <td>$2,000 price drop</td>\n",
       "      <td>$41,998</td>\n",
       "      <td>41998</td>\n",
       "      <td>1</td>\n",
       "      <td>1147</td>\n",
       "      <td>2000</td>\n",
       "      <td>53561</td>\n",
       "    </tr>\n",
       "    <tr>\n",
       "      <th>3</th>\n",
       "      <td>2019 Audi A7 3.0T Prestige</td>\n",
       "      <td>46,664 mi.</td>\n",
       "      <td>4.9</td>\n",
       "      <td>(1,831 reviews)</td>\n",
       "      <td>Used</td>\n",
       "      <td>$2,090 price drop</td>\n",
       "      <td>$62,750</td>\n",
       "      <td>62750</td>\n",
       "      <td>1</td>\n",
       "      <td>1831</td>\n",
       "      <td>2090</td>\n",
       "      <td>46664</td>\n",
       "    </tr>\n",
       "    <tr>\n",
       "      <th>4</th>\n",
       "      <td>2017 Ford Mustang GT Premium</td>\n",
       "      <td>21,726 mi.</td>\n",
       "      <td>4.0</td>\n",
       "      <td>(409 reviews)</td>\n",
       "      <td>Used</td>\n",
       "      <td>$200 price drop</td>\n",
       "      <td>$29,995</td>\n",
       "      <td>29995</td>\n",
       "      <td>1</td>\n",
       "      <td>409</td>\n",
       "      <td>200</td>\n",
       "      <td>21726</td>\n",
       "    </tr>\n",
       "  </tbody>\n",
       "</table>\n",
       "</div>"
      ],
      "text/plain": [
       "                              Car Names    Mileages  Ratings          Reviews  \\\n",
       "0               2019 Honda Accord Sport     Mileage      3.7      (3 reviews)   \n",
       "1  2015 Chevrolet Corvette Stingray Z51  29,192 mi.      3.7      (3 reviews)   \n",
       "2     2020 Jeep Grand Cherokee Overland  53,561 mi.      4.8  (1,147 reviews)   \n",
       "3            2019 Audi A7 3.0T Prestige  46,664 mi.      4.9  (1,831 reviews)   \n",
       "4          2017 Ford Mustang GT Premium  21,726 mi.      4.0    (409 reviews)   \n",
       "\n",
       "  used/certified         price drop    Price  Price_d  used  Reviews_d  \\\n",
       "0           Used    $501 price drop  $27,995    27995     1          3   \n",
       "1           Used    $277 price drop  $52,000    52000     1          3   \n",
       "2           Used  $2,000 price drop  $41,998    41998     1       1147   \n",
       "3           Used  $2,090 price drop  $62,750    62750     1       1831   \n",
       "4           Used    $200 price drop  $29,995    29995     1        409   \n",
       "\n",
       "   price_drop  Mileages_d  \n",
       "0         501           0  \n",
       "1         277       29192  \n",
       "2        2000       53561  \n",
       "3        2090       46664  \n",
       "4         200       21726  "
      ]
     },
     "execution_count": 21,
     "metadata": {},
     "output_type": "execute_result"
    }
   ],
   "source": [
    "df['Mileages_d'] = df['Mileages_d'].astype(int)\n",
    "df.head()"
   ]
  },
  {
   "cell_type": "code",
   "execution_count": 22,
   "id": "463bf2d6",
   "metadata": {},
   "outputs": [
    {
     "data": {
      "text/html": [
       "<div>\n",
       "<style scoped>\n",
       "    .dataframe tbody tr th:only-of-type {\n",
       "        vertical-align: middle;\n",
       "    }\n",
       "\n",
       "    .dataframe tbody tr th {\n",
       "        vertical-align: top;\n",
       "    }\n",
       "\n",
       "    .dataframe thead th {\n",
       "        text-align: right;\n",
       "    }\n",
       "</style>\n",
       "<table border=\"1\" class=\"dataframe\">\n",
       "  <thead>\n",
       "    <tr style=\"text-align: right;\">\n",
       "      <th></th>\n",
       "      <th>Car Names</th>\n",
       "      <th>Mileages</th>\n",
       "      <th>Ratings</th>\n",
       "      <th>Reviews</th>\n",
       "      <th>used/certified</th>\n",
       "      <th>price drop</th>\n",
       "      <th>Price</th>\n",
       "      <th>Price_d</th>\n",
       "      <th>used</th>\n",
       "      <th>Reviews_d</th>\n",
       "      <th>price_drop</th>\n",
       "      <th>Mileages_d</th>\n",
       "      <th>group</th>\n",
       "    </tr>\n",
       "  </thead>\n",
       "  <tbody>\n",
       "    <tr>\n",
       "      <th>0</th>\n",
       "      <td>2019 Honda Accord Sport</td>\n",
       "      <td>Mileage</td>\n",
       "      <td>3.7</td>\n",
       "      <td>(3 reviews)</td>\n",
       "      <td>Used</td>\n",
       "      <td>$501 price drop</td>\n",
       "      <td>$27,995</td>\n",
       "      <td>27995</td>\n",
       "      <td>1</td>\n",
       "      <td>3</td>\n",
       "      <td>501</td>\n",
       "      <td>0</td>\n",
       "      <td>840</td>\n",
       "    </tr>\n",
       "    <tr>\n",
       "      <th>1</th>\n",
       "      <td>2015 Chevrolet Corvette Stingray Z51</td>\n",
       "      <td>29,192 mi.</td>\n",
       "      <td>3.7</td>\n",
       "      <td>(3 reviews)</td>\n",
       "      <td>Used</td>\n",
       "      <td>$277 price drop</td>\n",
       "      <td>$52,000</td>\n",
       "      <td>52000</td>\n",
       "      <td>1</td>\n",
       "      <td>3</td>\n",
       "      <td>277</td>\n",
       "      <td>29192</td>\n",
       "      <td>180</td>\n",
       "    </tr>\n",
       "    <tr>\n",
       "      <th>2</th>\n",
       "      <td>2020 Jeep Grand Cherokee Overland</td>\n",
       "      <td>53,561 mi.</td>\n",
       "      <td>4.8</td>\n",
       "      <td>(1,147 reviews)</td>\n",
       "      <td>Used</td>\n",
       "      <td>$2,000 price drop</td>\n",
       "      <td>$41,998</td>\n",
       "      <td>41998</td>\n",
       "      <td>1</td>\n",
       "      <td>1147</td>\n",
       "      <td>2000</td>\n",
       "      <td>53561</td>\n",
       "      <td>1243</td>\n",
       "    </tr>\n",
       "    <tr>\n",
       "      <th>3</th>\n",
       "      <td>2019 Audi A7 3.0T Prestige</td>\n",
       "      <td>46,664 mi.</td>\n",
       "      <td>4.9</td>\n",
       "      <td>(1,831 reviews)</td>\n",
       "      <td>Used</td>\n",
       "      <td>$2,090 price drop</td>\n",
       "      <td>$62,750</td>\n",
       "      <td>62750</td>\n",
       "      <td>1</td>\n",
       "      <td>1831</td>\n",
       "      <td>2090</td>\n",
       "      <td>46664</td>\n",
       "      <td>717</td>\n",
       "    </tr>\n",
       "    <tr>\n",
       "      <th>4</th>\n",
       "      <td>2017 Ford Mustang GT Premium</td>\n",
       "      <td>21,726 mi.</td>\n",
       "      <td>4.0</td>\n",
       "      <td>(409 reviews)</td>\n",
       "      <td>Used</td>\n",
       "      <td>$200 price drop</td>\n",
       "      <td>$29,995</td>\n",
       "      <td>29995</td>\n",
       "      <td>1</td>\n",
       "      <td>409</td>\n",
       "      <td>200</td>\n",
       "      <td>21726</td>\n",
       "      <td>390</td>\n",
       "    </tr>\n",
       "  </tbody>\n",
       "</table>\n",
       "</div>"
      ],
      "text/plain": [
       "                              Car Names    Mileages  Ratings          Reviews  \\\n",
       "0               2019 Honda Accord Sport     Mileage      3.7      (3 reviews)   \n",
       "1  2015 Chevrolet Corvette Stingray Z51  29,192 mi.      3.7      (3 reviews)   \n",
       "2     2020 Jeep Grand Cherokee Overland  53,561 mi.      4.8  (1,147 reviews)   \n",
       "3            2019 Audi A7 3.0T Prestige  46,664 mi.      4.9  (1,831 reviews)   \n",
       "4          2017 Ford Mustang GT Premium  21,726 mi.      4.0    (409 reviews)   \n",
       "\n",
       "  used/certified         price drop    Price  Price_d  used  Reviews_d  \\\n",
       "0           Used    $501 price drop  $27,995    27995     1          3   \n",
       "1           Used    $277 price drop  $52,000    52000     1          3   \n",
       "2           Used  $2,000 price drop  $41,998    41998     1       1147   \n",
       "3           Used  $2,090 price drop  $62,750    62750     1       1831   \n",
       "4           Used    $200 price drop  $29,995    29995     1        409   \n",
       "\n",
       "   price_drop  Mileages_d  group  \n",
       "0         501           0    840  \n",
       "1         277       29192    180  \n",
       "2        2000       53561   1243  \n",
       "3        2090       46664    717  \n",
       "4         200       21726    390  "
      ]
     },
     "execution_count": 22,
     "metadata": {},
     "output_type": "execute_result"
    }
   ],
   "source": [
    "df['group']=df.groupby(['Car Names'], axis=0).ngroup()\n",
    "df.head()"
   ]
  },
  {
   "cell_type": "code",
   "execution_count": 23,
   "id": "7d2bcaab",
   "metadata": {},
   "outputs": [],
   "source": [
    "df[df['Price_d']==0] = df['Price_d'].mean()"
   ]
  },
  {
   "cell_type": "code",
   "execution_count": 24,
   "id": "e9f5412f",
   "metadata": {},
   "outputs": [],
   "source": [
    "df[df['Mileages_d']==0] = df['Mileages_d'].mean()"
   ]
  },
  {
   "cell_type": "code",
   "execution_count": 25,
   "id": "85714b36",
   "metadata": {},
   "outputs": [
    {
     "data": {
      "text/html": [
       "<div>\n",
       "<style scoped>\n",
       "    .dataframe tbody tr th:only-of-type {\n",
       "        vertical-align: middle;\n",
       "    }\n",
       "\n",
       "    .dataframe tbody tr th {\n",
       "        vertical-align: top;\n",
       "    }\n",
       "\n",
       "    .dataframe thead th {\n",
       "        text-align: right;\n",
       "    }\n",
       "</style>\n",
       "<table border=\"1\" class=\"dataframe\">\n",
       "  <thead>\n",
       "    <tr style=\"text-align: right;\">\n",
       "      <th></th>\n",
       "      <th>Car Names</th>\n",
       "      <th>Mileages</th>\n",
       "      <th>Ratings</th>\n",
       "      <th>Reviews</th>\n",
       "      <th>used/certified</th>\n",
       "      <th>price drop</th>\n",
       "      <th>Price</th>\n",
       "      <th>Price_d</th>\n",
       "      <th>used</th>\n",
       "      <th>Reviews_d</th>\n",
       "      <th>price_drop</th>\n",
       "      <th>Mileages_d</th>\n",
       "      <th>group</th>\n",
       "    </tr>\n",
       "  </thead>\n",
       "  <tbody>\n",
       "    <tr>\n",
       "      <th>0</th>\n",
       "      <td>34712.166821</td>\n",
       "      <td>34712.166821</td>\n",
       "      <td>34712.166821</td>\n",
       "      <td>34712.166821</td>\n",
       "      <td>34712.166821</td>\n",
       "      <td>34712.166821</td>\n",
       "      <td>34712.166821</td>\n",
       "      <td>34712.166821</td>\n",
       "      <td>34712.166821</td>\n",
       "      <td>34712.166821</td>\n",
       "      <td>34712.166821</td>\n",
       "      <td>34712.166821</td>\n",
       "      <td>34712.166821</td>\n",
       "    </tr>\n",
       "    <tr>\n",
       "      <th>1</th>\n",
       "      <td>2015 Chevrolet Corvette Stingray Z51</td>\n",
       "      <td>29,192 mi.</td>\n",
       "      <td>3.700000</td>\n",
       "      <td>(3 reviews)</td>\n",
       "      <td>Used</td>\n",
       "      <td>$277 price drop</td>\n",
       "      <td>$52,000</td>\n",
       "      <td>52000.000000</td>\n",
       "      <td>1.000000</td>\n",
       "      <td>3.000000</td>\n",
       "      <td>277.000000</td>\n",
       "      <td>29192.000000</td>\n",
       "      <td>180.000000</td>\n",
       "    </tr>\n",
       "    <tr>\n",
       "      <th>2</th>\n",
       "      <td>2020 Jeep Grand Cherokee Overland</td>\n",
       "      <td>53,561 mi.</td>\n",
       "      <td>4.800000</td>\n",
       "      <td>(1,147 reviews)</td>\n",
       "      <td>Used</td>\n",
       "      <td>$2,000 price drop</td>\n",
       "      <td>$41,998</td>\n",
       "      <td>41998.000000</td>\n",
       "      <td>1.000000</td>\n",
       "      <td>1147.000000</td>\n",
       "      <td>2000.000000</td>\n",
       "      <td>53561.000000</td>\n",
       "      <td>1243.000000</td>\n",
       "    </tr>\n",
       "    <tr>\n",
       "      <th>3</th>\n",
       "      <td>2019 Audi A7 3.0T Prestige</td>\n",
       "      <td>46,664 mi.</td>\n",
       "      <td>4.900000</td>\n",
       "      <td>(1,831 reviews)</td>\n",
       "      <td>Used</td>\n",
       "      <td>$2,090 price drop</td>\n",
       "      <td>$62,750</td>\n",
       "      <td>62750.000000</td>\n",
       "      <td>1.000000</td>\n",
       "      <td>1831.000000</td>\n",
       "      <td>2090.000000</td>\n",
       "      <td>46664.000000</td>\n",
       "      <td>717.000000</td>\n",
       "    </tr>\n",
       "    <tr>\n",
       "      <th>4</th>\n",
       "      <td>2017 Ford Mustang GT Premium</td>\n",
       "      <td>21,726 mi.</td>\n",
       "      <td>4.000000</td>\n",
       "      <td>(409 reviews)</td>\n",
       "      <td>Used</td>\n",
       "      <td>$200 price drop</td>\n",
       "      <td>$29,995</td>\n",
       "      <td>29995.000000</td>\n",
       "      <td>1.000000</td>\n",
       "      <td>409.000000</td>\n",
       "      <td>200.000000</td>\n",
       "      <td>21726.000000</td>\n",
       "      <td>390.000000</td>\n",
       "    </tr>\n",
       "    <tr>\n",
       "      <th>...</th>\n",
       "      <td>...</td>\n",
       "      <td>...</td>\n",
       "      <td>...</td>\n",
       "      <td>...</td>\n",
       "      <td>...</td>\n",
       "      <td>...</td>\n",
       "      <td>...</td>\n",
       "      <td>...</td>\n",
       "      <td>...</td>\n",
       "      <td>...</td>\n",
       "      <td>...</td>\n",
       "      <td>...</td>\n",
       "      <td>...</td>\n",
       "    </tr>\n",
       "    <tr>\n",
       "      <th>4375</th>\n",
       "      <td>2019 Lexus IS 300 Base</td>\n",
       "      <td>61,106 mi.</td>\n",
       "      <td>4.700000</td>\n",
       "      <td>(4,658 reviews)</td>\n",
       "      <td>Used</td>\n",
       "      <td>$2,770 price drop</td>\n",
       "      <td>$36,500</td>\n",
       "      <td>36500.000000</td>\n",
       "      <td>1.000000</td>\n",
       "      <td>4658.000000</td>\n",
       "      <td>2770.000000</td>\n",
       "      <td>61106.000000</td>\n",
       "      <td>918.000000</td>\n",
       "    </tr>\n",
       "    <tr>\n",
       "      <th>4376</th>\n",
       "      <td>2019 Kia Sorento L</td>\n",
       "      <td>11,132 mi.</td>\n",
       "      <td>4.800000</td>\n",
       "      <td>(505 reviews)</td>\n",
       "      <td>Used</td>\n",
       "      <td>$200 price drop</td>\n",
       "      <td>$23,450</td>\n",
       "      <td>23450.000000</td>\n",
       "      <td>1.000000</td>\n",
       "      <td>505.000000</td>\n",
       "      <td>200.000000</td>\n",
       "      <td>11132.000000</td>\n",
       "      <td>892.000000</td>\n",
       "    </tr>\n",
       "    <tr>\n",
       "      <th>4377</th>\n",
       "      <td>2017 GMC Acadia Denali</td>\n",
       "      <td>55,074 mi.</td>\n",
       "      <td>3.400000</td>\n",
       "      <td>(127 reviews)</td>\n",
       "      <td>Used</td>\n",
       "      <td>$2,065 price drop</td>\n",
       "      <td>$29,381</td>\n",
       "      <td>29381.000000</td>\n",
       "      <td>1.000000</td>\n",
       "      <td>127.000000</td>\n",
       "      <td>2065.000000</td>\n",
       "      <td>55074.000000</td>\n",
       "      <td>392.000000</td>\n",
       "    </tr>\n",
       "    <tr>\n",
       "      <th>4378</th>\n",
       "      <td>2019 Honda Pilot Elite</td>\n",
       "      <td>57,150 mi.</td>\n",
       "      <td>4.900000</td>\n",
       "      <td>(8,222 reviews)</td>\n",
       "      <td>Honda Certified</td>\n",
       "      <td>$2,007 price drop</td>\n",
       "      <td>$38,488</td>\n",
       "      <td>38488.000000</td>\n",
       "      <td>0.000000</td>\n",
       "      <td>8222.000000</td>\n",
       "      <td>2007.000000</td>\n",
       "      <td>57150.000000</td>\n",
       "      <td>858.000000</td>\n",
       "    </tr>\n",
       "    <tr>\n",
       "      <th>4379</th>\n",
       "      <td>2019 GMC Terrain SLT</td>\n",
       "      <td>56,293 mi.</td>\n",
       "      <td>4.800000</td>\n",
       "      <td>(1,293 reviews)</td>\n",
       "      <td>Used</td>\n",
       "      <td>$561 price drop</td>\n",
       "      <td>$27,812</td>\n",
       "      <td>27812.000000</td>\n",
       "      <td>1.000000</td>\n",
       "      <td>1293.000000</td>\n",
       "      <td>561.000000</td>\n",
       "      <td>56293.000000</td>\n",
       "      <td>833.000000</td>\n",
       "    </tr>\n",
       "  </tbody>\n",
       "</table>\n",
       "<p>4380 rows × 13 columns</p>\n",
       "</div>"
      ],
      "text/plain": [
       "                                 Car Names      Mileages       Ratings  \\\n",
       "0                             34712.166821  34712.166821  34712.166821   \n",
       "1     2015 Chevrolet Corvette Stingray Z51    29,192 mi.      3.700000   \n",
       "2        2020 Jeep Grand Cherokee Overland    53,561 mi.      4.800000   \n",
       "3               2019 Audi A7 3.0T Prestige    46,664 mi.      4.900000   \n",
       "4             2017 Ford Mustang GT Premium    21,726 mi.      4.000000   \n",
       "...                                    ...           ...           ...   \n",
       "4375                2019 Lexus IS 300 Base    61,106 mi.      4.700000   \n",
       "4376                    2019 Kia Sorento L    11,132 mi.      4.800000   \n",
       "4377                2017 GMC Acadia Denali    55,074 mi.      3.400000   \n",
       "4378                2019 Honda Pilot Elite    57,150 mi.      4.900000   \n",
       "4379                  2019 GMC Terrain SLT    56,293 mi.      4.800000   \n",
       "\n",
       "              Reviews   used/certified         price drop         Price  \\\n",
       "0        34712.166821     34712.166821       34712.166821  34712.166821   \n",
       "1         (3 reviews)             Used    $277 price drop       $52,000   \n",
       "2     (1,147 reviews)             Used  $2,000 price drop       $41,998   \n",
       "3     (1,831 reviews)             Used  $2,090 price drop       $62,750   \n",
       "4       (409 reviews)             Used    $200 price drop       $29,995   \n",
       "...               ...              ...                ...           ...   \n",
       "4375  (4,658 reviews)             Used  $2,770 price drop       $36,500   \n",
       "4376    (505 reviews)             Used    $200 price drop       $23,450   \n",
       "4377    (127 reviews)             Used  $2,065 price drop       $29,381   \n",
       "4378  (8,222 reviews)  Honda Certified  $2,007 price drop       $38,488   \n",
       "4379  (1,293 reviews)             Used    $561 price drop       $27,812   \n",
       "\n",
       "           Price_d          used     Reviews_d    price_drop    Mileages_d  \\\n",
       "0     34712.166821  34712.166821  34712.166821  34712.166821  34712.166821   \n",
       "1     52000.000000      1.000000      3.000000    277.000000  29192.000000   \n",
       "2     41998.000000      1.000000   1147.000000   2000.000000  53561.000000   \n",
       "3     62750.000000      1.000000   1831.000000   2090.000000  46664.000000   \n",
       "4     29995.000000      1.000000    409.000000    200.000000  21726.000000   \n",
       "...            ...           ...           ...           ...           ...   \n",
       "4375  36500.000000      1.000000   4658.000000   2770.000000  61106.000000   \n",
       "4376  23450.000000      1.000000    505.000000    200.000000  11132.000000   \n",
       "4377  29381.000000      1.000000    127.000000   2065.000000  55074.000000   \n",
       "4378  38488.000000      0.000000   8222.000000   2007.000000  57150.000000   \n",
       "4379  27812.000000      1.000000   1293.000000    561.000000  56293.000000   \n",
       "\n",
       "             group  \n",
       "0     34712.166821  \n",
       "1       180.000000  \n",
       "2      1243.000000  \n",
       "3       717.000000  \n",
       "4       390.000000  \n",
       "...            ...  \n",
       "4375    918.000000  \n",
       "4376    892.000000  \n",
       "4377    392.000000  \n",
       "4378    858.000000  \n",
       "4379    833.000000  \n",
       "\n",
       "[4380 rows x 13 columns]"
      ]
     },
     "execution_count": 25,
     "metadata": {},
     "output_type": "execute_result"
    }
   ],
   "source": [
    "df"
   ]
  },
  {
   "cell_type": "code",
   "execution_count": 26,
   "id": "b8ddae86",
   "metadata": {},
   "outputs": [],
   "source": [
    "df['test'] = df['Car Names'].str.split(' ')\n"
   ]
  },
  {
   "cell_type": "code",
   "execution_count": 27,
   "id": "7da1f73f",
   "metadata": {},
   "outputs": [],
   "source": [
    "df = df[df['test'].isna() == False]"
   ]
  },
  {
   "cell_type": "code",
   "execution_count": 28,
   "id": "85741369",
   "metadata": {},
   "outputs": [
    {
     "name": "stderr",
     "output_type": "stream",
     "text": [
      "C:\\Users\\goninm\\AppData\\Local\\Temp/ipykernel_15636/2893633169.py:1: SettingWithCopyWarning: \n",
      "A value is trying to be set on a copy of a slice from a DataFrame.\n",
      "Try using .loc[row_indexer,col_indexer] = value instead\n",
      "\n",
      "See the caveats in the documentation: https://pandas.pydata.org/pandas-docs/stable/user_guide/indexing.html#returning-a-view-versus-a-copy\n",
      "  df['year'] = df['test'].apply(lambda x: x[0])\n",
      "C:\\Users\\goninm\\AppData\\Local\\Temp/ipykernel_15636/2893633169.py:2: SettingWithCopyWarning: \n",
      "A value is trying to be set on a copy of a slice from a DataFrame.\n",
      "Try using .loc[row_indexer,col_indexer] = value instead\n",
      "\n",
      "See the caveats in the documentation: https://pandas.pydata.org/pandas-docs/stable/user_guide/indexing.html#returning-a-view-versus-a-copy\n",
      "  df['year'] = df['year'].astype(int)\n"
     ]
    }
   ],
   "source": [
    "df['year'] = df['test'].apply(lambda x: x[0])\n",
    "df['year'] = df['year'].astype(int)"
   ]
  },
  {
   "cell_type": "code",
   "execution_count": 29,
   "id": "d4cf83aa",
   "metadata": {},
   "outputs": [
    {
     "name": "stderr",
     "output_type": "stream",
     "text": [
      "C:\\Users\\goninm\\AppData\\Local\\Temp/ipykernel_15636/1413394560.py:1: SettingWithCopyWarning: \n",
      "A value is trying to be set on a copy of a slice from a DataFrame.\n",
      "Try using .loc[row_indexer,col_indexer] = value instead\n",
      "\n",
      "See the caveats in the documentation: https://pandas.pydata.org/pandas-docs/stable/user_guide/indexing.html#returning-a-view-versus-a-copy\n",
      "  df['Manufacture'] = df['test'].apply(lambda x: x[1])\n"
     ]
    }
   ],
   "source": [
    "df['Manufacture'] = df['test'].apply(lambda x: x[1])"
   ]
  },
  {
   "cell_type": "code",
   "execution_count": 30,
   "id": "fb1cbc3d",
   "metadata": {},
   "outputs": [
    {
     "name": "stderr",
     "output_type": "stream",
     "text": [
      "C:\\Users\\goninm\\AppData\\Local\\Temp/ipykernel_15636/123370241.py:1: SettingWithCopyWarning: \n",
      "A value is trying to be set on a copy of a slice from a DataFrame.\n",
      "Try using .loc[row_indexer,col_indexer] = value instead\n",
      "\n",
      "See the caveats in the documentation: https://pandas.pydata.org/pandas-docs/stable/user_guide/indexing.html#returning-a-view-versus-a-copy\n",
      "  df['model_name']=df['test'].apply(lambda x: x[2:])\n"
     ]
    }
   ],
   "source": [
    "df['model_name']=df['test'].apply(lambda x: x[2:])"
   ]
  },
  {
   "cell_type": "code",
   "execution_count": 31,
   "id": "4ce51c61",
   "metadata": {},
   "outputs": [
    {
     "data": {
      "text/html": [
       "<div>\n",
       "<style scoped>\n",
       "    .dataframe tbody tr th:only-of-type {\n",
       "        vertical-align: middle;\n",
       "    }\n",
       "\n",
       "    .dataframe tbody tr th {\n",
       "        vertical-align: top;\n",
       "    }\n",
       "\n",
       "    .dataframe thead th {\n",
       "        text-align: right;\n",
       "    }\n",
       "</style>\n",
       "<table border=\"1\" class=\"dataframe\">\n",
       "  <thead>\n",
       "    <tr style=\"text-align: right;\">\n",
       "      <th></th>\n",
       "      <th>Car Names</th>\n",
       "      <th>Mileages</th>\n",
       "      <th>Ratings</th>\n",
       "      <th>Reviews</th>\n",
       "      <th>used/certified</th>\n",
       "      <th>price drop</th>\n",
       "      <th>Price</th>\n",
       "      <th>Price_d</th>\n",
       "      <th>used</th>\n",
       "      <th>Reviews_d</th>\n",
       "      <th>price_drop</th>\n",
       "      <th>Mileages_d</th>\n",
       "      <th>group</th>\n",
       "      <th>test</th>\n",
       "      <th>year</th>\n",
       "      <th>Manufacture</th>\n",
       "      <th>model_name</th>\n",
       "    </tr>\n",
       "  </thead>\n",
       "  <tbody>\n",
       "    <tr>\n",
       "      <th>1</th>\n",
       "      <td>2015 Chevrolet Corvette Stingray Z51</td>\n",
       "      <td>29,192 mi.</td>\n",
       "      <td>3.7</td>\n",
       "      <td>(3 reviews)</td>\n",
       "      <td>Used</td>\n",
       "      <td>$277 price drop</td>\n",
       "      <td>$52,000</td>\n",
       "      <td>52000.0</td>\n",
       "      <td>1.0</td>\n",
       "      <td>3.0</td>\n",
       "      <td>277.0</td>\n",
       "      <td>29192.0</td>\n",
       "      <td>180.0</td>\n",
       "      <td>[2015, Chevrolet, Corvette, Stingray, Z51]</td>\n",
       "      <td>2015</td>\n",
       "      <td>Chevrolet</td>\n",
       "      <td>[Corvette, Stingray, Z51]</td>\n",
       "    </tr>\n",
       "    <tr>\n",
       "      <th>2</th>\n",
       "      <td>2020 Jeep Grand Cherokee Overland</td>\n",
       "      <td>53,561 mi.</td>\n",
       "      <td>4.8</td>\n",
       "      <td>(1,147 reviews)</td>\n",
       "      <td>Used</td>\n",
       "      <td>$2,000 price drop</td>\n",
       "      <td>$41,998</td>\n",
       "      <td>41998.0</td>\n",
       "      <td>1.0</td>\n",
       "      <td>1147.0</td>\n",
       "      <td>2000.0</td>\n",
       "      <td>53561.0</td>\n",
       "      <td>1243.0</td>\n",
       "      <td>[2020, Jeep, Grand, Cherokee, Overland]</td>\n",
       "      <td>2020</td>\n",
       "      <td>Jeep</td>\n",
       "      <td>[Grand, Cherokee, Overland]</td>\n",
       "    </tr>\n",
       "    <tr>\n",
       "      <th>3</th>\n",
       "      <td>2019 Audi A7 3.0T Prestige</td>\n",
       "      <td>46,664 mi.</td>\n",
       "      <td>4.9</td>\n",
       "      <td>(1,831 reviews)</td>\n",
       "      <td>Used</td>\n",
       "      <td>$2,090 price drop</td>\n",
       "      <td>$62,750</td>\n",
       "      <td>62750.0</td>\n",
       "      <td>1.0</td>\n",
       "      <td>1831.0</td>\n",
       "      <td>2090.0</td>\n",
       "      <td>46664.0</td>\n",
       "      <td>717.0</td>\n",
       "      <td>[2019, Audi, A7, 3.0T, Prestige]</td>\n",
       "      <td>2019</td>\n",
       "      <td>Audi</td>\n",
       "      <td>[A7, 3.0T, Prestige]</td>\n",
       "    </tr>\n",
       "    <tr>\n",
       "      <th>4</th>\n",
       "      <td>2017 Ford Mustang GT Premium</td>\n",
       "      <td>21,726 mi.</td>\n",
       "      <td>4.0</td>\n",
       "      <td>(409 reviews)</td>\n",
       "      <td>Used</td>\n",
       "      <td>$200 price drop</td>\n",
       "      <td>$29,995</td>\n",
       "      <td>29995.0</td>\n",
       "      <td>1.0</td>\n",
       "      <td>409.0</td>\n",
       "      <td>200.0</td>\n",
       "      <td>21726.0</td>\n",
       "      <td>390.0</td>\n",
       "      <td>[2017, Ford, Mustang, GT, Premium]</td>\n",
       "      <td>2017</td>\n",
       "      <td>Ford</td>\n",
       "      <td>[Mustang, GT, Premium]</td>\n",
       "    </tr>\n",
       "    <tr>\n",
       "      <th>5</th>\n",
       "      <td>2016 Jeep Grand Cherokee Limited</td>\n",
       "      <td>66,514 mi.</td>\n",
       "      <td>4.6</td>\n",
       "      <td>(1,348 reviews)</td>\n",
       "      <td>Used</td>\n",
       "      <td>$2,000 price drop</td>\n",
       "      <td>$26,499</td>\n",
       "      <td>26499.0</td>\n",
       "      <td>1.0</td>\n",
       "      <td>1348.0</td>\n",
       "      <td>2000.0</td>\n",
       "      <td>66514.0</td>\n",
       "      <td>297.0</td>\n",
       "      <td>[2016, Jeep, Grand, Cherokee, Limited]</td>\n",
       "      <td>2016</td>\n",
       "      <td>Jeep</td>\n",
       "      <td>[Grand, Cherokee, Limited]</td>\n",
       "    </tr>\n",
       "  </tbody>\n",
       "</table>\n",
       "</div>"
      ],
      "text/plain": [
       "                              Car Names    Mileages  Ratings          Reviews  \\\n",
       "1  2015 Chevrolet Corvette Stingray Z51  29,192 mi.      3.7      (3 reviews)   \n",
       "2     2020 Jeep Grand Cherokee Overland  53,561 mi.      4.8  (1,147 reviews)   \n",
       "3            2019 Audi A7 3.0T Prestige  46,664 mi.      4.9  (1,831 reviews)   \n",
       "4          2017 Ford Mustang GT Premium  21,726 mi.      4.0    (409 reviews)   \n",
       "5      2016 Jeep Grand Cherokee Limited  66,514 mi.      4.6  (1,348 reviews)   \n",
       "\n",
       "  used/certified         price drop    Price  Price_d  used  Reviews_d  \\\n",
       "1           Used    $277 price drop  $52,000  52000.0   1.0        3.0   \n",
       "2           Used  $2,000 price drop  $41,998  41998.0   1.0     1147.0   \n",
       "3           Used  $2,090 price drop  $62,750  62750.0   1.0     1831.0   \n",
       "4           Used    $200 price drop  $29,995  29995.0   1.0      409.0   \n",
       "5           Used  $2,000 price drop  $26,499  26499.0   1.0     1348.0   \n",
       "\n",
       "   price_drop  Mileages_d   group                                        test  \\\n",
       "1       277.0     29192.0   180.0  [2015, Chevrolet, Corvette, Stingray, Z51]   \n",
       "2      2000.0     53561.0  1243.0     [2020, Jeep, Grand, Cherokee, Overland]   \n",
       "3      2090.0     46664.0   717.0            [2019, Audi, A7, 3.0T, Prestige]   \n",
       "4       200.0     21726.0   390.0          [2017, Ford, Mustang, GT, Premium]   \n",
       "5      2000.0     66514.0   297.0      [2016, Jeep, Grand, Cherokee, Limited]   \n",
       "\n",
       "   year Manufacture                   model_name  \n",
       "1  2015   Chevrolet    [Corvette, Stingray, Z51]  \n",
       "2  2020        Jeep  [Grand, Cherokee, Overland]  \n",
       "3  2019        Audi         [A7, 3.0T, Prestige]  \n",
       "4  2017        Ford       [Mustang, GT, Premium]  \n",
       "5  2016        Jeep   [Grand, Cherokee, Limited]  "
      ]
     },
     "execution_count": 31,
     "metadata": {},
     "output_type": "execute_result"
    }
   ],
   "source": [
    "df.head()"
   ]
  },
  {
   "cell_type": "code",
   "execution_count": 32,
   "id": "63779272",
   "metadata": {},
   "outputs": [
    {
     "name": "stdout",
     "output_type": "stream",
     "text": [
      "<class 'pandas.core.frame.DataFrame'>\n",
      "Int64Index: 4277 entries, 1 to 4379\n",
      "Data columns (total 17 columns):\n",
      " #   Column          Non-Null Count  Dtype  \n",
      "---  ------          --------------  -----  \n",
      " 0   Car Names       4277 non-null   object \n",
      " 1   Mileages        4277 non-null   object \n",
      " 2   Ratings         4277 non-null   float64\n",
      " 3   Reviews         4277 non-null   object \n",
      " 4   used/certified  4277 non-null   object \n",
      " 5   price drop      4277 non-null   object \n",
      " 6   Price           4277 non-null   object \n",
      " 7   Price_d         4277 non-null   float64\n",
      " 8   used            4277 non-null   float64\n",
      " 9   Reviews_d       4277 non-null   float64\n",
      " 10  price_drop      4277 non-null   float64\n",
      " 11  Mileages_d      4277 non-null   float64\n",
      " 12  group           4277 non-null   float64\n",
      " 13  test            4277 non-null   object \n",
      " 14  year            4277 non-null   int32  \n",
      " 15  Manufacture     4277 non-null   object \n",
      " 16  model_name      4277 non-null   object \n",
      "dtypes: float64(7), int32(1), object(9)\n",
      "memory usage: 584.7+ KB\n"
     ]
    }
   ],
   "source": [
    "df.info()"
   ]
  },
  {
   "cell_type": "code",
   "execution_count": 33,
   "id": "fa18ba0a",
   "metadata": {},
   "outputs": [
    {
     "data": {
      "text/html": [
       "<div>\n",
       "<style scoped>\n",
       "    .dataframe tbody tr th:only-of-type {\n",
       "        vertical-align: middle;\n",
       "    }\n",
       "\n",
       "    .dataframe tbody tr th {\n",
       "        vertical-align: top;\n",
       "    }\n",
       "\n",
       "    .dataframe thead th {\n",
       "        text-align: right;\n",
       "    }\n",
       "</style>\n",
       "<table border=\"1\" class=\"dataframe\">\n",
       "  <thead>\n",
       "    <tr style=\"text-align: right;\">\n",
       "      <th></th>\n",
       "      <th>Car Names</th>\n",
       "      <th>Mileages</th>\n",
       "      <th>Ratings</th>\n",
       "      <th>Reviews</th>\n",
       "      <th>used/certified</th>\n",
       "      <th>price drop</th>\n",
       "      <th>Price</th>\n",
       "      <th>Price_d</th>\n",
       "      <th>used</th>\n",
       "      <th>Reviews_d</th>\n",
       "      <th>price_drop</th>\n",
       "      <th>Mileages_d</th>\n",
       "      <th>group</th>\n",
       "      <th>test</th>\n",
       "      <th>year</th>\n",
       "      <th>Manufacture</th>\n",
       "      <th>model_name</th>\n",
       "    </tr>\n",
       "  </thead>\n",
       "  <tbody>\n",
       "    <tr>\n",
       "      <th>1722</th>\n",
       "      <td>2017 Dodge Charger SXT</td>\n",
       "      <td>17,688 mi.</td>\n",
       "      <td>4.4</td>\n",
       "      <td>(30 reviews)</td>\n",
       "      <td>Used</td>\n",
       "      <td>$750 price drop</td>\n",
       "      <td>$22,999</td>\n",
       "      <td>22999.0</td>\n",
       "      <td>1.0</td>\n",
       "      <td>30.0</td>\n",
       "      <td>750.0</td>\n",
       "      <td>17688.0</td>\n",
       "      <td>376.0</td>\n",
       "      <td>[2017, Dodge, Charger, SXT]</td>\n",
       "      <td>2017</td>\n",
       "      <td>Dodge</td>\n",
       "      <td>[Charger, SXT]</td>\n",
       "    </tr>\n",
       "    <tr>\n",
       "      <th>1043</th>\n",
       "      <td>2013 Honda Accord EX-L</td>\n",
       "      <td>76,284 mi.</td>\n",
       "      <td>4.8</td>\n",
       "      <td>(2,127 reviews)</td>\n",
       "      <td>Used</td>\n",
       "      <td>$1,392 price drop</td>\n",
       "      <td>$16,995</td>\n",
       "      <td>16995.0</td>\n",
       "      <td>1.0</td>\n",
       "      <td>2127.0</td>\n",
       "      <td>1392.0</td>\n",
       "      <td>76284.0</td>\n",
       "      <td>105.0</td>\n",
       "      <td>[2013, Honda, Accord, EX-L]</td>\n",
       "      <td>2013</td>\n",
       "      <td>Honda</td>\n",
       "      <td>[Accord, EX-L]</td>\n",
       "    </tr>\n",
       "    <tr>\n",
       "      <th>1902</th>\n",
       "      <td>2019 BMW X7 xDrive40i</td>\n",
       "      <td>16,475 mi.</td>\n",
       "      <td>4.7</td>\n",
       "      <td>(9,382 reviews)</td>\n",
       "      <td>BMW Certified</td>\n",
       "      <td>$1,500 price drop</td>\n",
       "      <td>$65,082</td>\n",
       "      <td>65082.0</td>\n",
       "      <td>0.0</td>\n",
       "      <td>9382.0</td>\n",
       "      <td>1500.0</td>\n",
       "      <td>16475.0</td>\n",
       "      <td>760.0</td>\n",
       "      <td>[2019, BMW, X7, xDrive40i]</td>\n",
       "      <td>2019</td>\n",
       "      <td>BMW</td>\n",
       "      <td>[X7, xDrive40i]</td>\n",
       "    </tr>\n",
       "    <tr>\n",
       "      <th>3968</th>\n",
       "      <td>2019 BMW X5 xDrive40i</td>\n",
       "      <td>49,310 mi.</td>\n",
       "      <td>4.7</td>\n",
       "      <td>(4,183 reviews)</td>\n",
       "      <td>Used</td>\n",
       "      <td>$172 price drop</td>\n",
       "      <td>$51,995</td>\n",
       "      <td>51995.0</td>\n",
       "      <td>1.0</td>\n",
       "      <td>4183.0</td>\n",
       "      <td>172.0</td>\n",
       "      <td>49310.0</td>\n",
       "      <td>757.0</td>\n",
       "      <td>[2019, BMW, X5, xDrive40i]</td>\n",
       "      <td>2019</td>\n",
       "      <td>BMW</td>\n",
       "      <td>[X5, xDrive40i]</td>\n",
       "    </tr>\n",
       "    <tr>\n",
       "      <th>2618</th>\n",
       "      <td>2019 Audi Q5 Premium Plus</td>\n",
       "      <td>31,696 mi.</td>\n",
       "      <td>4.8</td>\n",
       "      <td>(906 reviews)</td>\n",
       "      <td>Used</td>\n",
       "      <td>$730 price drop</td>\n",
       "      <td>$42,109</td>\n",
       "      <td>42109.0</td>\n",
       "      <td>1.0</td>\n",
       "      <td>906.0</td>\n",
       "      <td>730.0</td>\n",
       "      <td>31696.0</td>\n",
       "      <td>721.0</td>\n",
       "      <td>[2019, Audi, Q5, Premium, Plus]</td>\n",
       "      <td>2019</td>\n",
       "      <td>Audi</td>\n",
       "      <td>[Q5, Premium, Plus]</td>\n",
       "    </tr>\n",
       "    <tr>\n",
       "      <th>2813</th>\n",
       "      <td>2021 GMC Yukon XL Denali</td>\n",
       "      <td>84,754 mi.</td>\n",
       "      <td>3.3</td>\n",
       "      <td>(33 reviews)</td>\n",
       "      <td>Used</td>\n",
       "      <td>$498 price drop</td>\n",
       "      <td>$86,000</td>\n",
       "      <td>86000.0</td>\n",
       "      <td>1.0</td>\n",
       "      <td>33.0</td>\n",
       "      <td>498.0</td>\n",
       "      <td>84754.0</td>\n",
       "      <td>1502.0</td>\n",
       "      <td>[2021, GMC, Yukon, XL, Denali]</td>\n",
       "      <td>2021</td>\n",
       "      <td>GMC</td>\n",
       "      <td>[Yukon, XL, Denali]</td>\n",
       "    </tr>\n",
       "    <tr>\n",
       "      <th>3003</th>\n",
       "      <td>2021 Chevrolet Malibu LT</td>\n",
       "      <td>40,848 mi.</td>\n",
       "      <td>4.6</td>\n",
       "      <td>(897 reviews)</td>\n",
       "      <td>Used</td>\n",
       "      <td>$1,302 price drop</td>\n",
       "      <td>$22,995</td>\n",
       "      <td>22995.0</td>\n",
       "      <td>1.0</td>\n",
       "      <td>897.0</td>\n",
       "      <td>1302.0</td>\n",
       "      <td>40848.0</td>\n",
       "      <td>1458.0</td>\n",
       "      <td>[2021, Chevrolet, Malibu, LT]</td>\n",
       "      <td>2021</td>\n",
       "      <td>Chevrolet</td>\n",
       "      <td>[Malibu, LT]</td>\n",
       "    </tr>\n",
       "    <tr>\n",
       "      <th>3599</th>\n",
       "      <td>2019 Mazda CX-5 Touring</td>\n",
       "      <td>15,988 mi.</td>\n",
       "      <td>4.7</td>\n",
       "      <td>(1,139 reviews)</td>\n",
       "      <td>Used</td>\n",
       "      <td>$1,505 price drop</td>\n",
       "      <td>$24,891</td>\n",
       "      <td>24891.0</td>\n",
       "      <td>1.0</td>\n",
       "      <td>1139.0</td>\n",
       "      <td>1505.0</td>\n",
       "      <td>15988.0</td>\n",
       "      <td>948.0</td>\n",
       "      <td>[2019, Mazda, CX-5, Touring]</td>\n",
       "      <td>2019</td>\n",
       "      <td>Mazda</td>\n",
       "      <td>[CX-5, Touring]</td>\n",
       "    </tr>\n",
       "    <tr>\n",
       "      <th>368</th>\n",
       "      <td>2021 BMW 330 i xDrive</td>\n",
       "      <td>35,662 mi.</td>\n",
       "      <td>4.5</td>\n",
       "      <td>(227 reviews)</td>\n",
       "      <td>Used</td>\n",
       "      <td>$799 price drop</td>\n",
       "      <td>$43,758</td>\n",
       "      <td>43758.0</td>\n",
       "      <td>1.0</td>\n",
       "      <td>227.0</td>\n",
       "      <td>799.0</td>\n",
       "      <td>35662.0</td>\n",
       "      <td>1430.0</td>\n",
       "      <td>[2021, BMW, 330, i, xDrive]</td>\n",
       "      <td>2021</td>\n",
       "      <td>BMW</td>\n",
       "      <td>[330, i, xDrive]</td>\n",
       "    </tr>\n",
       "    <tr>\n",
       "      <th>3237</th>\n",
       "      <td>2014 Mazda CX-5 Grand Touring</td>\n",
       "      <td>21,503 mi.</td>\n",
       "      <td>4.5</td>\n",
       "      <td>(26 reviews)</td>\n",
       "      <td>Used</td>\n",
       "      <td>$900 price drop</td>\n",
       "      <td>$13,491</td>\n",
       "      <td>13491.0</td>\n",
       "      <td>1.0</td>\n",
       "      <td>26.0</td>\n",
       "      <td>900.0</td>\n",
       "      <td>21503.0</td>\n",
       "      <td>147.0</td>\n",
       "      <td>[2014, Mazda, CX-5, Grand, Touring]</td>\n",
       "      <td>2014</td>\n",
       "      <td>Mazda</td>\n",
       "      <td>[CX-5, Grand, Touring]</td>\n",
       "    </tr>\n",
       "  </tbody>\n",
       "</table>\n",
       "</div>"
      ],
      "text/plain": [
       "                          Car Names    Mileages  Ratings          Reviews  \\\n",
       "1722         2017 Dodge Charger SXT  17,688 mi.      4.4     (30 reviews)   \n",
       "1043         2013 Honda Accord EX-L  76,284 mi.      4.8  (2,127 reviews)   \n",
       "1902          2019 BMW X7 xDrive40i  16,475 mi.      4.7  (9,382 reviews)   \n",
       "3968          2019 BMW X5 xDrive40i  49,310 mi.      4.7  (4,183 reviews)   \n",
       "2618      2019 Audi Q5 Premium Plus  31,696 mi.      4.8    (906 reviews)   \n",
       "2813       2021 GMC Yukon XL Denali  84,754 mi.      3.3     (33 reviews)   \n",
       "3003       2021 Chevrolet Malibu LT  40,848 mi.      4.6    (897 reviews)   \n",
       "3599        2019 Mazda CX-5 Touring  15,988 mi.      4.7  (1,139 reviews)   \n",
       "368           2021 BMW 330 i xDrive  35,662 mi.      4.5    (227 reviews)   \n",
       "3237  2014 Mazda CX-5 Grand Touring  21,503 mi.      4.5     (26 reviews)   \n",
       "\n",
       "     used/certified         price drop    Price  Price_d  used  Reviews_d  \\\n",
       "1722           Used    $750 price drop  $22,999  22999.0   1.0       30.0   \n",
       "1043           Used  $1,392 price drop  $16,995  16995.0   1.0     2127.0   \n",
       "1902  BMW Certified  $1,500 price drop  $65,082  65082.0   0.0     9382.0   \n",
       "3968           Used    $172 price drop  $51,995  51995.0   1.0     4183.0   \n",
       "2618           Used    $730 price drop  $42,109  42109.0   1.0      906.0   \n",
       "2813           Used    $498 price drop  $86,000  86000.0   1.0       33.0   \n",
       "3003           Used  $1,302 price drop  $22,995  22995.0   1.0      897.0   \n",
       "3599           Used  $1,505 price drop  $24,891  24891.0   1.0     1139.0   \n",
       "368            Used    $799 price drop  $43,758  43758.0   1.0      227.0   \n",
       "3237           Used    $900 price drop  $13,491  13491.0   1.0       26.0   \n",
       "\n",
       "      price_drop  Mileages_d   group                                 test  \\\n",
       "1722       750.0     17688.0   376.0          [2017, Dodge, Charger, SXT]   \n",
       "1043      1392.0     76284.0   105.0          [2013, Honda, Accord, EX-L]   \n",
       "1902      1500.0     16475.0   760.0           [2019, BMW, X7, xDrive40i]   \n",
       "3968       172.0     49310.0   757.0           [2019, BMW, X5, xDrive40i]   \n",
       "2618       730.0     31696.0   721.0      [2019, Audi, Q5, Premium, Plus]   \n",
       "2813       498.0     84754.0  1502.0       [2021, GMC, Yukon, XL, Denali]   \n",
       "3003      1302.0     40848.0  1458.0        [2021, Chevrolet, Malibu, LT]   \n",
       "3599      1505.0     15988.0   948.0         [2019, Mazda, CX-5, Touring]   \n",
       "368        799.0     35662.0  1430.0          [2021, BMW, 330, i, xDrive]   \n",
       "3237       900.0     21503.0   147.0  [2014, Mazda, CX-5, Grand, Touring]   \n",
       "\n",
       "      year Manufacture              model_name  \n",
       "1722  2017       Dodge          [Charger, SXT]  \n",
       "1043  2013       Honda          [Accord, EX-L]  \n",
       "1902  2019         BMW         [X7, xDrive40i]  \n",
       "3968  2019         BMW         [X5, xDrive40i]  \n",
       "2618  2019        Audi     [Q5, Premium, Plus]  \n",
       "2813  2021         GMC     [Yukon, XL, Denali]  \n",
       "3003  2021   Chevrolet            [Malibu, LT]  \n",
       "3599  2019       Mazda         [CX-5, Touring]  \n",
       "368   2021         BMW        [330, i, xDrive]  \n",
       "3237  2014       Mazda  [CX-5, Grand, Touring]  "
      ]
     },
     "execution_count": 33,
     "metadata": {},
     "output_type": "execute_result"
    }
   ],
   "source": [
    "df.sample(10)"
   ]
  },
  {
   "cell_type": "code",
   "execution_count": 34,
   "id": "0280fc1a",
   "metadata": {},
   "outputs": [
    {
     "data": {
      "text/html": [
       "<div>\n",
       "<style scoped>\n",
       "    .dataframe tbody tr th:only-of-type {\n",
       "        vertical-align: middle;\n",
       "    }\n",
       "\n",
       "    .dataframe tbody tr th {\n",
       "        vertical-align: top;\n",
       "    }\n",
       "\n",
       "    .dataframe thead th {\n",
       "        text-align: right;\n",
       "    }\n",
       "</style>\n",
       "<table border=\"1\" class=\"dataframe\">\n",
       "  <thead>\n",
       "    <tr style=\"text-align: right;\">\n",
       "      <th></th>\n",
       "      <th>Ratings</th>\n",
       "      <th>Price_d</th>\n",
       "      <th>used</th>\n",
       "      <th>Reviews_d</th>\n",
       "      <th>price_drop</th>\n",
       "      <th>Mileages_d</th>\n",
       "      <th>group</th>\n",
       "      <th>year</th>\n",
       "    </tr>\n",
       "  </thead>\n",
       "  <tbody>\n",
       "    <tr>\n",
       "      <th>count</th>\n",
       "      <td>4277.000000</td>\n",
       "      <td>4277.000000</td>\n",
       "      <td>4277.000000</td>\n",
       "      <td>4277.000000</td>\n",
       "      <td>4277.000000</td>\n",
       "      <td>4277.000000</td>\n",
       "      <td>4277.000000</td>\n",
       "      <td>4277.000000</td>\n",
       "    </tr>\n",
       "    <tr>\n",
       "      <th>mean</th>\n",
       "      <td>4.486720</td>\n",
       "      <td>41848.259995</td>\n",
       "      <td>0.836801</td>\n",
       "      <td>1134.119009</td>\n",
       "      <td>1152.564181</td>\n",
       "      <td>35518.861585</td>\n",
       "      <td>969.390227</td>\n",
       "      <td>2018.917699</td>\n",
       "    </tr>\n",
       "    <tr>\n",
       "      <th>std</th>\n",
       "      <td>0.466659</td>\n",
       "      <td>27049.022630</td>\n",
       "      <td>0.369590</td>\n",
       "      <td>1875.937754</td>\n",
       "      <td>1459.814278</td>\n",
       "      <td>25877.814371</td>\n",
       "      <td>438.265746</td>\n",
       "      <td>2.200807</td>\n",
       "    </tr>\n",
       "    <tr>\n",
       "      <th>min</th>\n",
       "      <td>1.400000</td>\n",
       "      <td>3595.000000</td>\n",
       "      <td>0.000000</td>\n",
       "      <td>0.000000</td>\n",
       "      <td>100.000000</td>\n",
       "      <td>143.000000</td>\n",
       "      <td>0.000000</td>\n",
       "      <td>1997.000000</td>\n",
       "    </tr>\n",
       "    <tr>\n",
       "      <th>25%</th>\n",
       "      <td>4.400000</td>\n",
       "      <td>29490.000000</td>\n",
       "      <td>1.000000</td>\n",
       "      <td>152.000000</td>\n",
       "      <td>491.000000</td>\n",
       "      <td>17279.000000</td>\n",
       "      <td>683.000000</td>\n",
       "      <td>2018.000000</td>\n",
       "    </tr>\n",
       "    <tr>\n",
       "      <th>50%</th>\n",
       "      <td>4.600000</td>\n",
       "      <td>36998.000000</td>\n",
       "      <td>1.000000</td>\n",
       "      <td>620.000000</td>\n",
       "      <td>890.000000</td>\n",
       "      <td>28406.000000</td>\n",
       "      <td>962.000000</td>\n",
       "      <td>2019.000000</td>\n",
       "    </tr>\n",
       "    <tr>\n",
       "      <th>75%</th>\n",
       "      <td>4.800000</td>\n",
       "      <td>47988.000000</td>\n",
       "      <td>1.000000</td>\n",
       "      <td>1372.000000</td>\n",
       "      <td>1368.000000</td>\n",
       "      <td>46609.000000</td>\n",
       "      <td>1332.000000</td>\n",
       "      <td>2020.000000</td>\n",
       "    </tr>\n",
       "    <tr>\n",
       "      <th>max</th>\n",
       "      <td>5.000000</td>\n",
       "      <td>899000.000000</td>\n",
       "      <td>1.000000</td>\n",
       "      <td>27885.000000</td>\n",
       "      <td>40000.000000</td>\n",
       "      <td>277281.000000</td>\n",
       "      <td>1745.000000</td>\n",
       "      <td>2022.000000</td>\n",
       "    </tr>\n",
       "  </tbody>\n",
       "</table>\n",
       "</div>"
      ],
      "text/plain": [
       "           Ratings        Price_d         used     Reviews_d    price_drop  \\\n",
       "count  4277.000000    4277.000000  4277.000000   4277.000000   4277.000000   \n",
       "mean      4.486720   41848.259995     0.836801   1134.119009   1152.564181   \n",
       "std       0.466659   27049.022630     0.369590   1875.937754   1459.814278   \n",
       "min       1.400000    3595.000000     0.000000      0.000000    100.000000   \n",
       "25%       4.400000   29490.000000     1.000000    152.000000    491.000000   \n",
       "50%       4.600000   36998.000000     1.000000    620.000000    890.000000   \n",
       "75%       4.800000   47988.000000     1.000000   1372.000000   1368.000000   \n",
       "max       5.000000  899000.000000     1.000000  27885.000000  40000.000000   \n",
       "\n",
       "          Mileages_d        group         year  \n",
       "count    4277.000000  4277.000000  4277.000000  \n",
       "mean    35518.861585   969.390227  2018.917699  \n",
       "std     25877.814371   438.265746     2.200807  \n",
       "min       143.000000     0.000000  1997.000000  \n",
       "25%     17279.000000   683.000000  2018.000000  \n",
       "50%     28406.000000   962.000000  2019.000000  \n",
       "75%     46609.000000  1332.000000  2020.000000  \n",
       "max    277281.000000  1745.000000  2022.000000  "
      ]
     },
     "execution_count": 34,
     "metadata": {},
     "output_type": "execute_result"
    }
   ],
   "source": [
    "df.describe()"
   ]
  },
  {
   "cell_type": "code",
   "execution_count": 52,
   "id": "0fbd0a3c",
   "metadata": {},
   "outputs": [],
   "source": [
    "df.to_csv('prepared_data1.csv')"
   ]
  },
  {
   "cell_type": "markdown",
   "id": "nearby-array",
   "metadata": {
    "id": "nearby-array"
   },
   "source": [
    "### Numpy"
   ]
  },
  {
   "cell_type": "code",
   "execution_count": 35,
   "id": "eligible-finding",
   "metadata": {
    "id": "eligible-finding"
   },
   "outputs": [],
   "source": [
    "import numpy as np"
   ]
  },
  {
   "cell_type": "markdown",
   "id": "durable-freeware",
   "metadata": {
    "id": "durable-freeware"
   },
   "source": [
    "1. Вычислите A + B, A - B\n",
    " \n",
    " $\\\\\n",
    "A = \\left(\n",
    "\\begin{array}{cccc}\n",
    "1 & -2 & 4\\\\\n",
    "2 & 0 & -1\\\\\n",
    "\\end{array}\n",
    "\\right), B = \\left(\n",
    "\\begin{array}{cccc}\n",
    "5 & 2 & 3\\\\\n",
    "4 & 6 & 2\\\\\n",
    "\\end{array}\n",
    "\\right)$"
   ]
  },
  {
   "cell_type": "code",
   "execution_count": 36,
   "id": "9c417a0e",
   "metadata": {},
   "outputs": [
    {
     "data": {
      "text/plain": [
       "array([[ 1, -2,  4],\n",
       "       [ 2,  0, -1]])"
      ]
     },
     "execution_count": 36,
     "metadata": {},
     "output_type": "execute_result"
    }
   ],
   "source": [
    "A = np.array([[1,-2,4],[2,0,-1]])\n",
    "A"
   ]
  },
  {
   "cell_type": "code",
   "execution_count": 37,
   "id": "c04bd788",
   "metadata": {},
   "outputs": [
    {
     "data": {
      "text/plain": [
       "array([[5, 2, 3],\n",
       "       [4, 6, 2]])"
      ]
     },
     "execution_count": 37,
     "metadata": {},
     "output_type": "execute_result"
    }
   ],
   "source": [
    "B = np.array([[5,2,3],[4,6,2]])\n",
    "B"
   ]
  },
  {
   "cell_type": "code",
   "execution_count": 38,
   "id": "9fd92583",
   "metadata": {},
   "outputs": [
    {
     "data": {
      "text/plain": [
       "array([[6, 0, 7],\n",
       "       [6, 6, 1]])"
      ]
     },
     "execution_count": 38,
     "metadata": {},
     "output_type": "execute_result"
    }
   ],
   "source": [
    "A+B"
   ]
  },
  {
   "cell_type": "code",
   "execution_count": 39,
   "id": "aa34ef7d",
   "metadata": {},
   "outputs": [
    {
     "data": {
      "text/plain": [
       "array([[-4, -4,  1],\n",
       "       [-2, -6, -3]])"
      ]
     },
     "execution_count": 39,
     "metadata": {},
     "output_type": "execute_result"
    }
   ],
   "source": [
    "A-B"
   ]
  },
  {
   "cell_type": "markdown",
   "id": "certified-andrew",
   "metadata": {
    "id": "certified-andrew"
   },
   "source": [
    "2. Найдите матрицу С = A - 3B\n",
    " \n",
    " $\\\\\n",
    "A = \\left(\n",
    "\\begin{array}{cccc}\n",
    "1 & 2 \\\\\n",
    "2 & -1\\\\\n",
    "3 & 0\\\\\n",
    "\\end{array}\n",
    "\\right), B = \\left(\n",
    "\\begin{array}{cccc}\n",
    "-1 & 1 \\\\\n",
    "1 & 2\\\\\n",
    "0 & 0\\\\\n",
    "\\end{array}\n",
    "\\right)$"
   ]
  },
  {
   "cell_type": "code",
   "execution_count": 40,
   "id": "c3d27757",
   "metadata": {},
   "outputs": [
    {
     "data": {
      "text/plain": [
       "array([[ 1,  2],\n",
       "       [ 2, -1],\n",
       "       [ 3,  0]])"
      ]
     },
     "execution_count": 40,
     "metadata": {},
     "output_type": "execute_result"
    }
   ],
   "source": [
    "A = np.array([[1,2],[2,-1],[3,0]])\n",
    "A"
   ]
  },
  {
   "cell_type": "code",
   "execution_count": 41,
   "id": "be2c1abd",
   "metadata": {},
   "outputs": [
    {
     "data": {
      "text/plain": [
       "array([[-1,  1],\n",
       "       [ 1,  2],\n",
       "       [ 0,  0]])"
      ]
     },
     "execution_count": 41,
     "metadata": {},
     "output_type": "execute_result"
    }
   ],
   "source": [
    "B = np.array([[-1,1],[1,2],[0,0]])\n",
    "B"
   ]
  },
  {
   "cell_type": "code",
   "execution_count": 42,
   "id": "08b7f156",
   "metadata": {},
   "outputs": [
    {
     "data": {
      "text/plain": [
       "array([[ 4, -1],\n",
       "       [-1, -7],\n",
       "       [ 3,  0]])"
      ]
     },
     "execution_count": 42,
     "metadata": {},
     "output_type": "execute_result"
    }
   ],
   "source": [
    "C = A -3*B\n",
    "C"
   ]
  },
  {
   "cell_type": "markdown",
   "id": "motivated-mason",
   "metadata": {
    "id": "motivated-mason"
   },
   "source": [
    "3. Вычислите С = AB\n",
    " \n",
    " $\\\\\n",
    "A = \\left(\n",
    "\\begin{array}{cccc}\n",
    "1 & -1 \\\\\n",
    "2 & 0\\\\\n",
    "3 & 0\\\\\n",
    "\\end{array}\n",
    "\\right), B = \\left(\n",
    "\\begin{array}{cccc}\n",
    "1 & 1 \\\\\n",
    "2 & 0\\\\\n",
    "\\end{array}\n",
    "\\right)$"
   ]
  },
  {
   "cell_type": "code",
   "execution_count": 43,
   "id": "3d02e030",
   "metadata": {},
   "outputs": [
    {
     "data": {
      "text/plain": [
       "array([[ 1, -1],\n",
       "       [ 2,  0],\n",
       "       [ 3,  0]])"
      ]
     },
     "execution_count": 43,
     "metadata": {},
     "output_type": "execute_result"
    }
   ],
   "source": [
    "A = np.array([[1,-1],[2,0],[3,0]])\n",
    "A"
   ]
  },
  {
   "cell_type": "code",
   "execution_count": 44,
   "id": "135685a0",
   "metadata": {},
   "outputs": [
    {
     "data": {
      "text/plain": [
       "array([[1, 1],\n",
       "       [2, 0]])"
      ]
     },
     "execution_count": 44,
     "metadata": {},
     "output_type": "execute_result"
    }
   ],
   "source": [
    "B = np.array([[1,1],[2,0]])\n",
    "B"
   ]
  },
  {
   "cell_type": "code",
   "execution_count": 45,
   "id": "659c1d2b",
   "metadata": {},
   "outputs": [
    {
     "data": {
      "text/plain": [
       "array([[-1,  1],\n",
       "       [ 2,  2],\n",
       "       [ 3,  3]])"
      ]
     },
     "execution_count": 45,
     "metadata": {},
     "output_type": "execute_result"
    }
   ],
   "source": [
    "C=A.dot(B)\n",
    "C"
   ]
  },
  {
   "cell_type": "markdown",
   "id": "chemical-thomson",
   "metadata": {
    "id": "chemical-thomson"
   },
   "source": [
    "4. Вычислите определитель матрицы А\n",
    " \n",
    " $\\\\\n",
    "A = \\left(\n",
    "\\begin{array}{cccc}\n",
    "6 & -1 & 4\\\\\n",
    "2 & 1 & 10\\\\\n",
    "8 & 0 & 2\\\\\n",
    "\\end{array}\n",
    "\\right)$"
   ]
  },
  {
   "cell_type": "code",
   "execution_count": 46,
   "id": "640f79e8",
   "metadata": {},
   "outputs": [
    {
     "data": {
      "text/plain": [
       "array([[ 6, -1,  4],\n",
       "       [ 2,  1, 10],\n",
       "       [ 8,  0,  2]])"
      ]
     },
     "execution_count": 46,
     "metadata": {},
     "output_type": "execute_result"
    }
   ],
   "source": [
    "A = np.array([[6,-1,4],[2,1,10],[8,0,2]])\n",
    "A"
   ]
  },
  {
   "cell_type": "code",
   "execution_count": 47,
   "id": "b04601ed",
   "metadata": {},
   "outputs": [
    {
     "data": {
      "text/plain": [
       "-95.99999999999999"
      ]
     },
     "execution_count": 47,
     "metadata": {},
     "output_type": "execute_result"
    }
   ],
   "source": [
    "np.linalg.det(A)"
   ]
  },
  {
   "cell_type": "markdown",
   "id": "unlimited-throw",
   "metadata": {
    "id": "unlimited-throw"
   },
   "source": [
    "5. Вычислите матрицу, обратную матрице А. И покажите, что она действительно является обратной\n",
    " \n",
    " $\\\\\n",
    "A = \\left(\n",
    "\\begin{array}{cccc}\n",
    "3 & 3 & -1\\\\\n",
    "4 & 1 & 3\\\\\n",
    "1 & -2 & -2\\\\\n",
    "\\end{array}\n",
    "\\right)$"
   ]
  },
  {
   "cell_type": "code",
   "execution_count": 48,
   "id": "about-national",
   "metadata": {
    "id": "about-national"
   },
   "outputs": [
    {
     "data": {
      "text/plain": [
       "array([[ 3,  3, -1],\n",
       "       [ 4,  1,  3],\n",
       "       [ 1, -2, -2]])"
      ]
     },
     "execution_count": 48,
     "metadata": {},
     "output_type": "execute_result"
    }
   ],
   "source": [
    "A = np.array([[3,3,-1],[4,1,3],[1,-2,-2]])\n",
    "A"
   ]
  },
  {
   "cell_type": "code",
   "execution_count": 49,
   "id": "f498a971",
   "metadata": {},
   "outputs": [
    {
     "data": {
      "text/plain": [
       "array([[ 0.07407407,  0.14814815,  0.18518519],\n",
       "       [ 0.2037037 , -0.09259259, -0.24074074],\n",
       "       [-0.16666667,  0.16666667, -0.16666667]])"
      ]
     },
     "execution_count": 49,
     "metadata": {},
     "output_type": "execute_result"
    }
   ],
   "source": [
    "An = np.linalg.inv(A)\n",
    "An"
   ]
  },
  {
   "cell_type": "code",
   "execution_count": 50,
   "id": "65e3b77f",
   "metadata": {},
   "outputs": [
    {
     "data": {
      "text/plain": [
       "array([[ 1.00000000e+00, -8.32667268e-17,  2.77555756e-17],\n",
       "       [ 2.77555756e-17,  1.00000000e+00,  2.77555756e-17],\n",
       "       [-5.55111512e-17,  5.55111512e-17,  1.00000000e+00]])"
      ]
     },
     "execution_count": 50,
     "metadata": {},
     "output_type": "execute_result"
    }
   ],
   "source": [
    "C = A.dot(An)\n",
    "C"
   ]
  },
  {
   "cell_type": "code",
   "execution_count": 51,
   "id": "f5511ff7",
   "metadata": {},
   "outputs": [],
   "source": [
    "# можно считать, что на главной диагонали стят 1, а остлаьные элементы 0"
   ]
  }
 ],
 "metadata": {
  "colab": {
   "name": "ДЗ. Numpy и Pandas.ipynb",
   "provenance": []
  },
  "kernelspec": {
   "display_name": "Python 3 (ipykernel)",
   "language": "python",
   "name": "python3"
  },
  "language_info": {
   "codemirror_mode": {
    "name": "ipython",
    "version": 3
   },
   "file_extension": ".py",
   "mimetype": "text/x-python",
   "name": "python",
   "nbconvert_exporter": "python",
   "pygments_lexer": "ipython3",
   "version": "3.9.7"
  }
 },
 "nbformat": 4,
 "nbformat_minor": 5
}
