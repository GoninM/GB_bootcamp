{
 "cells": [
  {
   "cell_type": "markdown",
   "id": "70c4eea6",
   "metadata": {
    "id": "70c4eea6"
   },
   "source": [
    "Задача 1.\n",
    "Предположим, мы хотим найти вероятность того, что на игральной кости при броске выпадет значение больше 4."
   ]
  },
  {
   "cell_type": "code",
   "execution_count": 1,
   "id": "46458864",
   "metadata": {
    "id": "46458864"
   },
   "outputs": [
    {
     "data": {
      "text/plain": [
       "0.3333333333333333"
      ]
     },
     "execution_count": 1,
     "metadata": {},
     "output_type": "execute_result"
    }
   ],
   "source": [
    "1/6 + 1/6"
   ]
  },
  {
   "cell_type": "markdown",
   "id": "4f48137e",
   "metadata": {
    "id": "4f48137e"
   },
   "source": [
    "Задача 2. Написать функцию для вычисления факториала и рассчитать число сочетаний из 6 по 2."
   ]
  },
  {
   "cell_type": "code",
   "execution_count": 2,
   "id": "00b864a2",
   "metadata": {
    "id": "00b864a2"
   },
   "outputs": [],
   "source": [
    "def fact(x):\n",
    "    if x == 0:\n",
    "        return 1\n",
    "    elif x == 1:\n",
    "        return 1\n",
    "    else:\n",
    "        return x*fact(x-1)\n"
   ]
  },
  {
   "cell_type": "code",
   "execution_count": 3,
   "id": "d0c90fd6",
   "metadata": {
    "id": "d0c90fd6"
   },
   "outputs": [
    {
     "data": {
      "text/plain": [
       "24"
      ]
     },
     "execution_count": 3,
     "metadata": {},
     "output_type": "execute_result"
    }
   ],
   "source": [
    "fact(4)"
   ]
  },
  {
   "cell_type": "code",
   "execution_count": 4,
   "id": "818dbe13",
   "metadata": {
    "id": "818dbe13"
   },
   "outputs": [],
   "source": [
    "def combinations(n, k):\n",
    "    return fact(n)/(fact(n-k)*fact(k))"
   ]
  },
  {
   "cell_type": "code",
   "execution_count": 5,
   "id": "4010223c",
   "metadata": {},
   "outputs": [
    {
     "data": {
      "text/plain": [
       "15.0"
      ]
     },
     "execution_count": 5,
     "metadata": {},
     "output_type": "execute_result"
    }
   ],
   "source": [
    "combinations(6,2)"
   ]
  },
  {
   "cell_type": "markdown",
   "id": "710a7b51",
   "metadata": {
    "id": "710a7b51"
   },
   "source": [
    "Задача 3. Из 30 стрелков 12 попадает в цель с вероятностью 0,6, 8 стрелков — с вероятностью 0,5, а 10 — с вероятностью 0,7. Наудачу выбранный стрелок произвёл выстрел, поразив цель.\n",
    "К какой из групп, вероятнее всего, принадлежал этот стрелок?"
   ]
  },
  {
   "cell_type": "code",
   "execution_count": 6,
   "id": "bf853584",
   "metadata": {
    "id": "bf853584"
   },
   "outputs": [],
   "source": [
    "N = 30\n",
    "n1 = 12\n",
    "pba1 = 0.6\n",
    "n2 = 8\n",
    "pba2 = 0.5\n",
    "n3 = 10\n",
    "pba3 = 0.7"
   ]
  },
  {
   "cell_type": "code",
   "execution_count": 7,
   "id": "3767c8cb",
   "metadata": {},
   "outputs": [
    {
     "data": {
      "text/plain": [
       "0.4"
      ]
     },
     "execution_count": 7,
     "metadata": {},
     "output_type": "execute_result"
    }
   ],
   "source": [
    "pa1 = n1/N\n",
    "pa1"
   ]
  },
  {
   "cell_type": "code",
   "execution_count": 8,
   "id": "32b31eed",
   "metadata": {},
   "outputs": [
    {
     "data": {
      "text/plain": [
       "0.26666666666666666"
      ]
     },
     "execution_count": 8,
     "metadata": {},
     "output_type": "execute_result"
    }
   ],
   "source": [
    "pa2 = n2/N\n",
    "pa2"
   ]
  },
  {
   "cell_type": "code",
   "execution_count": 9,
   "id": "e3df8a7f",
   "metadata": {},
   "outputs": [
    {
     "data": {
      "text/plain": [
       "0.3333333333333333"
      ]
     },
     "execution_count": 9,
     "metadata": {},
     "output_type": "execute_result"
    }
   ],
   "source": [
    "pa3 = n3/N\n",
    "pa3"
   ]
  },
  {
   "cell_type": "code",
   "execution_count": 10,
   "id": "bd59c690",
   "metadata": {},
   "outputs": [
    {
     "data": {
      "text/plain": [
       "0.6066666666666666"
      ]
     },
     "execution_count": 10,
     "metadata": {},
     "output_type": "execute_result"
    }
   ],
   "source": [
    "PB = pa1*pba1 + pa2*pba2 + pa3*pba3\n",
    "PB"
   ]
  },
  {
   "cell_type": "code",
   "execution_count": 11,
   "id": "d2e5e72d",
   "metadata": {},
   "outputs": [
    {
     "data": {
      "text/plain": [
       "0.39560439560439564"
      ]
     },
     "execution_count": 11,
     "metadata": {},
     "output_type": "execute_result"
    }
   ],
   "source": [
    "Pab1 = pba1*pa1/PB\n",
    "Pab1"
   ]
  },
  {
   "cell_type": "code",
   "execution_count": 12,
   "id": "852e1e33",
   "metadata": {},
   "outputs": [
    {
     "data": {
      "text/plain": [
       "0.2197802197802198"
      ]
     },
     "execution_count": 12,
     "metadata": {},
     "output_type": "execute_result"
    }
   ],
   "source": [
    "Pab2 = pba2*pa2/PB\n",
    "Pab2"
   ]
  },
  {
   "cell_type": "code",
   "execution_count": 13,
   "id": "287052a1",
   "metadata": {},
   "outputs": [
    {
     "data": {
      "text/plain": [
       "0.38461538461538464"
      ]
     },
     "execution_count": 13,
     "metadata": {},
     "output_type": "execute_result"
    }
   ],
   "source": [
    "Pab3 = pba3*pa3/PB\n",
    "Pab3"
   ]
  },
  {
   "cell_type": "code",
   "execution_count": 14,
   "id": "07169792",
   "metadata": {},
   "outputs": [],
   "source": [
    "# вероятнее из первой группы"
   ]
  },
  {
   "cell_type": "markdown",
   "id": "8091fdd1",
   "metadata": {
    "id": "8091fdd1"
   },
   "source": [
    "Задача 4. Сгенерировать выборку реализаций случайной величины (кроме распределения Коши).\n",
    "Любимое распределение можно выбрать на этом [сайте](https://docs.scipy.org/doc/scipy/reference/stats.html).\n",
    "Проверить ЦПТ для различных n."
   ]
  },
  {
   "cell_type": "code",
   "execution_count": 15,
   "id": "8bc6a63d",
   "metadata": {
    "id": "8bc6a63d"
   },
   "outputs": [],
   "source": [
    "from scipy.stats import expon"
   ]
  },
  {
   "cell_type": "code",
   "execution_count": 16,
   "id": "79d45f60",
   "metadata": {
    "id": "79d45f60"
   },
   "outputs": [],
   "source": [
    "import seaborn as sns"
   ]
  },
  {
   "cell_type": "code",
   "execution_count": 31,
   "id": "5c01cd54",
   "metadata": {},
   "outputs": [],
   "source": [
    "loc=3   #default: 0\n",
    "scale = 6   #default: 1"
   ]
  },
  {
   "cell_type": "code",
   "execution_count": 50,
   "id": "3e1cc7cf",
   "metadata": {},
   "outputs": [],
   "source": [
    "r=expon.rvs(loc=3, scale=6, size=1000)\n",
    "# r"
   ]
  },
  {
   "cell_type": "code",
   "execution_count": 51,
   "id": "f7df7b16",
   "metadata": {},
   "outputs": [],
   "source": [
    "# expon?"
   ]
  },
  {
   "cell_type": "code",
   "execution_count": 52,
   "id": "01831c54",
   "metadata": {
    "id": "01831c54"
   },
   "outputs": [
    {
     "data": {
      "text/plain": [
       "<seaborn.axisgrid.FacetGrid at 0x18daaf527f0>"
      ]
     },
     "execution_count": 52,
     "metadata": {},
     "output_type": "execute_result"
    },
    {
     "data": {
      "image/png": "[encoded data removed]",
      "text/plain": [
       "<Figure size 360x360 with 1 Axes>"
      ]
     },
     "metadata": {
      "needs_background": "light"
     },
     "output_type": "display_data"
    }
   ],
   "source": [
    "sns.displot(r)"
   ]
  },
  {
   "cell_type": "code",
   "execution_count": 35,
   "id": "db4dcded",
   "metadata": {
    "id": "db4dcded"
   },
   "outputs": [],
   "source": [
    "from scipy import stats"
   ]
  },
  {
   "cell_type": "code",
   "execution_count": 36,
   "id": "33535a16",
   "metadata": {
    "id": "33535a16"
   },
   "outputs": [],
   "source": [
    "import numpy as np"
   ]
  },
  {
   "cell_type": "code",
   "execution_count": 39,
   "id": "a8ea54c7",
   "metadata": {
    "id": "a8ea54c7"
   },
   "outputs": [],
   "source": [
    "a1=[]\n",
    "for _ in range(100000):\n",
    "    a1.append(expon.rvs(loc=3, scale=6, size=50).mean())"
   ]
  },
  {
   "cell_type": "code",
   "execution_count": 40,
   "id": "b42e5927",
   "metadata": {
    "id": "b42e5927"
   },
   "outputs": [
    {
     "data": {
      "text/plain": [
       "<seaborn.axisgrid.FacetGrid at 0x18da96e8160>"
      ]
     },
     "execution_count": 40,
     "metadata": {},
     "output_type": "execute_result"
    },
    {
     "data": {
      "image/png": "[encoded data removed]",
      "text/plain": [
       "<Figure size 360x360 with 1 Axes>"
      ]
     },
     "metadata": {
      "needs_background": "light"
     },
     "output_type": "display_data"
    }
   ],
   "source": [
    "sns.displot(a1)"
   ]
  },
  {
   "cell_type": "code",
   "execution_count": 41,
   "id": "61a8bb90",
   "metadata": {
    "id": "61a8bb90"
   },
   "outputs": [
    {
     "data": {
      "text/plain": [
       "AndersonResult(statistic=91.59762554580811, critical_values=array([0.576, 0.656, 0.787, 0.918, 1.092]), significance_level=array([15. , 10. ,  5. ,  2.5,  1. ]))"
      ]
     },
     "execution_count": 41,
     "metadata": {},
     "output_type": "execute_result"
    }
   ],
   "source": [
    "stats.anderson(a1)"
   ]
  },
  {
   "cell_type": "markdown",
   "id": "966dc077",
   "metadata": {
    "id": "966dc077"
   },
   "source": [
    "Задача 5. Попробовать применить ЦПТ к распределению Коши."
   ]
  },
  {
   "cell_type": "code",
   "execution_count": 45,
   "id": "a2bcd5bf",
   "metadata": {
    "id": "a2bcd5bf"
   },
   "outputs": [],
   "source": [
    "from scipy.stats import cauchy"
   ]
  },
  {
   "cell_type": "code",
   "execution_count": 46,
   "id": "ee5c8e76",
   "metadata": {
    "id": "ee5c8e76"
   },
   "outputs": [],
   "source": [
    "a6=[]\n",
    "for _ in range(100):\n",
    "    a6.append(cauchy.rvs(size=10).mean())"
   ]
  },
  {
   "cell_type": "code",
   "execution_count": 47,
   "id": "56988472",
   "metadata": {
    "id": "56988472"
   },
   "outputs": [
    {
     "data": {
      "text/plain": [
       "<seaborn.axisgrid.FacetGrid at 0x18da9aee580>"
      ]
     },
     "execution_count": 47,
     "metadata": {},
     "output_type": "execute_result"
    },
    {
     "data": {
      "image/png": "[encoded data removed]",
      "text/plain": [
       "<Figure size 360x360 with 1 Axes>"
      ]
     },
     "metadata": {
      "needs_background": "light"
     },
     "output_type": "display_data"
    }
   ],
   "source": [
    "sns.displot(np.array(a6))"
   ]
  },
  {
   "cell_type": "code",
   "execution_count": 48,
   "id": "eb52f970",
   "metadata": {
    "id": "eb52f970"
   },
   "outputs": [
    {
     "data": {
      "text/plain": [
       "AndersonResult(statistic=361.2667252079966, critical_values=array([0.574, 0.653, 0.784, 0.914, 1.088]), significance_level=array([15. , 10. ,  5. ,  2.5,  1. ]))"
      ]
     },
     "execution_count": 48,
     "metadata": {},
     "output_type": "execute_result"
    }
   ],
   "source": [
    "stats.anderson(np.array(a6))"
   ]
  },
  {
   "cell_type": "markdown",
   "id": "c5d9ce87",
   "metadata": {
    "id": "c5d9ce87"
   },
   "source": [
    "Задача 6. Посчитать основные характеристики выборки."
   ]
  },
  {
   "cell_type": "code",
   "execution_count": 79,
   "id": "d0a1b5cb",
   "metadata": {
    "id": "d0a1b5cb"
   },
   "outputs": [],
   "source": [
    "a5=expon.rvs(loc=3, scale=6, size=1000)\n",
    "a5rr=np.array(a5)"
   ]
  },
  {
   "cell_type": "code",
   "execution_count": 80,
   "id": "f510acaf",
   "metadata": {
    "id": "f510acaf"
   },
   "outputs": [
    {
     "data": {
      "text/plain": [
       "(3.0130657729312422, 74.04633431250984, 9.10753327099675, 6.343824800698043)"
      ]
     },
     "execution_count": 80,
     "metadata": {},
     "output_type": "execute_result"
    }
   ],
   "source": [
    "np.min(a5rr), np.max(a5rr), np.mean(a5rr), np.std(a5rr)"
   ]
  },
  {
   "cell_type": "markdown",
   "id": "12d2c149",
   "metadata": {
    "id": "12d2c149"
   },
   "source": [
    "Задача 7. Посчитать коэффициент корреляции для двух векторов."
   ]
  },
  {
   "cell_type": "code",
   "execution_count": 92,
   "id": "40af0b80",
   "metadata": {},
   "outputs": [],
   "source": [
    "from scipy.stats import cosine, triang, norm"
   ]
  },
  {
   "cell_type": "code",
   "execution_count": 93,
   "id": "539da35b",
   "metadata": {
    "id": "539da35b"
   },
   "outputs": [],
   "source": [
    "a6=cosine.rvs(size=1000)\n",
    "a6rr=np.array(a6)"
   ]
  },
  {
   "cell_type": "code",
   "execution_count": 94,
   "id": "b2f3738a",
   "metadata": {
    "id": "b2f3738a"
   },
   "outputs": [
    {
     "data": {
      "text/plain": [
       "(1000, 1000)"
      ]
     },
     "execution_count": 94,
     "metadata": {},
     "output_type": "execute_result"
    }
   ],
   "source": [
    "len(a5), len(a6)"
   ]
  },
  {
   "cell_type": "code",
   "execution_count": 95,
   "id": "9bd26c09",
   "metadata": {
    "id": "9bd26c09"
   },
   "outputs": [
    {
     "data": {
      "text/plain": [
       "array([[1.        , 0.00143411],\n",
       "       [0.00143411, 1.        ]])"
      ]
     },
     "execution_count": 95,
     "metadata": {},
     "output_type": "execute_result"
    }
   ],
   "source": [
    "np.corrcoef(a5rr, a6rr)"
   ]
  },
  {
   "cell_type": "code",
   "execution_count": null,
   "id": "99b9bf3c",
   "metadata": {
    "id": "99b9bf3c"
   },
   "outputs": [],
   "source": []
  }
 ],
 "metadata": {
  "colab": {
   "provenance": []
  },
  "kernelspec": {
   "display_name": "Python 3 (ipykernel)",
   "language": "python",
   "name": "python3"
  },
  "language_info": {
   "codemirror_mode": {
    "name": "ipython",
    "version": 3
   },
   "file_extension": ".py",
   "mimetype": "text/x-python",
   "name": "python",
   "nbconvert_exporter": "python",
   "pygments_lexer": "ipython3",
   "version": "3.9.7"
  }
 },
 "nbformat": 4,
 "nbformat_minor": 5
}
