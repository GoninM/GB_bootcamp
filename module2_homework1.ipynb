{
 "cells": [
  {
   "cell_type": "code",
   "execution_count": 70,
   "id": "5d6265c5",
   "metadata": {},
   "outputs": [],
   "source": [
    "import numpy as np\n",
    "import pandas as pd\n",
    "from scipy import integrate\n",
    "from scipy import linalg"
   ]
  },
  {
   "cell_type": "markdown",
   "id": "rubber-sport",
   "metadata": {},
   "source": [
    "### Pandas\n",
    "\n",
    "Для некоторых заданий, возможно, придется обратиться к документации: https://pandas.pydata.org/docs/\n",
    "\n",
    "* Скачайте любой табличный датасет (или создайте тестовый пример самостоятельно), например, с https://www.kaggle.com/datasets\n",
    "\n",
    "*  Загрузите данные и проанализируйте их (используя функции .info и .describe)\n",
    "*  Выведите отдельно интересующую вас колонку и столбец"
   ]
  },
  {
   "cell_type": "code",
   "execution_count": 107,
   "id": "dca17450",
   "metadata": {},
   "outputs": [
    {
     "data": {
      "text/html": [
       "<div>\n",
       "<style scoped>\n",
       "    .dataframe tbody tr th:only-of-type {\n",
       "        vertical-align: middle;\n",
       "    }\n",
       "\n",
       "    .dataframe tbody tr th {\n",
       "        vertical-align: top;\n",
       "    }\n",
       "\n",
       "    .dataframe thead th {\n",
       "        text-align: right;\n",
       "    }\n",
       "</style>\n",
       "<table border=\"1\" class=\"dataframe\">\n",
       "  <thead>\n",
       "    <tr style=\"text-align: right;\">\n",
       "      <th></th>\n",
       "      <th>Car Names</th>\n",
       "      <th>Mileages</th>\n",
       "      <th>Ratings</th>\n",
       "      <th>Reviews</th>\n",
       "      <th>used/certified</th>\n",
       "      <th>price drop</th>\n",
       "      <th>Price</th>\n",
       "    </tr>\n",
       "  </thead>\n",
       "  <tbody>\n",
       "    <tr>\n",
       "      <th>0</th>\n",
       "      <td>2019 Honda Accord Sport</td>\n",
       "      <td>Mileage</td>\n",
       "      <td>3.7</td>\n",
       "      <td>(3 reviews)</td>\n",
       "      <td>Used</td>\n",
       "      <td>$501 price drop</td>\n",
       "      <td>$27,995</td>\n",
       "    </tr>\n",
       "    <tr>\n",
       "      <th>1</th>\n",
       "      <td>2015 Chevrolet Corvette Stingray Z51</td>\n",
       "      <td>29,192 mi.</td>\n",
       "      <td>3.7</td>\n",
       "      <td>(3 reviews)</td>\n",
       "      <td>Used</td>\n",
       "      <td>$277 price drop</td>\n",
       "      <td>$52,000</td>\n",
       "    </tr>\n",
       "    <tr>\n",
       "      <th>2</th>\n",
       "      <td>2020 Jeep Grand Cherokee Overland</td>\n",
       "      <td>53,561 mi.</td>\n",
       "      <td>4.8</td>\n",
       "      <td>(1,147 reviews)</td>\n",
       "      <td>Used</td>\n",
       "      <td>$2,000 price drop</td>\n",
       "      <td>$41,998</td>\n",
       "    </tr>\n",
       "    <tr>\n",
       "      <th>3</th>\n",
       "      <td>2019 Audi A7 3.0T Prestige</td>\n",
       "      <td>46,664 mi.</td>\n",
       "      <td>4.9</td>\n",
       "      <td>(1,831 reviews)</td>\n",
       "      <td>Used</td>\n",
       "      <td>$2,090 price drop</td>\n",
       "      <td>$62,750</td>\n",
       "    </tr>\n",
       "    <tr>\n",
       "      <th>4</th>\n",
       "      <td>2017 Ford Mustang GT Premium</td>\n",
       "      <td>21,726 mi.</td>\n",
       "      <td>4.0</td>\n",
       "      <td>(409 reviews)</td>\n",
       "      <td>Used</td>\n",
       "      <td>$200 price drop</td>\n",
       "      <td>$29,995</td>\n",
       "    </tr>\n",
       "  </tbody>\n",
       "</table>\n",
       "</div>"
      ],
      "text/plain": [
       "                              Car Names    Mileages  Ratings          Reviews  \\\n",
       "0               2019 Honda Accord Sport     Mileage      3.7      (3 reviews)   \n",
       "1  2015 Chevrolet Corvette Stingray Z51  29,192 mi.      3.7      (3 reviews)   \n",
       "2     2020 Jeep Grand Cherokee Overland  53,561 mi.      4.8  (1,147 reviews)   \n",
       "3            2019 Audi A7 3.0T Prestige  46,664 mi.      4.9  (1,831 reviews)   \n",
       "4          2017 Ford Mustang GT Premium  21,726 mi.      4.0    (409 reviews)   \n",
       "\n",
       "  used/certified         price drop    Price  \n",
       "0           Used    $501 price drop  $27,995  \n",
       "1           Used    $277 price drop  $52,000  \n",
       "2           Used  $2,000 price drop  $41,998  \n",
       "3           Used  $2,090 price drop  $62,750  \n",
       "4           Used    $200 price drop  $29,995  "
      ]
     },
     "execution_count": 107,
     "metadata": {},
     "output_type": "execute_result"
    }
   ],
   "source": [
    "df = pd.read_csv('new-used-cars-dataset.csv')\n",
    "df.head()"
   ]
  },
  {
   "cell_type": "code",
   "execution_count": 108,
   "id": "d33519b6",
   "metadata": {},
   "outputs": [
    {
     "name": "stdout",
     "output_type": "stream",
     "text": [
      "<class 'pandas.core.frame.DataFrame'>\n",
      "RangeIndex: 9330 entries, 0 to 9329\n",
      "Data columns (total 7 columns):\n",
      " #   Column          Non-Null Count  Dtype  \n",
      "---  ------          --------------  -----  \n",
      " 0   Car Names       9330 non-null   object \n",
      " 1   Mileages        9330 non-null   object \n",
      " 2   Ratings         9330 non-null   float64\n",
      " 3   Reviews         9330 non-null   object \n",
      " 4   used/certified  9330 non-null   object \n",
      " 5   price drop      9330 non-null   object \n",
      " 6   Price           9330 non-null   object \n",
      "dtypes: float64(1), object(6)\n",
      "memory usage: 510.4+ KB\n"
     ]
    }
   ],
   "source": [
    "df.info()"
   ]
  },
  {
   "cell_type": "code",
   "execution_count": 109,
   "id": "477c47b6",
   "metadata": {},
   "outputs": [
    {
     "data": {
      "text/html": [
       "<div>\n",
       "<style scoped>\n",
       "    .dataframe tbody tr th:only-of-type {\n",
       "        vertical-align: middle;\n",
       "    }\n",
       "\n",
       "    .dataframe tbody tr th {\n",
       "        vertical-align: top;\n",
       "    }\n",
       "\n",
       "    .dataframe thead th {\n",
       "        text-align: right;\n",
       "    }\n",
       "</style>\n",
       "<table border=\"1\" class=\"dataframe\">\n",
       "  <thead>\n",
       "    <tr style=\"text-align: right;\">\n",
       "      <th></th>\n",
       "      <th>Ratings</th>\n",
       "    </tr>\n",
       "  </thead>\n",
       "  <tbody>\n",
       "    <tr>\n",
       "      <th>count</th>\n",
       "      <td>9330.000000</td>\n",
       "    </tr>\n",
       "    <tr>\n",
       "      <th>mean</th>\n",
       "      <td>4.488682</td>\n",
       "    </tr>\n",
       "    <tr>\n",
       "      <th>std</th>\n",
       "      <td>0.485635</td>\n",
       "    </tr>\n",
       "    <tr>\n",
       "      <th>min</th>\n",
       "      <td>1.400000</td>\n",
       "    </tr>\n",
       "    <tr>\n",
       "      <th>25%</th>\n",
       "      <td>4.400000</td>\n",
       "    </tr>\n",
       "    <tr>\n",
       "      <th>50%</th>\n",
       "      <td>4.600000</td>\n",
       "    </tr>\n",
       "    <tr>\n",
       "      <th>75%</th>\n",
       "      <td>4.800000</td>\n",
       "    </tr>\n",
       "    <tr>\n",
       "      <th>max</th>\n",
       "      <td>5.000000</td>\n",
       "    </tr>\n",
       "  </tbody>\n",
       "</table>\n",
       "</div>"
      ],
      "text/plain": [
       "           Ratings\n",
       "count  9330.000000\n",
       "mean      4.488682\n",
       "std       0.485635\n",
       "min       1.400000\n",
       "25%       4.400000\n",
       "50%       4.600000\n",
       "75%       4.800000\n",
       "max       5.000000"
      ]
     },
     "execution_count": 109,
     "metadata": {},
     "output_type": "execute_result"
    }
   ],
   "source": [
    "df.describe()"
   ]
  },
  {
   "cell_type": "code",
   "execution_count": 124,
   "id": "964813b9",
   "metadata": {},
   "outputs": [
    {
     "data": {
      "text/plain": [
       "0                    2019 Honda Accord Sport\n",
       "1       2015 Chevrolet Corvette Stingray Z51\n",
       "2          2020 Jeep Grand Cherokee Overland\n",
       "3                 2019 Audi A7 3.0T Prestige\n",
       "4               2017 Ford Mustang GT Premium\n",
       "                        ...                 \n",
       "9325                  2019 Lexus IS 300 Base\n",
       "9326                      2019 Kia Sorento L\n",
       "9327                  2017 GMC Acadia Denali\n",
       "9328                  2019 Honda Pilot Elite\n",
       "9329                    2019 GMC Terrain SLT\n",
       "Name: Car Names, Length: 9330, dtype: object"
      ]
     },
     "execution_count": 124,
     "metadata": {},
     "output_type": "execute_result"
    }
   ],
   "source": [
    "df.loc[:,'Car Names']"
   ]
  },
  {
   "cell_type": "code",
   "execution_count": 122,
   "id": "5ac99c83",
   "metadata": {},
   "outputs": [
    {
     "data": {
      "text/plain": [
       "Car Names         2008 Ford Escape XLT\n",
       "Mileages                    22,048 mi.\n",
       "Ratings                            4.7\n",
       "Reviews                   (30 reviews)\n",
       "used/certified                    Used\n",
       "price drop             $500 price drop\n",
       "Price                           $4,995\n",
       "Name: 9000, dtype: object"
      ]
     },
     "execution_count": 122,
     "metadata": {},
     "output_type": "execute_result"
    }
   ],
   "source": [
    "df.loc[9000, :]"
   ]
  },
  {
   "cell_type": "code",
   "execution_count": 121,
   "id": "23713972",
   "metadata": {},
   "outputs": [],
   "source": [
    "df.loc?"
   ]
  },
  {
   "cell_type": "markdown",
   "id": "recovered-jordan",
   "metadata": {},
   "source": [
    "### Numpy\n",
    "\n",
    "Для некоторых заданий, возможно, придется обратиться к документации: https://numpy.org\n",
    "\n",
    "* Создайте вектор (одномерный массив) размера 10, заполненный нулями\n",
    "* Создайте вектор размера 10, заполненный числом 5.8\n",
    "* Создйте массив 3x3x3 со случайными значениями\n",
    "* Создайте 8x8 матрицу и заполнить её в шахматном порядке\n",
    "* Cоздайте матрицу 4 на 4 и заполните ее произвольными числами (понадобиться в дальйнешем)"
   ]
  },
  {
   "cell_type": "code",
   "execution_count": 24,
   "id": "3bc9d140",
   "metadata": {},
   "outputs": [
    {
     "data": {
      "text/plain": [
       "array([0., 0., 0., 0., 0., 0., 0., 0., 0., 0.])"
      ]
     },
     "execution_count": 24,
     "metadata": {},
     "output_type": "execute_result"
    }
   ],
   "source": [
    "#Создайте вектор (одномерный массив) размера 10, заполненный нулями\n",
    "size=10\n",
    "v_zeros = np.zeros(size)\n",
    "v_zeros"
   ]
  },
  {
   "cell_type": "code",
   "execution_count": 25,
   "id": "f41e0452",
   "metadata": {},
   "outputs": [
    {
     "data": {
      "text/plain": [
       "array([5.8, 5.8, 5.8, 5.8, 5.8, 5.8, 5.8, 5.8, 5.8, 5.8])"
      ]
     },
     "execution_count": 25,
     "metadata": {},
     "output_type": "execute_result"
    }
   ],
   "source": [
    "# Создайте вектор размера 10, заполненный числом 5.8\n",
    "size=10\n",
    "v2 = np.full(size, 5.8)\n",
    "v2"
   ]
  },
  {
   "cell_type": "code",
   "execution_count": 44,
   "id": "bb39745d",
   "metadata": {},
   "outputs": [
    {
     "data": {
      "text/plain": [
       "array([[[0.50883728, 0.98402805, 0.95802734],\n",
       "        [0.38714158, 0.97914597, 0.00769329],\n",
       "        [0.70878202, 0.79375067, 0.76090666]],\n",
       "\n",
       "       [[0.33664604, 0.66036019, 0.41497085],\n",
       "        [0.05532802, 0.53984728, 0.37318853],\n",
       "        [0.50776435, 0.99050967, 0.29367124]],\n",
       "\n",
       "       [[0.31575221, 0.64646587, 0.65717244],\n",
       "        [0.59216792, 0.03366663, 0.08365487],\n",
       "        [0.30989036, 0.08994253, 0.11947334]]])"
      ]
     },
     "execution_count": 44,
     "metadata": {},
     "output_type": "execute_result"
    }
   ],
   "source": [
    "# Создйте массив 3x3x3 со случайными значениями\n",
    "v_rnd = np.random.rand(3, 3, 3)\n",
    "v_rnd\n"
   ]
  },
  {
   "cell_type": "code",
   "execution_count": 64,
   "id": "b26a3e80",
   "metadata": {},
   "outputs": [
    {
     "data": {
      "text/plain": [
       "array([[0, 1, 0, 1, 0, 1, 0, 1],\n",
       "       [1, 0, 1, 0, 1, 0, 1, 0],\n",
       "       [0, 1, 0, 1, 0, 1, 0, 1],\n",
       "       [1, 0, 1, 0, 1, 0, 1, 0],\n",
       "       [0, 1, 0, 1, 0, 1, 0, 1],\n",
       "       [1, 0, 1, 0, 1, 0, 1, 0],\n",
       "       [0, 1, 0, 1, 0, 1, 0, 1],\n",
       "       [1, 0, 1, 0, 1, 0, 1, 0]], dtype=int32)"
      ]
     },
     "execution_count": 64,
     "metadata": {},
     "output_type": "execute_result"
    }
   ],
   "source": [
    "# Создайте 8x8 матрицу и заполнить её в шахматном порядке\n",
    "m_chess = np.fromfunction(lambda i, j: (i+j)%2, (8, 8), dtype=int)\n",
    "m_chess"
   ]
  },
  {
   "cell_type": "code",
   "execution_count": 65,
   "id": "815d101d",
   "metadata": {},
   "outputs": [
    {
     "data": {
      "text/plain": [
       "array([[0.24571493, 0.3243375 , 0.16363656, 0.49144333],\n",
       "       [0.40714965, 0.87580037, 0.76668194, 0.02797951],\n",
       "       [0.18975023, 0.39710013, 0.48795591, 0.27056906],\n",
       "       [0.50235705, 0.70040206, 0.93027827, 0.99792151]])"
      ]
     },
     "execution_count": 65,
     "metadata": {},
     "output_type": "execute_result"
    }
   ],
   "source": [
    "# Cоздайте матрицу 4 на 4 и заполните ее произвольными числами (понадобиться в дальйнешем)\n",
    "v_rnd = np.random.rand(4,4)\n",
    "v_rnd"
   ]
  },
  {
   "cell_type": "markdown",
   "id": "expired-hebrew",
   "metadata": {},
   "source": [
    "### Scipy\n",
    "\n",
    "\n",
    "* Возьмите интеграл $\\int_{-3}^{10} sin(x)* x^{2} \\,dx $\n",
    "* Найдите определитель, обратную матрицу и собственные значения к матрице из последнего пункта раздела Numpy\n"
   ]
  },
  {
   "cell_type": "code",
   "execution_count": 69,
   "id": "98f50216",
   "metadata": {},
   "outputs": [
    {
     "data": {
      "text/plain": [
       "(63.57192010714263, 2.1778037844715755e-12)"
      ]
     },
     "execution_count": 69,
     "metadata": {},
     "output_type": "execute_result"
    }
   ],
   "source": [
    "f1 = lambda x: np.sin(x)*x**2\n",
    "integrate.quad(f1, -3, 10)"
   ]
  },
  {
   "cell_type": "code",
   "execution_count": 71,
   "id": "85ef787d",
   "metadata": {},
   "outputs": [
    {
     "data": {
      "text/plain": [
       "-0.009454176687058455"
      ]
     },
     "execution_count": 71,
     "metadata": {},
     "output_type": "execute_result"
    }
   ],
   "source": [
    "linalg.det(v_rnd)"
   ]
  },
  {
   "cell_type": "code",
   "execution_count": 72,
   "id": "509f8b9e",
   "metadata": {},
   "outputs": [
    {
     "data": {
      "text/plain": [
       "array([[ -5.10561431,   5.92849784, -25.00440201,   9.12763296],\n",
       "       [  5.59441475,  -1.62265494,  12.08712027,  -5.98678101],\n",
       "       [ -3.75762371,   0.07962944,  -0.70239603,   2.03871521],\n",
       "       [  2.1465991 ,  -1.9197796 ,   4.75860817,  -1.29143371]])"
      ]
     },
     "execution_count": 72,
     "metadata": {},
     "output_type": "execute_result"
    }
   ],
   "source": [
    "linalg.inv(v_rnd)"
   ]
  },
  {
   "cell_type": "code",
   "execution_count": 73,
   "id": "0b984739",
   "metadata": {},
   "outputs": [
    {
     "data": {
      "text/plain": [
       "(array([ 1.90590422+0.j,  0.61355278+0.j, -0.0561221 +0.j,  0.14405781+0.j]),\n",
       " array([[-0.34235951, -0.35602389, -0.80308213,  0.89500818],\n",
       "        [-0.38509611,  0.63571973,  0.51302827, -0.03150126],\n",
       "        [-0.30638917, -0.00338815, -0.20525784, -0.4446375 ],\n",
       "        [-0.8003853 , -0.68490578,  0.22300293, -0.01629478]]))"
      ]
     },
     "execution_count": 73,
     "metadata": {},
     "output_type": "execute_result"
    }
   ],
   "source": [
    "linalg.eig(v_rnd)"
   ]
  },
  {
   "cell_type": "markdown",
   "id": "alternate-classification",
   "metadata": {},
   "source": [
    "### Matplotlib/Seaborn\n",
    "\n",
    "\n",
    "* Нарисуйте график sin(x), подпишите оси, добавьте сетку\n",
    "* Нарисуйте график sin(x) и cos(x) на одном subplot'е и на разных, задайте цвета, которые вам больше нравятся"
   ]
  },
  {
   "cell_type": "code",
   "execution_count": 74,
   "id": "facial-persian",
   "metadata": {},
   "outputs": [],
   "source": [
    "import matplotlib.pyplot as plt\n",
    "import seaborn as sns"
   ]
  },
  {
   "cell_type": "code",
   "execution_count": 81,
   "id": "1e9d1cf3",
   "metadata": {},
   "outputs": [
    {
     "data": {
      "image/png": "[encoded data removed]",
      "text/plain": [
       "<Figure size 432x288 with 1 Axes>"
      ]
     },
     "metadata": {
      "needs_background": "light"
     },
     "output_type": "display_data"
    }
   ],
   "source": [
    "lag = 1\n",
    "x = np.linspace(0.0, 5.2 * np.pi, 1000)\n",
    "y = np.sin(x)\n",
    "\n",
    "fig = plt.figure()\n",
    "plt.plot(x, y)\n",
    "plt.grid()\n",
    "\n",
    "plt.title('sin(x)')\n",
    "plt.ylabel('y')\n",
    "plt.xlabel('x');"
   ]
  },
  {
   "cell_type": "code",
   "execution_count": 92,
   "id": "8ebd2e0e",
   "metadata": {},
   "outputs": [
    {
     "data": {
      "image/png": "[encoded data removed]",
      "text/plain": [
       "<Figure size 432x288 with 1 Axes>"
      ]
     },
     "metadata": {
      "needs_background": "light"
     },
     "output_type": "display_data"
    }
   ],
   "source": [
    "x = np.linspace(0.0, 5 * np.pi, 1000)\n",
    "y1 = np.sin(x)\n",
    "y2 = np.cos(x)\n",
    "\n",
    "fig = plt.figure()\n",
    "plt.plot(x, y1, label='sin(x)', color='r')\n",
    "plt.plot(x, y2, label='cos(x)', color='b')\n",
    "plt.grid()\n",
    "plt.legend(loc='upper right')\n",
    "\n",
    "plt.title('sin(x) and cos(x)')\n",
    "plt.ylabel('y')\n",
    "plt.xlabel('x');"
   ]
  },
  {
   "cell_type": "code",
   "execution_count": 105,
   "id": "6a7128aa",
   "metadata": {},
   "outputs": [
    {
     "data": {
      "image/png": "[encoded data removed]",
      "text/plain": [
       "<Figure size 1080x432 with 2 Axes>"
      ]
     },
     "metadata": {
      "needs_background": "light"
     },
     "output_type": "display_data"
    }
   ],
   "source": [
    "x = np.linspace(0.0, 5 * np.pi, 1000)\n",
    "y1 = np.sin(x)\n",
    "y2 = np.cos(x)\n",
    "\n",
    "fig = plt.figure(figsize=(15,6))\n",
    "\n",
    "plt.subplot(1, 2, 1)\n",
    "plt.plot(x, y1, label='sin(x)')\n",
    "plt.grid()\n",
    "plt.title('sin(x)')\n",
    "plt.ylabel('y')\n",
    "plt.xlabel('x');\n",
    "\n",
    "\n",
    "plt.subplot(1, 2, 2)\n",
    "plt.plot(x, y2, label='cos(x)', color='g')\n",
    "plt.grid()\n",
    "plt.title('cos(x)')\n",
    "plt.ylabel('y')\n",
    "plt.xlabel('x');\n"
   ]
  },
  {
   "cell_type": "code",
   "execution_count": 106,
   "id": "41079e0a",
   "metadata": {},
   "outputs": [],
   "source": [
    "# plt.subplot?"
   ]
  },
  {
   "cell_type": "code",
   "execution_count": null,
   "id": "1faa3674",
   "metadata": {},
   "outputs": [],
   "source": []
  }
 ],
 "metadata": {
  "kernelspec": {
   "display_name": "Python 3 (ipykernel)",
   "language": "python",
   "name": "python3"
  },
  "language_info": {
   "codemirror_mode": {
    "name": "ipython",
    "version": 3
   },
   "file_extension": ".py",
   "mimetype": "text/x-python",
   "name": "python",
   "nbconvert_exporter": "python",
   "pygments_lexer": "ipython3",
   "version": "3.9.7"
  }
 },
 "nbformat": 4,
 "nbformat_minor": 5
}
