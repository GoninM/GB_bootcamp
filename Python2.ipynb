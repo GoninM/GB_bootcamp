{
 "cells": [
  {
   "cell_type": "markdown",
   "id": "6b1e901b",
   "metadata": {},
   "source": [
    "знакомство с Python\n"
   ]
  },
  {
   "cell_type": "markdown",
   "id": "ba3247d1",
   "metadata": {},
   "source": [
    "#### Практическое задание (1/2)\n",
    "Парадокс Монти Холла — одна из известных задач теории вероятностей, решение которой, на первый взгляд,\n",
    "противоречит здравому смыслу. Парадокс основан на американском телешоу «Let's Make a Deal» и назван в\n",
    "честь ведущего этой передачи.\n",
    "Правила игры\n",
    "Участнику игры нужно выбрать одну из трёх дверей. За одной из дверей находится приз, за двумя другими\n",
    "дверями ничего нет. Участник выбирает одну из дверей, например, номер 1, после этого ведущий, который\n",
    "знает, где находится приз, открывает одну из оставшихся дверей, например, номер 3, за которой ничего нет.\n",
    "После этого он спрашивает участника, не желает ли он изменить свой выбор и выбрать дверь номер 2?\n",
    "Участник может согласиться либо остаться при своём выборе.\n",
    "Вопрос\n",
    "Увеличиваются ли шансы участника выиграть приз, если он примет предложение ведущего и изменит свой\n",
    "выбор?\n",
    "\n",
    "Предположения:\n",
    "\n",
    "● Математики утверждают, что увеличатся на 60%.\n",
    "\n",
    "● Разум подсказывает, что нет."
   ]
  },
  {
   "cell_type": "markdown",
   "id": "4f99e683",
   "metadata": {
    "tags": []
   },
   "source": [
    "#### Практическое задание (2/2)\n",
    "\n",
    "Задание\n",
    "Напишите программу, которая подтвердит или опровергнет доводы математиков. Чтобы это выполнить\n",
    "напишите функцию которая принимает два параметра: номер двери, которую открываем при первом вопросе,\n",
    "и переменную булевого типа, которая означает, меняет ли человек свой выбор при второй попытке открытия\n",
    "двери. Функция должна возвращать переменную булевого типа, которая означает, выиграл человек или\n",
    "проиграл. Запустите функцию в цикле > 1000 раз и подсчитайте соотношение выигрышей к проигрышу при\n",
    "смене двери и при отказе от смены двери.\n",
    "Помощь\n",
    "Для решения задачи вам потребуется импортировать модуль random:\n",
    "import random\n",
    "и использовать его метод randrange. Метод randrange принимает в качестве аргумента два числа n1 и n2 и\n",
    "генерирует случайное число в диапазоне от n1 до n2-1:\n",
    "random.randrange(2, 5)\n",
    "вернет либо 2, либо 3, либо 4"
   ]
  },
  {
   "cell_type": "code",
   "execution_count": 1,
   "id": "aa3a8e56",
   "metadata": {},
   "outputs": [],
   "source": [
    "import random\n"
   ]
  },
  {
   "cell_type": "code",
   "execution_count": 28,
   "id": "210302ac",
   "metadata": {},
   "outputs": [
    {
     "data": {
      "text/plain": [
       "3"
      ]
     },
     "execution_count": 28,
     "metadata": {},
     "output_type": "execute_result"
    }
   ],
   "source": [
    "random.randint(1, 3)"
   ]
  },
  {
   "cell_type": "code",
   "execution_count": 75,
   "id": "40939cbe",
   "metadata": {},
   "outputs": [
    {
     "data": {
      "text/plain": [
       "[1]"
      ]
     },
     "execution_count": 75,
     "metadata": {},
     "output_type": "execute_result"
    }
   ],
   "source": [
    "l = [1, 2, 3]\n",
    "l.remove(2)\n",
    "l.remove(3)\n",
    "l\n",
    "# k = random.choice(l)\n",
    "# k"
   ]
  },
  {
   "cell_type": "code",
   "execution_count": 111,
   "id": "65e00454",
   "metadata": {},
   "outputs": [],
   "source": [
    "def check_win(contestant_door: int, is_change: bool) -> bool:\n",
    "    result = False\n",
    "    \n",
    "    doors = [1, 2, 3]\n",
    "    prise_door = random.randint(1, 3)\n",
    "    opened_door = 0 #\n",
    "\n",
    "    if prise_door == contestant_door:\n",
    "        doors.remove(prise_door)\n",
    "        opened_door = random.choice(doors)\n",
    "\n",
    "    else:\n",
    "        doors.remove(contestant_door)\n",
    "        doors.remove(prise_door)\n",
    "        opened_door = doors[0]\n",
    "\n",
    "        \n",
    "    doors = [1, 2, 3]   \n",
    "    doors.remove(opened_door)\n",
    "    \n",
    "   \n",
    "    if is_change:\n",
    "        doors.remove(contestant_door)\n",
    "        contestant_door = doors[0]\n",
    "\n",
    "        if contestant_door == prise_door:\n",
    "            result = True        \n",
    "        \n",
    "    else:\n",
    "        if contestant_door == prise_door:\n",
    "            result = True\n",
    "    \n",
    "    return result\n"
   ]
  },
  {
   "cell_type": "code",
   "execution_count": 145,
   "id": "d0899115",
   "metadata": {},
   "outputs": [],
   "source": [
    "N = 10000 #кол-во проверок\n"
   ]
  },
  {
   "cell_type": "code",
   "execution_count": 154,
   "id": "e333b779",
   "metadata": {},
   "outputs": [
    {
     "name": "stdout",
     "output_type": "stream",
     "text": [
      "Вероятность выйгрыша при смене = 0.6688\n",
      "Вероятность выйгрыша без смены = 0.3345\n"
     ]
    }
   ],
   "source": [
    "num_wins1 = 0\n",
    "num_wins2 = 0\n",
    "\n",
    "for _ in range(N):\n",
    "    door_num = random.randint(1, 3)\n",
    "    \n",
    "    if check_win(door_num, True):\n",
    "        num_wins1 += 1\n",
    "\n",
    "    if check_win(door_num, False):\n",
    "        num_wins2 += 1\n",
    "\n",
    "p1 = num_wins1/N\n",
    "print(f'Вероятность выйгрыша при смене = {p1}')\n",
    "\n",
    "p2 = num_wins2/N\n",
    "print(f'Вероятность выйгрыша без смены = {p2}')\n",
    "\n",
    "        \n",
    "    "
   ]
  },
  {
   "cell_type": "code",
   "execution_count": null,
   "id": "6000ae5a",
   "metadata": {},
   "outputs": [],
   "source": []
  },
  {
   "cell_type": "code",
   "execution_count": null,
   "id": "150dbcdd",
   "metadata": {},
   "outputs": [],
   "source": []
  }
 ],
 "metadata": {
  "kernelspec": {
   "display_name": "Python 3 (ipykernel)",
   "language": "python",
   "name": "python3"
  },
  "language_info": {
   "codemirror_mode": {
    "name": "ipython",
    "version": 3
   },
   "file_extension": ".py",
   "mimetype": "text/x-python",
   "name": "python",
   "nbconvert_exporter": "python",
   "pygments_lexer": "ipython3",
   "version": "3.8.1"
  }
 },
 "nbformat": 4,
 "nbformat_minor": 5
}
