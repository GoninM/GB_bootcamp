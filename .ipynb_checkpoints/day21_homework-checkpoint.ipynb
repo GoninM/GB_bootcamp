{
 "cells": [
  {
   "cell_type": "markdown",
   "id": "b2f65d34",
   "metadata": {},
   "source": [
    "### Вынесите пределы:"
   ]
  },
  {
   "cell_type": "markdown",
   "id": "e91e59e8",
   "metadata": {},
   "source": [
    "$$\\lim\\limits_{x\\to\\infty}\\frac{3+x+x^2}{2x+4x^2}=\\lim\\limits_{x\\to\\infty}\\frac{\\frac{1}{x^2}(\\frac{3}{x^2}+\\frac{x}{x^2}+1)}{\\frac{1}{x^2}(\\frac{2x}{x^2}+4)}=\\lim\\limits_{x\\to\\infty}\\frac{\\frac{3}{x^2}+\\frac{1}{x}+1}{\\frac{2}{x}+4}=\\frac{1}{4}$$"
   ]
  },
  {
   "cell_type": "markdown",
   "id": "38de8d3e",
   "metadata": {},
   "source": [
    "$$\\lim\\limits_{x\\to0}\\frac{3x-6}{x^2+4}=-\\frac{6}{4}=-\\frac{3}{2}$$"
   ]
  },
  {
   "cell_type": "code",
   "execution_count": 10,
   "id": "c6df93bd",
   "metadata": {},
   "outputs": [],
   "source": [
    "from sympy import *\n",
    "x = symbols('x')"
   ]
  },
  {
   "cell_type": "code",
   "execution_count": 11,
   "id": "90713018",
   "metadata": {},
   "outputs": [
    {
     "data": {
      "text/latex": [
       "$\\displaystyle \\frac{1}{4}$"
      ],
      "text/plain": [
       "1/4"
      ]
     },
     "execution_count": 11,
     "metadata": {},
     "output_type": "execute_result"
    }
   ],
   "source": [
    "expr = (3+x+x**2)/(2*x+4*x**2)\n",
    "limit(expr,x , oo)"
   ]
  },
  {
   "cell_type": "code",
   "execution_count": 12,
   "id": "50f00a28",
   "metadata": {},
   "outputs": [
    {
     "data": {
      "text/latex": [
       "$\\displaystyle - \\frac{3}{2}$"
      ],
      "text/plain": [
       "-3/2"
      ]
     },
     "execution_count": 12,
     "metadata": {},
     "output_type": "execute_result"
    }
   ],
   "source": [
    "expr = (3*x-6)/(x**2+4)\n",
    "limit(expr,x , 0)"
   ]
  },
  {
   "cell_type": "markdown",
   "id": "4bcdb4d1",
   "metadata": {},
   "source": [
    "### Вычислите производные:"
   ]
  },
  {
   "cell_type": "markdown",
   "id": "60c03733",
   "metadata": {},
   "source": [
    "$$y=\\sin{x}$$\n",
    "$$y'=(\\sin{x})'=\\cos(x)$$"
   ]
  },
  {
   "cell_type": "code",
   "execution_count": 14,
   "id": "da74e30a",
   "metadata": {},
   "outputs": [
    {
     "data": {
      "text/latex": [
       "$\\displaystyle \\cos{\\left(x \\right)}$"
      ],
      "text/plain": [
       "cos(x)"
      ]
     },
     "execution_count": 14,
     "metadata": {},
     "output_type": "execute_result"
    }
   ],
   "source": [
    "expr = sin(x)\n",
    "diff(expr, x)"
   ]
  },
  {
   "cell_type": "markdown",
   "id": "845747ee",
   "metadata": {},
   "source": [
    "$$y=10x+3x^2$$\n",
    "$$y'=(10x+3x^2)'=(10x)'+(3x^2)'=10+6x$$"
   ]
  },
  {
   "cell_type": "code",
   "execution_count": 15,
   "id": "246fd62e",
   "metadata": {},
   "outputs": [
    {
     "data": {
      "text/latex": [
       "$\\displaystyle 6 x + 10$"
      ],
      "text/plain": [
       "6*x + 10"
      ]
     },
     "execution_count": 15,
     "metadata": {},
     "output_type": "execute_result"
    }
   ],
   "source": [
    "expr = 10*x+3*x**2\n",
    "diff(expr, x)"
   ]
  },
  {
   "cell_type": "markdown",
   "id": "090908ca",
   "metadata": {},
   "source": [
    "### Найдите интеграл:"
   ]
  },
  {
   "cell_type": "markdown",
   "id": "4d25e765",
   "metadata": {},
   "source": [
    "$$y=\\cos{x}$$\n",
    "$$\\int{\\cos{x} dx} = \\sin{x}+C$$\n"
   ]
  },
  {
   "cell_type": "code",
   "execution_count": 16,
   "id": "81161e3a",
   "metadata": {},
   "outputs": [
    {
     "data": {
      "text/latex": [
       "$\\displaystyle \\sin{\\left(x \\right)}$"
      ],
      "text/plain": [
       "sin(x)"
      ]
     },
     "execution_count": 16,
     "metadata": {},
     "output_type": "execute_result"
    }
   ],
   "source": [
    "expr = cos(x)\n",
    "integrate(expr, x)"
   ]
  },
  {
   "cell_type": "markdown",
   "id": "39b5f363",
   "metadata": {},
   "source": [
    "$$y=10x$$\n",
    "$$\\int{10x dx} = \\frac{10x^2}{2} +C = 5x^2+C$$\n"
   ]
  },
  {
   "cell_type": "code",
   "execution_count": 17,
   "id": "0756b0bd",
   "metadata": {},
   "outputs": [
    {
     "data": {
      "text/latex": [
       "$\\displaystyle 5 x^{2}$"
      ],
      "text/plain": [
       "5*x**2"
      ]
     },
     "execution_count": 17,
     "metadata": {},
     "output_type": "execute_result"
    }
   ],
   "source": [
    "expr = 10*x\n",
    "integrate(expr, x)"
   ]
  }
 ],
 "metadata": {
  "kernelspec": {
   "display_name": "Python 3 (ipykernel)",
   "language": "python",
   "name": "python3"
  },
  "language_info": {
   "codemirror_mode": {
    "name": "ipython",
    "version": 3
   },
   "file_extension": ".py",
   "mimetype": "text/x-python",
   "name": "python",
   "nbconvert_exporter": "python",
   "pygments_lexer": "ipython3",
   "version": "3.9.7"
  }
 },
 "nbformat": 4,
 "nbformat_minor": 5
}
