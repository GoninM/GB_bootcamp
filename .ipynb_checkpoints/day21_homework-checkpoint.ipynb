{
 "cells": [
  {
   "cell_type": "markdown",
   "id": "d1f2b817",
   "metadata": {},
   "source": [
    "### Вынесите пределы:"
   ]
  },
  {
   "cell_type": "markdown",
   "id": "a94a4d3f",
   "metadata": {},
   "source": [
    "$$\\lim\\limits_{x\\to\\infty}\\frac{3+x+x^2}{2x+4x^2}=\\lim\\limits_{x\\to\\infty}\\frac{\\frac{1}{x^2}(\\frac{3}{x^2}+\\frac{x}{x^2}+1)}{\\frac{1}{x^2}(\\frac{2x}{x^2}+4)}=\\lim\\limits_{x\\to\\infty}\\frac{\\frac{3}{x^2}+\\frac{1}{x}+1}{\\frac{2}{x}+4}=\\frac{1}{4}$$"
   ]
  },
  {
   "cell_type": "markdown",
   "id": "0f84ed51",
   "metadata": {},
   "source": [
    "$$\\lim\\limits_{x\\to0}\\frac{3x-6}{x^2+4}=-\\frac{6}{4}=-\\frac{3}{2}$$"
   ]
  },
  {
   "cell_type": "code",
   "execution_count": 10,
   "id": "1bb2890c",
   "metadata": {},
   "outputs": [],
   "source": [
    "from sympy import *\n",
    "x = symbols('x')"
   ]
  },
  {
   "cell_type": "code",
   "execution_count": 11,
   "id": "1ce95c63",
   "metadata": {},
   "outputs": [
    {
     "data": {
      "text/latex": [
       "$\\displaystyle \\frac{1}{4}$"
      ],
      "text/plain": [
       "1/4"
      ]
     },
     "execution_count": 11,
     "metadata": {},
     "output_type": "execute_result"
    }
   ],
   "source": [
    "expr = (3+x+x**2)/(2*x+4*x**2)\n",
    "limit(expr,x , oo)"
   ]
  },
  {
   "cell_type": "code",
   "execution_count": 12,
   "id": "ff849729",
   "metadata": {},
   "outputs": [
    {
     "data": {
      "text/latex": [
       "$\\displaystyle - \\frac{3}{2}$"
      ],
      "text/plain": [
       "-3/2"
      ]
     },
     "execution_count": 12,
     "metadata": {},
     "output_type": "execute_result"
    }
   ],
   "source": [
    "expr = (3*x-6)/(x**2+4)\n",
    "limit(expr,x , 0)"
   ]
  },
  {
   "cell_type": "markdown",
   "id": "2413ad3a",
   "metadata": {},
   "source": [
    "### Вычислите производные:"
   ]
  },
  {
   "cell_type": "markdown",
   "id": "9f0f5b72",
   "metadata": {},
   "source": [
    "$$y=\\sin{x}$$\n",
    "$$y'=(\\sin{x})'=\\cos(x)$$"
   ]
  },
  {
   "cell_type": "code",
   "execution_count": 14,
   "id": "84b504ba",
   "metadata": {},
   "outputs": [
    {
     "data": {
      "text/latex": [
       "$\\displaystyle \\cos{\\left(x \\right)}$"
      ],
      "text/plain": [
       "cos(x)"
      ]
     },
     "execution_count": 14,
     "metadata": {},
     "output_type": "execute_result"
    }
   ],
   "source": [
    "expr = sin(x)\n",
    "diff(expr, x)"
   ]
  },
  {
   "cell_type": "markdown",
   "id": "b02a5b8b",
   "metadata": {},
   "source": [
    "$$y=10x+3x^2$$\n",
    "$$y'=(10x+3x^2)'=(10x)'+(3x^2)'=10+6x$$"
   ]
  },
  {
   "cell_type": "code",
   "execution_count": 15,
   "id": "ddd9973c",
   "metadata": {},
   "outputs": [
    {
     "data": {
      "text/latex": [
       "$\\displaystyle 6 x + 10$"
      ],
      "text/plain": [
       "6*x + 10"
      ]
     },
     "execution_count": 15,
     "metadata": {},
     "output_type": "execute_result"
    }
   ],
   "source": [
    "expr = 10*x+3*x**2\n",
    "diff(expr, x)"
   ]
  },
  {
   "cell_type": "markdown",
   "id": "5c34f829",
   "metadata": {},
   "source": [
    "### Найдите интеграл:"
   ]
  },
  {
   "cell_type": "markdown",
   "id": "d1817471",
   "metadata": {},
   "source": [
    "$$y=\\cos{x}$$\n",
    "$$\\int{\\cos{x} dx} = \\sin{x}+C$$\n"
   ]
  },
  {
   "cell_type": "code",
   "execution_count": 16,
   "id": "1cf7eac1",
   "metadata": {},
   "outputs": [
    {
     "data": {
      "text/latex": [
       "$\\displaystyle \\sin{\\left(x \\right)}$"
      ],
      "text/plain": [
       "sin(x)"
      ]
     },
     "execution_count": 16,
     "metadata": {},
     "output_type": "execute_result"
    }
   ],
   "source": [
    "expr = cos(x)\n",
    "integrate(expr, x)"
   ]
  },
  {
   "cell_type": "markdown",
   "id": "dced74b4",
   "metadata": {},
   "source": [
    "$$y=10^x$$\n",
    "$$\\int{10^x dx} = \\frac{10^x}{\\ln(10)} +C$$\n"
   ]
  },
  {
   "cell_type": "code",
   "execution_count": 18,
   "id": "0876d2cb",
   "metadata": {},
   "outputs": [
    {
     "data": {
      "text/latex": [
       "$\\displaystyle \\frac{10^{x}}{\\log{\\left(10 \\right)}}$"
      ],
      "text/plain": [
       "10**x/log(10)"
      ]
     },
     "execution_count": 18,
     "metadata": {},
     "output_type": "execute_result"
    }
   ],
   "source": [
    "expr = 10**x\n",
    "integrate(expr, x)"
   ]
  }
 ],
 "metadata": {
  "kernelspec": {
   "display_name": "Python 3 (ipykernel)",
   "language": "python",
   "name": "python3"
  },
  "language_info": {
   "codemirror_mode": {
    "name": "ipython",
    "version": 3
   },
   "file_extension": ".py",
   "mimetype": "text/x-python",
   "name": "python",
   "nbconvert_exporter": "python",
   "pygments_lexer": "ipython3",
   "version": "3.9.7"
  }
 },
 "nbformat": 4,
 "nbformat_minor": 5
}
