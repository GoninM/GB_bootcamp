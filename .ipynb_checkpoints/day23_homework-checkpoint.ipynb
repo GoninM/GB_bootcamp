{
 "cells": [
  {
   "cell_type": "markdown",
   "id": "70c4eea6",
   "metadata": {
    "id": "70c4eea6"
   },
   "source": [
    "Задача 1.\n",
    "Предположим, мы хотим найти вероятность того, что на игральной кости при броске выпадет значение больше 4."
   ]
  },
  {
   "cell_type": "code",
   "execution_count": 1,
   "id": "46458864",
   "metadata": {
    "id": "46458864"
   },
   "outputs": [
    {
     "data": {
      "text/plain": [
       "0.3333333333333333"
      ]
     },
     "execution_count": 1,
     "metadata": {},
     "output_type": "execute_result"
    }
   ],
   "source": [
    "1/6 + 1/6"
   ]
  },
  {
   "cell_type": "markdown",
   "id": "4f48137e",
   "metadata": {
    "id": "4f48137e"
   },
   "source": [
    "Задача 2. Написать функцию для вычисления факториала и рассчитать число сочетаний из 6 по 2."
   ]
  },
  {
   "cell_type": "code",
   "execution_count": 2,
   "id": "00b864a2",
   "metadata": {
    "id": "00b864a2"
   },
   "outputs": [],
   "source": [
    "def fact(x):\n",
    "    if x == 0:\n",
    "        return 1\n",
    "    elif x == 1:\n",
    "        return 1\n",
    "    else:\n",
    "        return x*fact(x-1)\n"
   ]
  },
  {
   "cell_type": "code",
   "execution_count": 3,
   "id": "d0c90fd6",
   "metadata": {
    "id": "d0c90fd6"
   },
   "outputs": [
    {
     "data": {
      "text/plain": [
       "24"
      ]
     },
     "execution_count": 3,
     "metadata": {},
     "output_type": "execute_result"
    }
   ],
   "source": [
    "fact(4)"
   ]
  },
  {
   "cell_type": "code",
   "execution_count": 5,
   "id": "818dbe13",
   "metadata": {
    "id": "818dbe13"
   },
   "outputs": [],
   "source": [
    "def combinations(n, k):\n",
    "    return fact(n)/(fact(n-k)*fact(k))"
   ]
  },
  {
   "cell_type": "code",
   "execution_count": 6,
   "id": "8fc9d2b1",
   "metadata": {},
   "outputs": [
    {
     "data": {
      "text/plain": [
       "15.0"
      ]
     },
     "execution_count": 6,
     "metadata": {},
     "output_type": "execute_result"
    }
   ],
   "source": [
    "combinations(6,2)"
   ]
  },
  {
   "cell_type": "markdown",
   "id": "710a7b51",
   "metadata": {
    "id": "710a7b51"
   },
   "source": [
    "Задача 3. Из 30 стрелков 12 попадает в цель с вероятностью 0,6, 8 стрелков — с вероятностью 0,5, а 10 — с вероятностью 0,7. Наудачу выбранный стрелок произвёл выстрел, поразив цель.\n",
    "К какой из групп, вероятнее всего, принадлежал этот стрелок?"
   ]
  },
  {
   "cell_type": "code",
   "execution_count": 19,
   "id": "bf853584",
   "metadata": {
    "id": "bf853584"
   },
   "outputs": [],
   "source": [
    "N = 30\n",
    "n1 = 12\n",
    "pba1 = 0.6\n",
    "n2 = 8\n",
    "pba2 = 0.5\n",
    "n3 = 10\n",
    "pba3 = 0.7"
   ]
  },
  {
   "cell_type": "code",
   "execution_count": 20,
   "id": "18f95c60",
   "metadata": {},
   "outputs": [
    {
     "data": {
      "text/plain": [
       "0.4"
      ]
     },
     "execution_count": 20,
     "metadata": {},
     "output_type": "execute_result"
    }
   ],
   "source": [
    "pa1 = n1/N\n",
    "pa1"
   ]
  },
  {
   "cell_type": "code",
   "execution_count": 21,
   "id": "8a57bcf7",
   "metadata": {},
   "outputs": [
    {
     "data": {
      "text/plain": [
       "0.26666666666666666"
      ]
     },
     "execution_count": 21,
     "metadata": {},
     "output_type": "execute_result"
    }
   ],
   "source": [
    "pa2 = n2/N\n",
    "pa2"
   ]
  },
  {
   "cell_type": "code",
   "execution_count": 22,
   "id": "bf8093bb",
   "metadata": {},
   "outputs": [
    {
     "data": {
      "text/plain": [
       "0.3333333333333333"
      ]
     },
     "execution_count": 22,
     "metadata": {},
     "output_type": "execute_result"
    }
   ],
   "source": [
    "pa3 = n3/N\n",
    "pa3"
   ]
  },
  {
   "cell_type": "code",
   "execution_count": 23,
   "id": "53ec60d6",
   "metadata": {},
   "outputs": [
    {
     "data": {
      "text/plain": [
       "0.6066666666666666"
      ]
     },
     "execution_count": 23,
     "metadata": {},
     "output_type": "execute_result"
    }
   ],
   "source": [
    "PB = pa1*pba1 + pa2*pba2 + pa3*pba3\n",
    "PB"
   ]
  },
  {
   "cell_type": "code",
   "execution_count": 24,
   "id": "10ba8fa4",
   "metadata": {},
   "outputs": [
    {
     "data": {
      "text/plain": [
       "0.39560439560439564"
      ]
     },
     "execution_count": 24,
     "metadata": {},
     "output_type": "execute_result"
    }
   ],
   "source": [
    "Pab1 = pba1*pa1/PB\n",
    "Pab1"
   ]
  },
  {
   "cell_type": "code",
   "execution_count": 25,
   "id": "8013226d",
   "metadata": {},
   "outputs": [
    {
     "data": {
      "text/plain": [
       "0.2197802197802198"
      ]
     },
     "execution_count": 25,
     "metadata": {},
     "output_type": "execute_result"
    }
   ],
   "source": [
    "Pab2 = pba2*pa2/PB\n",
    "Pab2"
   ]
  },
  {
   "cell_type": "code",
   "execution_count": 26,
   "id": "2552930b",
   "metadata": {},
   "outputs": [
    {
     "data": {
      "text/plain": [
       "0.38461538461538464"
      ]
     },
     "execution_count": 26,
     "metadata": {},
     "output_type": "execute_result"
    }
   ],
   "source": [
    "Pab3 = pba3*pa3/PB\n",
    "Pab3"
   ]
  },
  {
   "cell_type": "code",
   "execution_count": 27,
   "id": "91bc069f",
   "metadata": {},
   "outputs": [],
   "source": [
    "# вероятнее из первой группы"
   ]
  },
  {
   "cell_type": "markdown",
   "id": "8091fdd1",
   "metadata": {
    "id": "8091fdd1"
   },
   "source": [
    "Задача 4. Сгенерировать выборку реализаций случайной величины (кроме распределения Коши).\n",
    "Любимое распределение можно выбрать на этом [сайте](https://docs.scipy.org/doc/scipy/reference/stats.html).\n",
    "Проверить ЦПТ для различных n."
   ]
  },
  {
   "cell_type": "code",
   "execution_count": 28,
   "id": "8bc6a63d",
   "metadata": {
    "id": "8bc6a63d"
   },
   "outputs": [],
   "source": [
    "from scipy.stats import expon"
   ]
  },
  {
   "cell_type": "code",
   "execution_count": 29,
   "id": "79d45f60",
   "metadata": {
    "id": "79d45f60"
   },
   "outputs": [],
   "source": [
    "import seaborn as sns"
   ]
  },
  {
   "cell_type": "code",
   "execution_count": 37,
   "id": "f6714755",
   "metadata": {},
   "outputs": [],
   "source": [
    "loc=3   #default: 0\n",
    "scale = 2   #default: 1"
   ]
  },
  {
   "cell_type": "code",
   "execution_count": null,
   "id": "ebef611f",
   "metadata": {},
   "outputs": [],
   "source": []
  },
  {
   "cell_type": "code",
   "execution_count": 36,
   "id": "315631c0",
   "metadata": {},
   "outputs": [],
   "source": [
    "expon?"
   ]
  },
  {
   "cell_type": "code",
   "execution_count": 30,
   "id": "01831c54",
   "metadata": {
    "id": "01831c54"
   },
   "outputs": [
    {
     "ename": "NameError",
     "evalue": "name 'r' is not defined",
     "output_type": "error",
     "traceback": [
      "\u001b[1;31m---------------------------------------------------------------------------\u001b[0m",
      "\u001b[1;31mNameError\u001b[0m                                 Traceback (most recent call last)",
      "\u001b[1;32m~\\AppData\\Local\\Temp/ipykernel_21236/2412738418.py\u001b[0m in \u001b[0;36m<module>\u001b[1;34m\u001b[0m\n\u001b[1;32m----> 1\u001b[1;33m \u001b[0msns\u001b[0m\u001b[1;33m.\u001b[0m\u001b[0mdistplot\u001b[0m\u001b[1;33m(\u001b[0m\u001b[0mr\u001b[0m\u001b[1;33m)\u001b[0m\u001b[1;33m\u001b[0m\u001b[1;33m\u001b[0m\u001b[0m\n\u001b[0m",
      "\u001b[1;31mNameError\u001b[0m: name 'r' is not defined"
     ]
    }
   ],
   "source": [
    "sns.distplot(r)"
   ]
  },
  {
   "cell_type": "code",
   "execution_count": 35,
   "id": "d4056ccb",
   "metadata": {},
   "outputs": [],
   "source": [
    "sns.distplot?"
   ]
  },
  {
   "cell_type": "code",
   "execution_count": 31,
   "id": "db4dcded",
   "metadata": {
    "id": "db4dcded"
   },
   "outputs": [],
   "source": [
    "from scipy import stats"
   ]
  },
  {
   "cell_type": "code",
   "execution_count": 32,
   "id": "33535a16",
   "metadata": {
    "id": "33535a16"
   },
   "outputs": [],
   "source": [
    "import numpy as np"
   ]
  },
  {
   "cell_type": "code",
   "execution_count": 33,
   "id": "a8ea54c7",
   "metadata": {
    "id": "a8ea54c7"
   },
   "outputs": [],
   "source": [
    "a1=[]\n",
    "for _ in range(10):\n",
    "    a1.append(expon.rvs(size=100).mean())"
   ]
  },
  {
   "cell_type": "code",
   "execution_count": 34,
   "id": "b42e5927",
   "metadata": {
    "id": "b42e5927"
   },
   "outputs": [
    {
     "name": "stderr",
     "output_type": "stream",
     "text": [
      "C:\\Users\\goninm\\Anaconda3\\lib\\site-packages\\seaborn\\distributions.py:2619: FutureWarning: `distplot` is a deprecated function and will be removed in a future version. Please adapt your code to use either `displot` (a figure-level function with similar flexibility) or `histplot` (an axes-level function for histograms).\n",
      "  warnings.warn(msg, FutureWarning)\n"
     ]
    },
    {
     "data": {
      "text/plain": [
       "<AxesSubplot:ylabel='Density'>"
      ]
     },
     "execution_count": 34,
     "metadata": {},
     "output_type": "execute_result"
    },
    {
     "data": {
      "image/png": "[encoded data removed]",
      "text/plain": [
       "<Figure size 432x288 with 1 Axes>"
      ]
     },
     "metadata": {
      "needs_background": "light"
     },
     "output_type": "display_data"
    }
   ],
   "source": [
    "sns.distplot(a1)"
   ]
  },
  {
   "cell_type": "code",
   "execution_count": null,
   "id": "61a8bb90",
   "metadata": {
    "id": "61a8bb90"
   },
   "outputs": [],
   "source": [
    "stats.anderson(a1)"
   ]
  },
  {
   "cell_type": "markdown",
   "id": "966dc077",
   "metadata": {
    "id": "966dc077"
   },
   "source": [
    "Задача 5. Попробовать применить ЦПТ к распределению Коши."
   ]
  },
  {
   "cell_type": "code",
   "execution_count": null,
   "id": "a2bcd5bf",
   "metadata": {
    "id": "a2bcd5bf"
   },
   "outputs": [],
   "source": [
    "from scipy.stats import cauchy"
   ]
  },
  {
   "cell_type": "code",
   "execution_count": null,
   "id": "ee5c8e76",
   "metadata": {
    "id": "ee5c8e76"
   },
   "outputs": [],
   "source": [
    "a6=[]\n",
    "for _ in range(100000):\n",
    "    a6.append(cauchy.rvs(size=1000).mean())"
   ]
  },
  {
   "cell_type": "code",
   "execution_count": null,
   "id": "56988472",
   "metadata": {
    "id": "56988472"
   },
   "outputs": [],
   "source": [
    "sns.distplot(np.array(a6))"
   ]
  },
  {
   "cell_type": "code",
   "execution_count": null,
   "id": "eb52f970",
   "metadata": {
    "id": "eb52f970"
   },
   "outputs": [],
   "source": [
    "stats.anderson(np.array(a6))"
   ]
  },
  {
   "cell_type": "markdown",
   "id": "c5d9ce87",
   "metadata": {
    "id": "c5d9ce87"
   },
   "source": [
    "Задача 6. Посчитать основные характеристики выборки."
   ]
  },
  {
   "cell_type": "code",
   "execution_count": null,
   "id": "d0a1b5cb",
   "metadata": {
    "id": "d0a1b5cb"
   },
   "outputs": [],
   "source": [
    "a5rr=np.array(a5)"
   ]
  },
  {
   "cell_type": "code",
   "execution_count": null,
   "id": "f510acaf",
   "metadata": {
    "id": "f510acaf"
   },
   "outputs": [],
   "source": [
    "np.min(a5rr), np.max(a5rr), np.mean(a5rr), np.std(a5rr)"
   ]
  },
  {
   "cell_type": "markdown",
   "id": "12d2c149",
   "metadata": {
    "id": "12d2c149"
   },
   "source": [
    "Задача 7. Посчитать коэффициент корреляции для двух векторов."
   ]
  },
  {
   "cell_type": "code",
   "execution_count": null,
   "id": "539da35b",
   "metadata": {
    "id": "539da35b"
   },
   "outputs": [],
   "source": [
    "a6rr=np.array(a6)"
   ]
  },
  {
   "cell_type": "code",
   "execution_count": null,
   "id": "b2f3738a",
   "metadata": {
    "id": "b2f3738a"
   },
   "outputs": [],
   "source": [
    "len(a5), len(a6)"
   ]
  },
  {
   "cell_type": "code",
   "execution_count": null,
   "id": "9bd26c09",
   "metadata": {
    "id": "9bd26c09"
   },
   "outputs": [],
   "source": [
    "np.corrcoef(a5rr, a6rr)"
   ]
  },
  {
   "cell_type": "code",
   "execution_count": null,
   "id": "99b9bf3c",
   "metadata": {
    "id": "99b9bf3c"
   },
   "outputs": [],
   "source": []
  }
 ],
 "metadata": {
  "colab": {
   "provenance": []
  },
  "kernelspec": {
   "display_name": "Python 3 (ipykernel)",
   "language": "python",
   "name": "python3"
  },
  "language_info": {
   "codemirror_mode": {
    "name": "ipython",
    "version": 3
   },
   "file_extension": ".py",
   "mimetype": "text/x-python",
   "name": "python",
   "nbconvert_exporter": "python",
   "pygments_lexer": "ipython3",
   "version": "3.9.7"
  }
 },
 "nbformat": 4,
 "nbformat_minor": 5
}
