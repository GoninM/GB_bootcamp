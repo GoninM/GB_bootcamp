{
 "cells": [
  {
   "cell_type": "markdown",
   "id": "fab344ae",
   "metadata": {},
   "source": [
    "### Найти A + B:"
   ]
  },
  {
   "cell_type": "markdown",
   "id": "cba17e37",
   "metadata": {},
   "source": [
    "$A =\\begin{pmatrix}\n",
    "1 & 3 & 0\\\\\n",
    "2 & -4 & 3\\\\\n",
    "5 & 6 & 9\n",
    "\\end{pmatrix}$\n",
    "\n",
    "$B =\\begin{pmatrix}\n",
    "10 & 6 & -2\\\\\n",
    "0 & 7 & 4\\\\\n",
    "-1 & 2 & 0\n",
    "\\end{pmatrix}$\n",
    "\n",
    "\n",
    "$C = A + B = \\begin{pmatrix}\n",
    "{1+10} & {3+6} & {0+(-2)}\\\\\n",
    "{2+0} & {-4+7} & {3+4}\\\\\n",
    "{5+(-1)} & {6+2} & {9+0}\n",
    "\\end{pmatrix} \n",
    "=\\begin{pmatrix}\n",
    "{11} & {9} & {-2}\\\\\n",
    "{2} & {3} & {7}\\\\\n",
    "{4} & {8} & {9}\n",
    "\\end{pmatrix}$"
   ]
  },
  {
   "cell_type": "code",
   "execution_count": 2,
   "id": "d5e8081f",
   "metadata": {},
   "outputs": [],
   "source": [
    "import numpy as np"
   ]
  },
  {
   "cell_type": "code",
   "execution_count": 4,
   "id": "b57e76c9",
   "metadata": {},
   "outputs": [
    {
     "data": {
      "text/plain": [
       "matrix([[ 1,  3,  0],\n",
       "        [ 2, -4,  3],\n",
       "        [ 5,  6,  9]])"
      ]
     },
     "execution_count": 4,
     "metadata": {},
     "output_type": "execute_result"
    }
   ],
   "source": [
    "A=np.matrix([[1,3,0],[2,-4,3],[5,6,9]])\n",
    "A"
   ]
  },
  {
   "cell_type": "code",
   "execution_count": 5,
   "id": "2a1f4b50",
   "metadata": {},
   "outputs": [
    {
     "data": {
      "text/plain": [
       "matrix([[10,  6, -2],\n",
       "        [ 0,  7,  4],\n",
       "        [-1,  2,  0]])"
      ]
     },
     "execution_count": 5,
     "metadata": {},
     "output_type": "execute_result"
    }
   ],
   "source": [
    "B=np.matrix([[10,6,-2],[0,7,4],[-1,2,0]])\n",
    "B"
   ]
  },
  {
   "cell_type": "code",
   "execution_count": 6,
   "id": "c4068c06",
   "metadata": {},
   "outputs": [
    {
     "data": {
      "text/plain": [
       "matrix([[11,  9, -2],\n",
       "        [ 2,  3,  7],\n",
       "        [ 4,  8,  9]])"
      ]
     },
     "execution_count": 6,
     "metadata": {},
     "output_type": "execute_result"
    }
   ],
   "source": [
    "C=A+B\n",
    "C"
   ]
  },
  {
   "cell_type": "markdown",
   "id": "c03a727d",
   "metadata": {},
   "source": [
    "### Найти A * B:"
   ]
  },
  {
   "cell_type": "markdown",
   "id": "86de05d4",
   "metadata": {},
   "source": [
    "$A =\\begin{pmatrix}\n",
    "2 & 8\\\\\n",
    "3 & 4\n",
    "\\end{pmatrix}$\n",
    "\n",
    "$B =\\begin{pmatrix}\n",
    "1 & 0\\\\\n",
    "4 & 9\n",
    "\\end{pmatrix}$\n",
    "\n",
    "\n",
    "$C = A * B = \\begin{pmatrix}\n",
    "{2*1+8*4} & {2*0+8*9}\\\\\n",
    "{3*1+4*4} & {3*0+4*9}\n",
    "\\end{pmatrix} \n",
    "=\\begin{pmatrix}\n",
    "{34} & {72}\\\\\n",
    "{19} & {36}\n",
    "\\end{pmatrix}$"
   ]
  },
  {
   "cell_type": "code",
   "execution_count": 8,
   "id": "f0dded3f",
   "metadata": {},
   "outputs": [
    {
     "data": {
      "text/plain": [
       "matrix([[2, 8],\n",
       "        [3, 4]])"
      ]
     },
     "execution_count": 8,
     "metadata": {},
     "output_type": "execute_result"
    }
   ],
   "source": [
    "A=np.matrix([[2,8],[3,4]])\n",
    "A"
   ]
  },
  {
   "cell_type": "code",
   "execution_count": 9,
   "id": "05d1c7a5",
   "metadata": {},
   "outputs": [
    {
     "data": {
      "text/plain": [
       "matrix([[1, 0],\n",
       "        [4, 9]])"
      ]
     },
     "execution_count": 9,
     "metadata": {},
     "output_type": "execute_result"
    }
   ],
   "source": [
    "B=np.matrix([[1,0],[4,9]])\n",
    "B"
   ]
  },
  {
   "cell_type": "code",
   "execution_count": 10,
   "id": "659c9353",
   "metadata": {},
   "outputs": [
    {
     "data": {
      "text/plain": [
       "matrix([[34, 72],\n",
       "        [19, 36]])"
      ]
     },
     "execution_count": 10,
     "metadata": {},
     "output_type": "execute_result"
    }
   ],
   "source": [
    "C=A*B\n",
    "C"
   ]
  },
  {
   "cell_type": "markdown",
   "id": "1646b996",
   "metadata": {},
   "source": [
    "### Вычислить определители:"
   ]
  },
  {
   "cell_type": "markdown",
   "id": "3a51bf37",
   "metadata": {},
   "source": [
    "$det\\begin{pmatrix}\n",
    "3 & 7\\\\\n",
    "6 & 9\n",
    "\\end{pmatrix}=3*9-7*6=-15$"
   ]
  },
  {
   "cell_type": "code",
   "execution_count": 11,
   "id": "c32bfea9",
   "metadata": {},
   "outputs": [
    {
     "data": {
      "text/plain": [
       "matrix([[3, 7],\n",
       "        [6, 9]])"
      ]
     },
     "execution_count": 11,
     "metadata": {},
     "output_type": "execute_result"
    }
   ],
   "source": [
    "A=np.matrix([[3,7],[6,9]])\n",
    "A"
   ]
  },
  {
   "cell_type": "code",
   "execution_count": 12,
   "id": "8067e059",
   "metadata": {},
   "outputs": [
    {
     "data": {
      "text/plain": [
       "-15.0"
      ]
     },
     "execution_count": 12,
     "metadata": {},
     "output_type": "execute_result"
    }
   ],
   "source": [
    "np.linalg.det(A)"
   ]
  },
  {
   "cell_type": "markdown",
   "id": "65c902b0",
   "metadata": {},
   "source": [
    "$det\\begin{pmatrix}\n",
    "4 & 1 & 9\\\\\n",
    "3 & 2 & 0\\\\\n",
    "8 & 7 & 5\n",
    "\\end{pmatrix}=4*2*5 + 1*0*8 + 9*3*7 - 9*2*8 - 4*7*0 - 1*3*5 = 40 + 0 + 189 - 144 - 0 - 15 = 70$"
   ]
  },
  {
   "cell_type": "code",
   "execution_count": 13,
   "id": "88f7b7dd",
   "metadata": {},
   "outputs": [
    {
     "data": {
      "text/plain": [
       "matrix([[4, 1, 9],\n",
       "        [3, 2, 0],\n",
       "        [8, 7, 5]])"
      ]
     },
     "execution_count": 13,
     "metadata": {},
     "output_type": "execute_result"
    }
   ],
   "source": [
    "A=np.matrix([[4,1,9],[3,2,0],[8,7,5]])\n",
    "A"
   ]
  },
  {
   "cell_type": "code",
   "execution_count": 14,
   "id": "01b3ee46",
   "metadata": {},
   "outputs": [
    {
     "data": {
      "text/plain": [
       "69.99999999999996"
      ]
     },
     "execution_count": 14,
     "metadata": {},
     "output_type": "execute_result"
    }
   ],
   "source": [
    "np.linalg.det(A)"
   ]
  },
  {
   "cell_type": "code",
   "execution_count": null,
   "id": "278e66f9",
   "metadata": {},
   "outputs": [],
   "source": []
  }
 ],
 "metadata": {
  "kernelspec": {
   "display_name": "Python 3 (ipykernel)",
   "language": "python",
   "name": "python3"
  },
  "language_info": {
   "codemirror_mode": {
    "name": "ipython",
    "version": 3
   },
   "file_extension": ".py",
   "mimetype": "text/x-python",
   "name": "python",
   "nbconvert_exporter": "python",
   "pygments_lexer": "ipython3",
   "version": "3.9.7"
  }
 },
 "nbformat": 4,
 "nbformat_minor": 5
}
